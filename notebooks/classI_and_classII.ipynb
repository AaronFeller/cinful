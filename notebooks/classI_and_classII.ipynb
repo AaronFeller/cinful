{
 "metadata": {
  "language_info": {
   "codemirror_mode": {
    "name": "ipython",
    "version": 3
   },
   "file_extension": ".py",
   "mimetype": "text/x-python",
   "name": "python",
   "nbconvert_exporter": "python",
   "pygments_lexer": "ipython3",
   "version": "3.8.8-final"
  },
  "orig_nbformat": 2,
  "kernelspec": {
   "name": "python3",
   "display_name": "Python 3",
   "language": "python"
  }
 },
 "nbformat": 4,
 "nbformat_minor": 2,
 "cells": [
  {
   "source": [
    "# Libraries"
   ],
   "cell_type": "markdown",
   "metadata": {}
  },
  {
   "cell_type": "code",
   "execution_count": 1,
   "metadata": {},
   "outputs": [],
   "source": [
    "import random\n",
    "from Bio import SeqIO\n",
    "from sklearn.model_selection import train_test_split\n",
    "from sklearn.metrics import matthews_corrcoef\n",
    "from sklearn.metrics import confusion_matrix\n",
    "from sklearn.metrics import classification_report\n",
    "from sklearn.metrics import plot_roc_curve\n",
    "from sklearn.metrics import roc_auc_score\n",
    "from sklearn.ensemble import RandomForestClassifier\n",
    "\n",
    "from sklearn.experimental import enable_halving_search_cv  # noqa\n",
    "from sklearn.model_selection import HalvingRandomSearchCV\n",
    "from scipy.stats import randint\n",
    "\n",
    "import matplotlib.pyplot as plt\n",
    "\n",
    "\n",
    "import pandas as pd\n"
   ]
  },
  {
   "source": [
    "# Random forest models to detect signal sequence in microcins\n",
    "\n",
    "There are only 10 verified microcin sequences, they all have a signal sequence, but tools like SignalP are unable to correctly identify their signal sequence. Microcins are specific to gram-negative bacteria, but they belong to a broader protein family known as Bacteriocins which are expressed by gram-positive bacteria. \n",
    "\n",
    "To create a microcin signal sequence classifier, I will be using Bacteriocin sequences from the BAGEL database. They split Bacteriocins into classes I, II, or III. I took their data and filtered only sequences greater than 30 AA with Methionine as the first AA, and to also have nonredundant sequences. For whatever reason, microcins are grouped into two different bacteriocin classes, but they are included in the BAGEL dataset, so  I identified them and removed them. I then took those sequences and used duomolog to identify sequences similar to the verified microcins. \n",
    "\n",
    "\n",
    "\n",
    "## Bacteriocin summary\n",
    "\n",
    "class |total sequences | microcins | microcin duomologs\n",
    "------|----------------|-----------|-------------------\n",
    "I     |483             |6          |6\n",
    "II    |161             |2          |109\n",
    "III   |61              |0          |0 \n",
    "\n",
    "So class III seems to be the most dissimilar to to microcins. I will set it aside and use it as my test negative dataset, if the final model classifies them as microcins, they will be false positives. Class II appears to be the most similar to microcins, so it will serve as the positive dataset.\n",
    "\n",
    "The verified set of microcins will also be set aside, since their is so few of them, it would be great if I could get a model to correctly classify them without them being included in the training data, they will serve as my positive test dataset. \n",
    "\n",
    "Class I (minus the 6 microcins, and 6 microcin duomologs) will have a total of 471 sequences, this will serve as my negative training set. Class II (minus the 6 microcins) will be the positive dataset.\n",
    "\n",
    "## Load data\n",
    "\n"
   ],
   "cell_type": "markdown",
   "metadata": {}
  },
  {
   "cell_type": "code",
   "execution_count": 2,
   "metadata": {},
   "outputs": [],
   "source": [
    "def fasta_to_pd(faFile):\n",
    "    outDict = {\"header\":[],\"seq\":[]}\n",
    "    seqs = SeqIO.parse(faFile, \"fasta\")\n",
    "    for record in seqs:\n",
    "        outDict[\"header\"].append(record.id)\n",
    "        outDict[\"seq\"].append(str(record.seq))\n",
    "    outDF = pd.DataFrame.from_dict(outDict)\n",
    "    return outDF"
   ]
  },
  {
   "cell_type": "code",
   "execution_count": 18,
   "metadata": {},
   "outputs": [],
   "source": [
    "test_positive = \"../data/microcins/verified_microcins.faa\"\n",
    "test_negative_classIII = \"../data/BAGEL/classIII.startM_len30.fa\"\n",
    "\n",
    "train_negative_classI = \"../data/BAGEL/classI.startM_len30.noMicrocins.noDuomologs.fa\"\n",
    "train_positive_classII = \"../data/BAGEL/classII.startM_len30.noMicrocins.fa\""
   ]
  },
  {
   "source": [
    "My goal is to set the test datasets entirely aside, and not evaluate them until the final models are ready."
   ],
   "cell_type": "markdown",
   "metadata": {}
  },
  {
   "cell_type": "code",
   "execution_count": 19,
   "metadata": {},
   "outputs": [],
   "source": [
    "train_negative_classI_DF = fasta_to_pd(train_negative_classI)\n",
    "train_positive_classII_DF = fasta_to_pd(train_positive_classII)"
   ]
  },
  {
   "source": [
    "train_negative_classI_DF"
   ],
   "cell_type": "code",
   "metadata": {},
   "execution_count": 20,
   "outputs": [
    {
     "output_type": "execute_result",
     "data": {
      "text/plain": [
       "                        header  \\\n",
       "0                   Capistruin   \n",
       "1                  Chaxapeptin   \n",
       "2               Enterocin_F4-9   \n",
       "3                 Caulonodin_V   \n",
       "4                 Gassericin_E   \n",
       "..                         ...   \n",
       "469  class_I_lanthipeptide_074   \n",
       "470  class_I_lanthipeptide_075   \n",
       "471  class_I_lanthipeptide_076   \n",
       "472  class_I_lanthipeptide_077   \n",
       "473  class_I_lanthipeptide_078   \n",
       "\n",
       "                                                   seq  \n",
       "0      MVRLLAKLLRSTIHGSNGVSLDAVSSTHGTPGFQTPDARVISRFGFN  \n",
       "1         MEPQMTELQPEAYEAPSLIEVGEFSEDTLGFGSKPLDSFGLNFF  \n",
       "2    MGNSILNKMTVEEMEAVKGGNLVCPPMPDYIKRLSTGKGVSSVYMA...  \n",
       "3             MTQVSPSPLRLIRVGRALDLTRSIGDSGLRESMSSQTYWP  \n",
       "4    MKNFNTLSFETLANIVGGRNNLAANIGGVGGATVAGWALGNAVCGP...  \n",
       "..                                                 ...  \n",
       "469  MKKVKKLSLKKEKISSLTNSDMQSIKGGLGDPTAKTAPGSAGSSNH...  \n",
       "470  MKTNKFSALQLNKKSIARLNDGQLTSVKGGNRGNQLEDNCTNGGIT...  \n",
       "471  MEKKKIQLKNSKLSLKKESVANLSNQDMASLRGGEGGSTCHKVTCS...  \n",
       "472  MKSNPFSKLKLNKKSVAKLNKAQLSTVKGGKVVPTQDLNCTELGVT...  \n",
       "473  MNKLNLNKETISQMDNNEMASVNGGLDICIVSCKRSTRLGKDCCED...  \n",
       "\n",
       "[474 rows x 2 columns]"
      ],
      "text/html": "<div>\n<style scoped>\n    .dataframe tbody tr th:only-of-type {\n        vertical-align: middle;\n    }\n\n    .dataframe tbody tr th {\n        vertical-align: top;\n    }\n\n    .dataframe thead th {\n        text-align: right;\n    }\n</style>\n<table border=\"1\" class=\"dataframe\">\n  <thead>\n    <tr style=\"text-align: right;\">\n      <th></th>\n      <th>header</th>\n      <th>seq</th>\n    </tr>\n  </thead>\n  <tbody>\n    <tr>\n      <th>0</th>\n      <td>Capistruin</td>\n      <td>MVRLLAKLLRSTIHGSNGVSLDAVSSTHGTPGFQTPDARVISRFGFN</td>\n    </tr>\n    <tr>\n      <th>1</th>\n      <td>Chaxapeptin</td>\n      <td>MEPQMTELQPEAYEAPSLIEVGEFSEDTLGFGSKPLDSFGLNFF</td>\n    </tr>\n    <tr>\n      <th>2</th>\n      <td>Enterocin_F4-9</td>\n      <td>MGNSILNKMTVEEMEAVKGGNLVCPPMPDYIKRLSTGKGVSSVYMA...</td>\n    </tr>\n    <tr>\n      <th>3</th>\n      <td>Caulonodin_V</td>\n      <td>MTQVSPSPLRLIRVGRALDLTRSIGDSGLRESMSSQTYWP</td>\n    </tr>\n    <tr>\n      <th>4</th>\n      <td>Gassericin_E</td>\n      <td>MKNFNTLSFETLANIVGGRNNLAANIGGVGGATVAGWALGNAVCGP...</td>\n    </tr>\n    <tr>\n      <th>...</th>\n      <td>...</td>\n      <td>...</td>\n    </tr>\n    <tr>\n      <th>469</th>\n      <td>class_I_lanthipeptide_074</td>\n      <td>MKKVKKLSLKKEKISSLTNSDMQSIKGGLGDPTAKTAPGSAGSSNH...</td>\n    </tr>\n    <tr>\n      <th>470</th>\n      <td>class_I_lanthipeptide_075</td>\n      <td>MKTNKFSALQLNKKSIARLNDGQLTSVKGGNRGNQLEDNCTNGGIT...</td>\n    </tr>\n    <tr>\n      <th>471</th>\n      <td>class_I_lanthipeptide_076</td>\n      <td>MEKKKIQLKNSKLSLKKESVANLSNQDMASLRGGEGGSTCHKVTCS...</td>\n    </tr>\n    <tr>\n      <th>472</th>\n      <td>class_I_lanthipeptide_077</td>\n      <td>MKSNPFSKLKLNKKSVAKLNKAQLSTVKGGKVVPTQDLNCTELGVT...</td>\n    </tr>\n    <tr>\n      <th>473</th>\n      <td>class_I_lanthipeptide_078</td>\n      <td>MNKLNLNKETISQMDNNEMASVNGGLDICIVSCKRSTRLGKDCCED...</td>\n    </tr>\n  </tbody>\n</table>\n<p>474 rows × 2 columns</p>\n</div>"
     },
     "metadata": {},
     "execution_count": 20
    }
   ]
  },
  {
   "cell_type": "code",
   "execution_count": 21,
   "metadata": {},
   "outputs": [
    {
     "output_type": "execute_result",
     "data": {
      "text/plain": [
       "                             header  \\\n",
       "0                      Abp118_alpha   \n",
       "1                   AcdB_acidocin_B   \n",
       "2                     Acidocin_8912   \n",
       "3    Acidocin_LF221B(GassericinK7B)   \n",
       "4                         AcidocinA   \n",
       "..                              ...   \n",
       "150                          UviB_2   \n",
       "151                          UviB_3   \n",
       "152                  Weissellicin_Y   \n",
       "153                   Pentocin_KCA1   \n",
       "154             BlpD_Thermophilin_9   \n",
       "\n",
       "                                                   seq  \n",
       "0    MMKEFTVLTECELAKVDGGKRGPNCVGNFLGGLFAGAAAGVPLGPA...  \n",
       "1    MDKKTKILFEVLYIICIIGPQFILFVTAKNNMYQLVGSFVGIVWFS...  \n",
       "2       MISSHQKTLTDKELALISGGKTHYPTNAWKSLWKGFWESLRYTDGF  \n",
       "3    MALKTLEKHELRNVMGGNKWGNAVIGAATGATRGVSWCRGFGPWGM...  \n",
       "4    MISMISSHQKTLTDKELALISGGKTYYGTNGVHCTKKSLWGKVRLK...  \n",
       "..                                                 ...  \n",
       "150  MEEQIFNSMIQQGAFAALFVWMLFTTQKKNEQREEQYQKVIEKNQD...  \n",
       "151  MDSELFKLMATQGAFAILFSYLLFYVLKENSKREDKYQNIIEELTE...  \n",
       "152                MANIVLRVGSVAYNYAPKIFKWIGEGVSYNQIIKW  \n",
       "153  MVLNLKERLQLNRIEAVVLVALFAAVLLFATVNIVWLANKFGVHLT...  \n",
       "154  MATQTIENFNTLDLETLASVEGGLSCDEGMLAVGGLGAVGGPWGAV...  \n",
       "\n",
       "[155 rows x 2 columns]"
      ],
      "text/html": "<div>\n<style scoped>\n    .dataframe tbody tr th:only-of-type {\n        vertical-align: middle;\n    }\n\n    .dataframe tbody tr th {\n        vertical-align: top;\n    }\n\n    .dataframe thead th {\n        text-align: right;\n    }\n</style>\n<table border=\"1\" class=\"dataframe\">\n  <thead>\n    <tr style=\"text-align: right;\">\n      <th></th>\n      <th>header</th>\n      <th>seq</th>\n    </tr>\n  </thead>\n  <tbody>\n    <tr>\n      <th>0</th>\n      <td>Abp118_alpha</td>\n      <td>MMKEFTVLTECELAKVDGGKRGPNCVGNFLGGLFAGAAAGVPLGPA...</td>\n    </tr>\n    <tr>\n      <th>1</th>\n      <td>AcdB_acidocin_B</td>\n      <td>MDKKTKILFEVLYIICIIGPQFILFVTAKNNMYQLVGSFVGIVWFS...</td>\n    </tr>\n    <tr>\n      <th>2</th>\n      <td>Acidocin_8912</td>\n      <td>MISSHQKTLTDKELALISGGKTHYPTNAWKSLWKGFWESLRYTDGF</td>\n    </tr>\n    <tr>\n      <th>3</th>\n      <td>Acidocin_LF221B(GassericinK7B)</td>\n      <td>MALKTLEKHELRNVMGGNKWGNAVIGAATGATRGVSWCRGFGPWGM...</td>\n    </tr>\n    <tr>\n      <th>4</th>\n      <td>AcidocinA</td>\n      <td>MISMISSHQKTLTDKELALISGGKTYYGTNGVHCTKKSLWGKVRLK...</td>\n    </tr>\n    <tr>\n      <th>...</th>\n      <td>...</td>\n      <td>...</td>\n    </tr>\n    <tr>\n      <th>150</th>\n      <td>UviB_2</td>\n      <td>MEEQIFNSMIQQGAFAALFVWMLFTTQKKNEQREEQYQKVIEKNQD...</td>\n    </tr>\n    <tr>\n      <th>151</th>\n      <td>UviB_3</td>\n      <td>MDSELFKLMATQGAFAILFSYLLFYVLKENSKREDKYQNIIEELTE...</td>\n    </tr>\n    <tr>\n      <th>152</th>\n      <td>Weissellicin_Y</td>\n      <td>MANIVLRVGSVAYNYAPKIFKWIGEGVSYNQIIKW</td>\n    </tr>\n    <tr>\n      <th>153</th>\n      <td>Pentocin_KCA1</td>\n      <td>MVLNLKERLQLNRIEAVVLVALFAAVLLFATVNIVWLANKFGVHLT...</td>\n    </tr>\n    <tr>\n      <th>154</th>\n      <td>BlpD_Thermophilin_9</td>\n      <td>MATQTIENFNTLDLETLASVEGGLSCDEGMLAVGGLGAVGGPWGAV...</td>\n    </tr>\n  </tbody>\n</table>\n<p>155 rows × 2 columns</p>\n</div>"
     },
     "metadata": {},
     "execution_count": 21
    }
   ],
   "source": [
    "train_positive_classII_DF"
   ]
  },
  {
   "source": [
    "# Data preperation\n",
    "\n",
    "I will be building random forest models using the first 15 amino acid sequences from the negative and positive dataset converted to Atchley factors.\n",
    "\n",
    "I'll make a function that yields a list of set of nonredundant 15mer sequences from the N-terminal."
   ],
   "cell_type": "markdown",
   "metadata": {}
  },
  {
   "cell_type": "code",
   "execution_count": 30,
   "metadata": {},
   "outputs": [
    {
     "output_type": "stream",
     "name": "stdout",
     "text": [
      "pos:141\nneg:377\n"
     ]
    }
   ],
   "source": [
    "def getNterm15(fastaDF):\n",
    "    Nterm15 = set()\n",
    "    for seq in fastaDF[\"seq\"]:\n",
    "        if len(seq) <16:\n",
    "            sys.exit(\"All sequences must be > 16aa\")\n",
    "        Nterm15.add(seq[1:16])\n",
    "    return Nterm15\n",
    "\n",
    "positive_Nterm15 = getNterm15(train_positive_classII_DF)\n",
    "negative_Nterm15 = getNterm15(train_negative_classI_DF)\n",
    "print(f\"pos:{len(positive_Nterm15)}\\nneg:{len(negative_Nterm15)}\")"
   ]
  },
  {
   "source": [
    "Now we will take those peptides and form a dataframe of Atchley factors\n",
    "\n",
    "# Atchley factors\n",
    "\n",
    "The following is a dictionary of the five Atchley factors for each of the 20 amino acids, X and other ambiguity codes/ nonnatural amino acid sequences are given the same value, which represent the average. This could certainly be updated to be somewhat more realistic, it is rare in actual datasets, so it mostly serves as to prevent key errors.\n"
   ],
   "cell_type": "markdown",
   "metadata": {}
  },
  {
   "cell_type": "code",
   "execution_count": 26,
   "metadata": {},
   "outputs": [],
   "source": [
    "class Factors():\n",
    "    def __init__(self):\n",
    "        self.Atchley = {\n",
    "            \"A\":[-0.59,-1.30,-0.73,1.57,-0.15],\n",
    "            \"C\":[-1.34,0.47,-0.86,-1.02,-0.26],\n",
    "            \"D\":[1.05,0.30,-3.66,-0.26,-3.24],\n",
    "            \"E\":[1.36,-1.45,1.48,0.11,-0.84],\n",
    "            \"F\":[-1.01,-0.59,1.89,-0.40,0.41],\n",
    "            \"G\":[-0.38,1.65,1.33,1.05,2.06],\n",
    "            \"H\":[0.34,-0.42,-1.67,-1.47,-0.08],\n",
    "            \"I\":[-1.24,-0.55,2.13,0.39,0.82],\n",
    "            \"K\":[1.83,-0.56,0.53,-0.28,1.65],\n",
    "            \"L\":[-1.02,-0.99,-1.51,1.27,-0.91],\n",
    "            \"M\":[-0.66,-1.52,2.22,-1.01,1.21],\n",
    "            \"N\":[0.95,0.83,1.30,-0.17,0.93],\n",
    "            \"P\":[0.19,2.08,-1.63,0.42,-1.39],\n",
    "            \"Q\":[0.93,-0.18,-3.01,-0.50,-1.85],\n",
    "            \"R\":[1.54,-0.06,1.50,0.44,2.90],\n",
    "            \"S\":[-0.23,1.40,-4.76,0.67,-2.65],\n",
    "            \"T\":[-0.03,0.33,2.21,0.91,1.31],\n",
    "            \"V\":[-1.34,-0.28,-0.54,1.24,-1.26],\n",
    "            \"W\":[-0.60,0.01,0.67,-2.13,-0.18],\n",
    "            \"Y\":[0.26,0.83,3.10,-0.84,1.51],\n",
    "            \"B\":[1,0.565,-1.18,-0.215,-1.155],\n",
    "            \"Z\":[1.145,-0.815,-0.765,-0.195,-1.345],\n",
    "            \"J\":[-1.13,-0.77,0.31,0.83,-0.045],\n",
    "            \"U\":[-0.13,-0.12,0.6,-0.03,-0.115],\n",
    "            \"O\":[-0.13,-0.12,0.6,-0.03,-0.115],\n",
    "            \"X\":[-0.13,-0.12,0.6,-0.03,-0.115]\n",
    "        }"
   ]
  },
  {
   "cell_type": "code",
   "execution_count": 27,
   "metadata": {},
   "outputs": [],
   "source": [
    "def seqList2FactorDF(seqList, factorDict):\n",
    "    outDict = {}\n",
    "    for seq in seqList:\n",
    "        for aaNum in range(len(seq)):\n",
    "            aa = seq[aaNum]\n",
    "            factors = factorDict[aa]\n",
    "            for factorNum in range(len(factors)):\n",
    "                factor = factors[factorNum]\n",
    "                header = \"aa\"+str(aaNum)+\"_factor\" + str(factorNum)\n",
    "                if header not in outDict:\n",
    "                    outDict[header] = []    \n",
    "                outDict[header].append(factor)\n",
    "    outDF = pd.DataFrame.from_dict(outDict)\n",
    "    return outDF"
   ]
  },
  {
   "source": [
    "Now we will make the final dataframe that will then be split into training and validation data for the random forest models"
   ],
   "cell_type": "markdown",
   "metadata": {}
  },
  {
   "cell_type": "code",
   "execution_count": 32,
   "metadata": {},
   "outputs": [
    {
     "output_type": "execute_result",
     "data": {
      "text/plain": [
       "     aa0_factor0  aa0_factor1  aa0_factor2  aa0_factor3  aa0_factor4  \\\n",
       "0           1.83        -0.56         0.53        -0.28         1.65   \n",
       "1           0.95         0.83         1.30        -0.17         0.93   \n",
       "2           1.83        -0.56         0.53        -0.28         1.65   \n",
       "3           1.05         0.30        -3.66        -0.26        -3.24   \n",
       "4           1.05         0.30        -3.66        -0.26        -3.24   \n",
       "..           ...          ...          ...          ...          ...   \n",
       "372         1.54        -0.06         1.50         0.44         2.90   \n",
       "373         1.36        -1.45         1.48         0.11        -0.84   \n",
       "374        -0.03         0.33         2.21         0.91         1.31   \n",
       "375        -0.23         1.40        -4.76         0.67        -2.65   \n",
       "376         1.83        -0.56         0.53        -0.28         1.65   \n",
       "\n",
       "     aa1_factor0  aa1_factor1  aa1_factor2  aa1_factor3  aa1_factor4  ...  \\\n",
       "0           0.93        -0.18        -3.01        -0.50        -1.85  ...   \n",
       "1           0.95         0.83         1.30        -0.17         0.93  ...   \n",
       "2          -0.03         0.33         2.21         0.91         1.31  ...   \n",
       "3           1.83        -0.56         0.53        -0.28         1.65  ...   \n",
       "4          -0.03         0.33         2.21         0.91         1.31  ...   \n",
       "..           ...          ...          ...          ...          ...  ...   \n",
       "372        -1.34        -0.28        -0.54         1.24        -1.26  ...   \n",
       "373         1.83        -0.56         0.53        -0.28         1.65  ...   \n",
       "374        -0.23         1.40        -4.76         0.67        -2.65  ...   \n",
       "375        -0.66        -1.52         2.22        -1.01         1.21  ...   \n",
       "376        -0.03         0.33         2.21         0.91         1.31  ...   \n",
       "\n",
       "     aa13_factor1  aa13_factor2  aa13_factor3  aa13_factor4  aa14_factor0  \\\n",
       "0           -0.28         -0.54          1.24         -1.26         -1.34   \n",
       "1           -0.99         -1.51          1.27         -0.91         -0.23   \n",
       "2            0.33          2.21          0.91          1.31         -0.03   \n",
       "3           -0.55          2.13          0.39          0.82         -1.34   \n",
       "4           -1.30         -0.73          1.57         -0.15         -0.66   \n",
       "..            ...           ...           ...           ...           ...   \n",
       "372         -0.06          1.50          0.44          2.90         -0.59   \n",
       "373          1.40         -4.76          0.67         -2.65         -1.02   \n",
       "374         -0.06          1.50          0.44          2.90         -1.02   \n",
       "375          1.65          1.33          1.05          2.06         -1.02   \n",
       "376         -1.30         -0.73          1.57         -0.15         -1.24   \n",
       "\n",
       "     aa14_factor1  aa14_factor2  aa14_factor3  aa14_factor4  label  \n",
       "0           -0.28         -0.54          1.24         -1.26    pos  \n",
       "1            1.40         -4.76          0.67         -2.65    pos  \n",
       "2            0.33          2.21          0.91          1.31    pos  \n",
       "3            0.47         -0.86         -1.02         -0.26    pos  \n",
       "4           -1.52          2.22         -1.01          1.21    pos  \n",
       "..            ...           ...           ...           ...    ...  \n",
       "372         -1.30         -0.73          1.57         -0.15    neg  \n",
       "373         -0.99         -1.51          1.27         -0.91    neg  \n",
       "374         -0.99         -1.51          1.27         -0.91    neg  \n",
       "375         -0.99         -1.51          1.27         -0.91    neg  \n",
       "376         -0.55          2.13          0.39          0.82    neg  \n",
       "\n",
       "[518 rows x 76 columns]"
      ],
      "text/html": "<div>\n<style scoped>\n    .dataframe tbody tr th:only-of-type {\n        vertical-align: middle;\n    }\n\n    .dataframe tbody tr th {\n        vertical-align: top;\n    }\n\n    .dataframe thead th {\n        text-align: right;\n    }\n</style>\n<table border=\"1\" class=\"dataframe\">\n  <thead>\n    <tr style=\"text-align: right;\">\n      <th></th>\n      <th>aa0_factor0</th>\n      <th>aa0_factor1</th>\n      <th>aa0_factor2</th>\n      <th>aa0_factor3</th>\n      <th>aa0_factor4</th>\n      <th>aa1_factor0</th>\n      <th>aa1_factor1</th>\n      <th>aa1_factor2</th>\n      <th>aa1_factor3</th>\n      <th>aa1_factor4</th>\n      <th>...</th>\n      <th>aa13_factor1</th>\n      <th>aa13_factor2</th>\n      <th>aa13_factor3</th>\n      <th>aa13_factor4</th>\n      <th>aa14_factor0</th>\n      <th>aa14_factor1</th>\n      <th>aa14_factor2</th>\n      <th>aa14_factor3</th>\n      <th>aa14_factor4</th>\n      <th>label</th>\n    </tr>\n  </thead>\n  <tbody>\n    <tr>\n      <th>0</th>\n      <td>1.83</td>\n      <td>-0.56</td>\n      <td>0.53</td>\n      <td>-0.28</td>\n      <td>1.65</td>\n      <td>0.93</td>\n      <td>-0.18</td>\n      <td>-3.01</td>\n      <td>-0.50</td>\n      <td>-1.85</td>\n      <td>...</td>\n      <td>-0.28</td>\n      <td>-0.54</td>\n      <td>1.24</td>\n      <td>-1.26</td>\n      <td>-1.34</td>\n      <td>-0.28</td>\n      <td>-0.54</td>\n      <td>1.24</td>\n      <td>-1.26</td>\n      <td>pos</td>\n    </tr>\n    <tr>\n      <th>1</th>\n      <td>0.95</td>\n      <td>0.83</td>\n      <td>1.30</td>\n      <td>-0.17</td>\n      <td>0.93</td>\n      <td>0.95</td>\n      <td>0.83</td>\n      <td>1.30</td>\n      <td>-0.17</td>\n      <td>0.93</td>\n      <td>...</td>\n      <td>-0.99</td>\n      <td>-1.51</td>\n      <td>1.27</td>\n      <td>-0.91</td>\n      <td>-0.23</td>\n      <td>1.40</td>\n      <td>-4.76</td>\n      <td>0.67</td>\n      <td>-2.65</td>\n      <td>pos</td>\n    </tr>\n    <tr>\n      <th>2</th>\n      <td>1.83</td>\n      <td>-0.56</td>\n      <td>0.53</td>\n      <td>-0.28</td>\n      <td>1.65</td>\n      <td>-0.03</td>\n      <td>0.33</td>\n      <td>2.21</td>\n      <td>0.91</td>\n      <td>1.31</td>\n      <td>...</td>\n      <td>0.33</td>\n      <td>2.21</td>\n      <td>0.91</td>\n      <td>1.31</td>\n      <td>-0.03</td>\n      <td>0.33</td>\n      <td>2.21</td>\n      <td>0.91</td>\n      <td>1.31</td>\n      <td>pos</td>\n    </tr>\n    <tr>\n      <th>3</th>\n      <td>1.05</td>\n      <td>0.30</td>\n      <td>-3.66</td>\n      <td>-0.26</td>\n      <td>-3.24</td>\n      <td>1.83</td>\n      <td>-0.56</td>\n      <td>0.53</td>\n      <td>-0.28</td>\n      <td>1.65</td>\n      <td>...</td>\n      <td>-0.55</td>\n      <td>2.13</td>\n      <td>0.39</td>\n      <td>0.82</td>\n      <td>-1.34</td>\n      <td>0.47</td>\n      <td>-0.86</td>\n      <td>-1.02</td>\n      <td>-0.26</td>\n      <td>pos</td>\n    </tr>\n    <tr>\n      <th>4</th>\n      <td>1.05</td>\n      <td>0.30</td>\n      <td>-3.66</td>\n      <td>-0.26</td>\n      <td>-3.24</td>\n      <td>-0.03</td>\n      <td>0.33</td>\n      <td>2.21</td>\n      <td>0.91</td>\n      <td>1.31</td>\n      <td>...</td>\n      <td>-1.30</td>\n      <td>-0.73</td>\n      <td>1.57</td>\n      <td>-0.15</td>\n      <td>-0.66</td>\n      <td>-1.52</td>\n      <td>2.22</td>\n      <td>-1.01</td>\n      <td>1.21</td>\n      <td>pos</td>\n    </tr>\n    <tr>\n      <th>...</th>\n      <td>...</td>\n      <td>...</td>\n      <td>...</td>\n      <td>...</td>\n      <td>...</td>\n      <td>...</td>\n      <td>...</td>\n      <td>...</td>\n      <td>...</td>\n      <td>...</td>\n      <td>...</td>\n      <td>...</td>\n      <td>...</td>\n      <td>...</td>\n      <td>...</td>\n      <td>...</td>\n      <td>...</td>\n      <td>...</td>\n      <td>...</td>\n      <td>...</td>\n      <td>...</td>\n    </tr>\n    <tr>\n      <th>372</th>\n      <td>1.54</td>\n      <td>-0.06</td>\n      <td>1.50</td>\n      <td>0.44</td>\n      <td>2.90</td>\n      <td>-1.34</td>\n      <td>-0.28</td>\n      <td>-0.54</td>\n      <td>1.24</td>\n      <td>-1.26</td>\n      <td>...</td>\n      <td>-0.06</td>\n      <td>1.50</td>\n      <td>0.44</td>\n      <td>2.90</td>\n      <td>-0.59</td>\n      <td>-1.30</td>\n      <td>-0.73</td>\n      <td>1.57</td>\n      <td>-0.15</td>\n      <td>neg</td>\n    </tr>\n    <tr>\n      <th>373</th>\n      <td>1.36</td>\n      <td>-1.45</td>\n      <td>1.48</td>\n      <td>0.11</td>\n      <td>-0.84</td>\n      <td>1.83</td>\n      <td>-0.56</td>\n      <td>0.53</td>\n      <td>-0.28</td>\n      <td>1.65</td>\n      <td>...</td>\n      <td>1.40</td>\n      <td>-4.76</td>\n      <td>0.67</td>\n      <td>-2.65</td>\n      <td>-1.02</td>\n      <td>-0.99</td>\n      <td>-1.51</td>\n      <td>1.27</td>\n      <td>-0.91</td>\n      <td>neg</td>\n    </tr>\n    <tr>\n      <th>374</th>\n      <td>-0.03</td>\n      <td>0.33</td>\n      <td>2.21</td>\n      <td>0.91</td>\n      <td>1.31</td>\n      <td>-0.23</td>\n      <td>1.40</td>\n      <td>-4.76</td>\n      <td>0.67</td>\n      <td>-2.65</td>\n      <td>...</td>\n      <td>-0.06</td>\n      <td>1.50</td>\n      <td>0.44</td>\n      <td>2.90</td>\n      <td>-1.02</td>\n      <td>-0.99</td>\n      <td>-1.51</td>\n      <td>1.27</td>\n      <td>-0.91</td>\n      <td>neg</td>\n    </tr>\n    <tr>\n      <th>375</th>\n      <td>-0.23</td>\n      <td>1.40</td>\n      <td>-4.76</td>\n      <td>0.67</td>\n      <td>-2.65</td>\n      <td>-0.66</td>\n      <td>-1.52</td>\n      <td>2.22</td>\n      <td>-1.01</td>\n      <td>1.21</td>\n      <td>...</td>\n      <td>1.65</td>\n      <td>1.33</td>\n      <td>1.05</td>\n      <td>2.06</td>\n      <td>-1.02</td>\n      <td>-0.99</td>\n      <td>-1.51</td>\n      <td>1.27</td>\n      <td>-0.91</td>\n      <td>neg</td>\n    </tr>\n    <tr>\n      <th>376</th>\n      <td>1.83</td>\n      <td>-0.56</td>\n      <td>0.53</td>\n      <td>-0.28</td>\n      <td>1.65</td>\n      <td>-0.03</td>\n      <td>0.33</td>\n      <td>2.21</td>\n      <td>0.91</td>\n      <td>1.31</td>\n      <td>...</td>\n      <td>-1.30</td>\n      <td>-0.73</td>\n      <td>1.57</td>\n      <td>-0.15</td>\n      <td>-1.24</td>\n      <td>-0.55</td>\n      <td>2.13</td>\n      <td>0.39</td>\n      <td>0.82</td>\n      <td>neg</td>\n    </tr>\n  </tbody>\n</table>\n<p>518 rows × 76 columns</p>\n</div>"
     },
     "metadata": {},
     "execution_count": 32
    }
   ],
   "source": [
    "positive_Nterm15_atchley = seqList2FactorDF(positive_Nterm15, Factors().Atchley)\n",
    "positive_Nterm15_atchley[\"label\"] = \"pos\"\n",
    "negative_Nterm15_atchley = seqList2FactorDF(negative_Nterm15, Factors().Atchley)\n",
    "negative_Nterm15_atchley[\"label\"] = \"neg\"\n",
    "\n",
    "all_atchley = positive_Nterm15_atchley.append(negative_Nterm15_atchley)\n",
    "\n",
    "all_atchley\n"
   ]
  },
  {
   "source": [
    "Now we will split the data into validation and training data"
   ],
   "cell_type": "markdown",
   "metadata": {}
  },
  {
   "cell_type": "code",
   "execution_count": 33,
   "metadata": {},
   "outputs": [
    {
     "output_type": "execute_result",
     "data": {
      "text/plain": [
       "     aa0_factor0  aa0_factor1  aa0_factor2  aa0_factor3  aa0_factor4  \\\n",
       "123         1.83        -0.56         0.53        -0.28         1.65   \n",
       "66          0.34        -0.42        -1.67        -1.47        -0.08   \n",
       "305        -0.23         1.40        -4.76         0.67        -2.65   \n",
       "16          1.83        -0.56         0.53        -0.28         1.65   \n",
       "124         1.83        -0.56         0.53        -0.28         1.65   \n",
       "..           ...          ...          ...          ...          ...   \n",
       "350         1.83        -0.56         0.53        -0.28         1.65   \n",
       "40         -0.38         1.65         1.33         1.05         2.06   \n",
       "238         1.83        -0.56         0.53        -0.28         1.65   \n",
       "11          1.05         0.30        -3.66        -0.26        -3.24   \n",
       "17          1.36        -1.45         1.48         0.11        -0.84   \n",
       "\n",
       "     aa1_factor0  aa1_factor1  aa1_factor2  aa1_factor3  aa1_factor4  ...  \\\n",
       "123         1.83        -0.56         0.53        -0.28         1.65  ...   \n",
       "66          1.83        -0.56         0.53        -0.28         1.65  ...   \n",
       "305        -1.02        -0.99        -1.51         1.27        -0.91  ...   \n",
       "16          0.93        -0.18        -3.01        -0.50        -1.85  ...   \n",
       "124         1.83        -0.56         0.53        -0.28         1.65  ...   \n",
       "..           ...          ...          ...          ...          ...  ...   \n",
       "350         1.83        -0.56         0.53        -0.28         1.65  ...   \n",
       "40         -0.59        -1.30        -0.73         1.57        -0.15  ...   \n",
       "238         1.83        -0.56         0.53        -0.28         1.65  ...   \n",
       "11          0.19         2.08        -1.63         0.42        -1.39  ...   \n",
       "17          1.83        -0.56         0.53        -0.28         1.65  ...   \n",
       "\n",
       "     aa13_factor0  aa13_factor1  aa13_factor2  aa13_factor3  aa13_factor4  \\\n",
       "123         -0.03          0.33          2.21          0.91          1.31   \n",
       "66           1.36         -1.45          1.48          0.11         -0.84   \n",
       "305         -0.03          0.33          2.21          0.91          1.31   \n",
       "16          -1.24         -0.55          2.13          0.39          0.82   \n",
       "124         -0.23          1.40         -4.76          0.67         -2.65   \n",
       "..            ...           ...           ...           ...           ...   \n",
       "350         -1.34         -0.28         -0.54          1.24         -1.26   \n",
       "40          -1.24         -0.55          2.13          0.39          0.82   \n",
       "238         -1.02         -0.99         -1.51          1.27         -0.91   \n",
       "11          -0.23          1.40         -4.76          0.67         -2.65   \n",
       "17           0.95          0.83          1.30         -0.17          0.93   \n",
       "\n",
       "     aa14_factor0  aa14_factor1  aa14_factor2  aa14_factor3  aa14_factor4  \n",
       "123          0.95          0.83          1.30         -0.17          0.93  \n",
       "66           0.93         -0.18         -3.01         -0.50         -1.85  \n",
       "305         -0.03          0.33          2.21          0.91          1.31  \n",
       "16           0.95          0.83          1.30         -0.17          0.93  \n",
       "124          0.95          0.83          1.30         -0.17          0.93  \n",
       "..            ...           ...           ...           ...           ...  \n",
       "350          0.95          0.83          1.30         -0.17          0.93  \n",
       "40          -1.34         -0.28         -0.54          1.24         -1.26  \n",
       "238         -0.23          1.40         -4.76          0.67         -2.65  \n",
       "11           1.83         -0.56          0.53         -0.28          1.65  \n",
       "17           0.93         -0.18         -3.01         -0.50         -1.85  \n",
       "\n",
       "[414 rows x 75 columns]"
      ],
      "text/html": "<div>\n<style scoped>\n    .dataframe tbody tr th:only-of-type {\n        vertical-align: middle;\n    }\n\n    .dataframe tbody tr th {\n        vertical-align: top;\n    }\n\n    .dataframe thead th {\n        text-align: right;\n    }\n</style>\n<table border=\"1\" class=\"dataframe\">\n  <thead>\n    <tr style=\"text-align: right;\">\n      <th></th>\n      <th>aa0_factor0</th>\n      <th>aa0_factor1</th>\n      <th>aa0_factor2</th>\n      <th>aa0_factor3</th>\n      <th>aa0_factor4</th>\n      <th>aa1_factor0</th>\n      <th>aa1_factor1</th>\n      <th>aa1_factor2</th>\n      <th>aa1_factor3</th>\n      <th>aa1_factor4</th>\n      <th>...</th>\n      <th>aa13_factor0</th>\n      <th>aa13_factor1</th>\n      <th>aa13_factor2</th>\n      <th>aa13_factor3</th>\n      <th>aa13_factor4</th>\n      <th>aa14_factor0</th>\n      <th>aa14_factor1</th>\n      <th>aa14_factor2</th>\n      <th>aa14_factor3</th>\n      <th>aa14_factor4</th>\n    </tr>\n  </thead>\n  <tbody>\n    <tr>\n      <th>123</th>\n      <td>1.83</td>\n      <td>-0.56</td>\n      <td>0.53</td>\n      <td>-0.28</td>\n      <td>1.65</td>\n      <td>1.83</td>\n      <td>-0.56</td>\n      <td>0.53</td>\n      <td>-0.28</td>\n      <td>1.65</td>\n      <td>...</td>\n      <td>-0.03</td>\n      <td>0.33</td>\n      <td>2.21</td>\n      <td>0.91</td>\n      <td>1.31</td>\n      <td>0.95</td>\n      <td>0.83</td>\n      <td>1.30</td>\n      <td>-0.17</td>\n      <td>0.93</td>\n    </tr>\n    <tr>\n      <th>66</th>\n      <td>0.34</td>\n      <td>-0.42</td>\n      <td>-1.67</td>\n      <td>-1.47</td>\n      <td>-0.08</td>\n      <td>1.83</td>\n      <td>-0.56</td>\n      <td>0.53</td>\n      <td>-0.28</td>\n      <td>1.65</td>\n      <td>...</td>\n      <td>1.36</td>\n      <td>-1.45</td>\n      <td>1.48</td>\n      <td>0.11</td>\n      <td>-0.84</td>\n      <td>0.93</td>\n      <td>-0.18</td>\n      <td>-3.01</td>\n      <td>-0.50</td>\n      <td>-1.85</td>\n    </tr>\n    <tr>\n      <th>305</th>\n      <td>-0.23</td>\n      <td>1.40</td>\n      <td>-4.76</td>\n      <td>0.67</td>\n      <td>-2.65</td>\n      <td>-1.02</td>\n      <td>-0.99</td>\n      <td>-1.51</td>\n      <td>1.27</td>\n      <td>-0.91</td>\n      <td>...</td>\n      <td>-0.03</td>\n      <td>0.33</td>\n      <td>2.21</td>\n      <td>0.91</td>\n      <td>1.31</td>\n      <td>-0.03</td>\n      <td>0.33</td>\n      <td>2.21</td>\n      <td>0.91</td>\n      <td>1.31</td>\n    </tr>\n    <tr>\n      <th>16</th>\n      <td>1.83</td>\n      <td>-0.56</td>\n      <td>0.53</td>\n      <td>-0.28</td>\n      <td>1.65</td>\n      <td>0.93</td>\n      <td>-0.18</td>\n      <td>-3.01</td>\n      <td>-0.50</td>\n      <td>-1.85</td>\n      <td>...</td>\n      <td>-1.24</td>\n      <td>-0.55</td>\n      <td>2.13</td>\n      <td>0.39</td>\n      <td>0.82</td>\n      <td>0.95</td>\n      <td>0.83</td>\n      <td>1.30</td>\n      <td>-0.17</td>\n      <td>0.93</td>\n    </tr>\n    <tr>\n      <th>124</th>\n      <td>1.83</td>\n      <td>-0.56</td>\n      <td>0.53</td>\n      <td>-0.28</td>\n      <td>1.65</td>\n      <td>1.83</td>\n      <td>-0.56</td>\n      <td>0.53</td>\n      <td>-0.28</td>\n      <td>1.65</td>\n      <td>...</td>\n      <td>-0.23</td>\n      <td>1.40</td>\n      <td>-4.76</td>\n      <td>0.67</td>\n      <td>-2.65</td>\n      <td>0.95</td>\n      <td>0.83</td>\n      <td>1.30</td>\n      <td>-0.17</td>\n      <td>0.93</td>\n    </tr>\n    <tr>\n      <th>...</th>\n      <td>...</td>\n      <td>...</td>\n      <td>...</td>\n      <td>...</td>\n      <td>...</td>\n      <td>...</td>\n      <td>...</td>\n      <td>...</td>\n      <td>...</td>\n      <td>...</td>\n      <td>...</td>\n      <td>...</td>\n      <td>...</td>\n      <td>...</td>\n      <td>...</td>\n      <td>...</td>\n      <td>...</td>\n      <td>...</td>\n      <td>...</td>\n      <td>...</td>\n      <td>...</td>\n    </tr>\n    <tr>\n      <th>350</th>\n      <td>1.83</td>\n      <td>-0.56</td>\n      <td>0.53</td>\n      <td>-0.28</td>\n      <td>1.65</td>\n      <td>1.83</td>\n      <td>-0.56</td>\n      <td>0.53</td>\n      <td>-0.28</td>\n      <td>1.65</td>\n      <td>...</td>\n      <td>-1.34</td>\n      <td>-0.28</td>\n      <td>-0.54</td>\n      <td>1.24</td>\n      <td>-1.26</td>\n      <td>0.95</td>\n      <td>0.83</td>\n      <td>1.30</td>\n      <td>-0.17</td>\n      <td>0.93</td>\n    </tr>\n    <tr>\n      <th>40</th>\n      <td>-0.38</td>\n      <td>1.65</td>\n      <td>1.33</td>\n      <td>1.05</td>\n      <td>2.06</td>\n      <td>-0.59</td>\n      <td>-1.30</td>\n      <td>-0.73</td>\n      <td>1.57</td>\n      <td>-0.15</td>\n      <td>...</td>\n      <td>-1.24</td>\n      <td>-0.55</td>\n      <td>2.13</td>\n      <td>0.39</td>\n      <td>0.82</td>\n      <td>-1.34</td>\n      <td>-0.28</td>\n      <td>-0.54</td>\n      <td>1.24</td>\n      <td>-1.26</td>\n    </tr>\n    <tr>\n      <th>238</th>\n      <td>1.83</td>\n      <td>-0.56</td>\n      <td>0.53</td>\n      <td>-0.28</td>\n      <td>1.65</td>\n      <td>1.83</td>\n      <td>-0.56</td>\n      <td>0.53</td>\n      <td>-0.28</td>\n      <td>1.65</td>\n      <td>...</td>\n      <td>-1.02</td>\n      <td>-0.99</td>\n      <td>-1.51</td>\n      <td>1.27</td>\n      <td>-0.91</td>\n      <td>-0.23</td>\n      <td>1.40</td>\n      <td>-4.76</td>\n      <td>0.67</td>\n      <td>-2.65</td>\n    </tr>\n    <tr>\n      <th>11</th>\n      <td>1.05</td>\n      <td>0.30</td>\n      <td>-3.66</td>\n      <td>-0.26</td>\n      <td>-3.24</td>\n      <td>0.19</td>\n      <td>2.08</td>\n      <td>-1.63</td>\n      <td>0.42</td>\n      <td>-1.39</td>\n      <td>...</td>\n      <td>-0.23</td>\n      <td>1.40</td>\n      <td>-4.76</td>\n      <td>0.67</td>\n      <td>-2.65</td>\n      <td>1.83</td>\n      <td>-0.56</td>\n      <td>0.53</td>\n      <td>-0.28</td>\n      <td>1.65</td>\n    </tr>\n    <tr>\n      <th>17</th>\n      <td>1.36</td>\n      <td>-1.45</td>\n      <td>1.48</td>\n      <td>0.11</td>\n      <td>-0.84</td>\n      <td>1.83</td>\n      <td>-0.56</td>\n      <td>0.53</td>\n      <td>-0.28</td>\n      <td>1.65</td>\n      <td>...</td>\n      <td>0.95</td>\n      <td>0.83</td>\n      <td>1.30</td>\n      <td>-0.17</td>\n      <td>0.93</td>\n      <td>0.93</td>\n      <td>-0.18</td>\n      <td>-3.01</td>\n      <td>-0.50</td>\n      <td>-1.85</td>\n    </tr>\n  </tbody>\n</table>\n<p>414 rows × 75 columns</p>\n</div>"
     },
     "metadata": {},
     "execution_count": 33
    }
   ],
   "source": [
    "atchley_factors = all_atchley.drop('label', axis=1)\n",
    "labels = all_atchley['label'].copy()\n",
    "\n",
    "atchley_factors_train, atchley_factors_validate, labels_train, labels_validate = train_test_split(atchley_factors, labels, test_size=0.2, random_state =42, stratify=labels)\n",
    "atchley_factors_train"
   ]
  },
  {
   "source": [
    "All that is left to do now is to make our model!\n",
    "\n",
    "# Random forest classifier"
   ],
   "cell_type": "markdown",
   "metadata": {}
  },
  {
   "cell_type": "code",
   "execution_count": 34,
   "metadata": {},
   "outputs": [
    {
     "output_type": "execute_result",
     "data": {
      "text/plain": [
       "RandomForestClassifier(n_estimators=500)"
      ]
     },
     "metadata": {},
     "execution_count": 34
    }
   ],
   "source": [
    "class12_rf = RandomForestClassifier(n_estimators=500)\n",
    "\n",
    "class12_rf.fit(atchley_factors_train, labels_train)"
   ]
  },
  {
   "source": [
    "## ROC curve for validation set"
   ],
   "cell_type": "markdown",
   "metadata": {}
  },
  {
   "cell_type": "code",
   "execution_count": 36,
   "metadata": {},
   "outputs": [
    {
     "output_type": "display_data",
     "data": {
      "text/plain": "<Figure size 432x288 with 1 Axes>",
      "image/svg+xml": "<?xml version=\"1.0\" encoding=\"utf-8\" standalone=\"no\"?>\n<!DOCTYPE svg PUBLIC \"-//W3C//DTD SVG 1.1//EN\"\n  \"http://www.w3.org/Graphics/SVG/1.1/DTD/svg11.dtd\">\n<!-- Created with matplotlib (https://matplotlib.org/) -->\n<svg height=\"262.19625pt\" version=\"1.1\" viewBox=\"0 0 385.78125 262.19625\" width=\"385.78125pt\" xmlns=\"http://www.w3.org/2000/svg\" xmlns:xlink=\"http://www.w3.org/1999/xlink\">\n <metadata>\n  <rdf:RDF xmlns:cc=\"http://creativecommons.org/ns#\" xmlns:dc=\"http://purl.org/dc/elements/1.1/\" xmlns:rdf=\"http://www.w3.org/1999/02/22-rdf-syntax-ns#\">\n   <cc:Work>\n    <dc:type rdf:resource=\"http://purl.org/dc/dcmitype/StillImage\"/>\n    <dc:date>2021-03-10T13:11:35.634303</dc:date>\n    <dc:format>image/svg+xml</dc:format>\n    <dc:creator>\n     <cc:Agent>\n      <dc:title>Matplotlib v3.3.4, https://matplotlib.org/</dc:title>\n     </cc:Agent>\n    </dc:creator>\n   </cc:Work>\n  </rdf:RDF>\n </metadata>\n <defs>\n  <style type=\"text/css\">*{stroke-linecap:butt;stroke-linejoin:round;}</style>\n </defs>\n <g id=\"figure_1\">\n  <g id=\"patch_1\">\n   <path d=\"M 0 262.19625 \nL 385.78125 262.19625 \nL 385.78125 0 \nL 0 0 \nz\n\" style=\"fill:none;\"/>\n  </g>\n  <g id=\"axes_1\">\n   <g id=\"patch_2\">\n    <path d=\"M 43.78125 224.64 \nL 378.58125 224.64 \nL 378.58125 7.2 \nL 43.78125 7.2 \nz\n\" style=\"fill:#ffffff;\"/>\n   </g>\n   <g id=\"matplotlib.axis_1\">\n    <g id=\"xtick_1\">\n     <g id=\"line2d_1\">\n      <defs>\n       <path d=\"M 0 0 \nL 0 3.5 \n\" id=\"m0008ee5b5c\" style=\"stroke:#000000;stroke-width:0.8;\"/>\n      </defs>\n      <g>\n       <use style=\"stroke:#000000;stroke-width:0.8;\" x=\"58.999432\" xlink:href=\"#m0008ee5b5c\" y=\"224.64\"/>\n      </g>\n     </g>\n     <g id=\"text_1\">\n      <!-- 0.0 -->\n      <g transform=\"translate(51.047869 239.238437)scale(0.1 -0.1)\">\n       <defs>\n        <path d=\"M 31.78125 66.40625 \nQ 24.171875 66.40625 20.328125 58.90625 \nQ 16.5 51.421875 16.5 36.375 \nQ 16.5 21.390625 20.328125 13.890625 \nQ 24.171875 6.390625 31.78125 6.390625 \nQ 39.453125 6.390625 43.28125 13.890625 \nQ 47.125 21.390625 47.125 36.375 \nQ 47.125 51.421875 43.28125 58.90625 \nQ 39.453125 66.40625 31.78125 66.40625 \nz\nM 31.78125 74.21875 \nQ 44.046875 74.21875 50.515625 64.515625 \nQ 56.984375 54.828125 56.984375 36.375 \nQ 56.984375 17.96875 50.515625 8.265625 \nQ 44.046875 -1.421875 31.78125 -1.421875 \nQ 19.53125 -1.421875 13.0625 8.265625 \nQ 6.59375 17.96875 6.59375 36.375 \nQ 6.59375 54.828125 13.0625 64.515625 \nQ 19.53125 74.21875 31.78125 74.21875 \nz\n\" id=\"DejaVuSans-48\"/>\n        <path d=\"M 10.6875 12.40625 \nL 21 12.40625 \nL 21 0 \nL 10.6875 0 \nz\n\" id=\"DejaVuSans-46\"/>\n       </defs>\n       <use xlink:href=\"#DejaVuSans-48\"/>\n       <use x=\"63.623047\" xlink:href=\"#DejaVuSans-46\"/>\n       <use x=\"95.410156\" xlink:href=\"#DejaVuSans-48\"/>\n      </g>\n     </g>\n    </g>\n    <g id=\"xtick_2\">\n     <g id=\"line2d_2\">\n      <g>\n       <use style=\"stroke:#000000;stroke-width:0.8;\" x=\"119.872159\" xlink:href=\"#m0008ee5b5c\" y=\"224.64\"/>\n      </g>\n     </g>\n     <g id=\"text_2\">\n      <!-- 0.2 -->\n      <g transform=\"translate(111.920597 239.238437)scale(0.1 -0.1)\">\n       <defs>\n        <path d=\"M 19.1875 8.296875 \nL 53.609375 8.296875 \nL 53.609375 0 \nL 7.328125 0 \nL 7.328125 8.296875 \nQ 12.9375 14.109375 22.625 23.890625 \nQ 32.328125 33.6875 34.8125 36.53125 \nQ 39.546875 41.84375 41.421875 45.53125 \nQ 43.3125 49.21875 43.3125 52.78125 \nQ 43.3125 58.59375 39.234375 62.25 \nQ 35.15625 65.921875 28.609375 65.921875 \nQ 23.96875 65.921875 18.8125 64.3125 \nQ 13.671875 62.703125 7.8125 59.421875 \nL 7.8125 69.390625 \nQ 13.765625 71.78125 18.9375 73 \nQ 24.125 74.21875 28.421875 74.21875 \nQ 39.75 74.21875 46.484375 68.546875 \nQ 53.21875 62.890625 53.21875 53.421875 \nQ 53.21875 48.921875 51.53125 44.890625 \nQ 49.859375 40.875 45.40625 35.40625 \nQ 44.1875 33.984375 37.640625 27.21875 \nQ 31.109375 20.453125 19.1875 8.296875 \nz\n\" id=\"DejaVuSans-50\"/>\n       </defs>\n       <use xlink:href=\"#DejaVuSans-48\"/>\n       <use x=\"63.623047\" xlink:href=\"#DejaVuSans-46\"/>\n       <use x=\"95.410156\" xlink:href=\"#DejaVuSans-50\"/>\n      </g>\n     </g>\n    </g>\n    <g id=\"xtick_3\">\n     <g id=\"line2d_3\">\n      <g>\n       <use style=\"stroke:#000000;stroke-width:0.8;\" x=\"180.744886\" xlink:href=\"#m0008ee5b5c\" y=\"224.64\"/>\n      </g>\n     </g>\n     <g id=\"text_3\">\n      <!-- 0.4 -->\n      <g transform=\"translate(172.793324 239.238437)scale(0.1 -0.1)\">\n       <defs>\n        <path d=\"M 37.796875 64.3125 \nL 12.890625 25.390625 \nL 37.796875 25.390625 \nz\nM 35.203125 72.90625 \nL 47.609375 72.90625 \nL 47.609375 25.390625 \nL 58.015625 25.390625 \nL 58.015625 17.1875 \nL 47.609375 17.1875 \nL 47.609375 0 \nL 37.796875 0 \nL 37.796875 17.1875 \nL 4.890625 17.1875 \nL 4.890625 26.703125 \nz\n\" id=\"DejaVuSans-52\"/>\n       </defs>\n       <use xlink:href=\"#DejaVuSans-48\"/>\n       <use x=\"63.623047\" xlink:href=\"#DejaVuSans-46\"/>\n       <use x=\"95.410156\" xlink:href=\"#DejaVuSans-52\"/>\n      </g>\n     </g>\n    </g>\n    <g id=\"xtick_4\">\n     <g id=\"line2d_4\">\n      <g>\n       <use style=\"stroke:#000000;stroke-width:0.8;\" x=\"241.617614\" xlink:href=\"#m0008ee5b5c\" y=\"224.64\"/>\n      </g>\n     </g>\n     <g id=\"text_4\">\n      <!-- 0.6 -->\n      <g transform=\"translate(233.666051 239.238437)scale(0.1 -0.1)\">\n       <defs>\n        <path d=\"M 33.015625 40.375 \nQ 26.375 40.375 22.484375 35.828125 \nQ 18.609375 31.296875 18.609375 23.390625 \nQ 18.609375 15.53125 22.484375 10.953125 \nQ 26.375 6.390625 33.015625 6.390625 \nQ 39.65625 6.390625 43.53125 10.953125 \nQ 47.40625 15.53125 47.40625 23.390625 \nQ 47.40625 31.296875 43.53125 35.828125 \nQ 39.65625 40.375 33.015625 40.375 \nz\nM 52.59375 71.296875 \nL 52.59375 62.3125 \nQ 48.875 64.0625 45.09375 64.984375 \nQ 41.3125 65.921875 37.59375 65.921875 \nQ 27.828125 65.921875 22.671875 59.328125 \nQ 17.53125 52.734375 16.796875 39.40625 \nQ 19.671875 43.65625 24.015625 45.921875 \nQ 28.375 48.1875 33.59375 48.1875 \nQ 44.578125 48.1875 50.953125 41.515625 \nQ 57.328125 34.859375 57.328125 23.390625 \nQ 57.328125 12.15625 50.6875 5.359375 \nQ 44.046875 -1.421875 33.015625 -1.421875 \nQ 20.359375 -1.421875 13.671875 8.265625 \nQ 6.984375 17.96875 6.984375 36.375 \nQ 6.984375 53.65625 15.1875 63.9375 \nQ 23.390625 74.21875 37.203125 74.21875 \nQ 40.921875 74.21875 44.703125 73.484375 \nQ 48.484375 72.75 52.59375 71.296875 \nz\n\" id=\"DejaVuSans-54\"/>\n       </defs>\n       <use xlink:href=\"#DejaVuSans-48\"/>\n       <use x=\"63.623047\" xlink:href=\"#DejaVuSans-46\"/>\n       <use x=\"95.410156\" xlink:href=\"#DejaVuSans-54\"/>\n      </g>\n     </g>\n    </g>\n    <g id=\"xtick_5\">\n     <g id=\"line2d_5\">\n      <g>\n       <use style=\"stroke:#000000;stroke-width:0.8;\" x=\"302.490341\" xlink:href=\"#m0008ee5b5c\" y=\"224.64\"/>\n      </g>\n     </g>\n     <g id=\"text_5\">\n      <!-- 0.8 -->\n      <g transform=\"translate(294.538778 239.238437)scale(0.1 -0.1)\">\n       <defs>\n        <path d=\"M 31.78125 34.625 \nQ 24.75 34.625 20.71875 30.859375 \nQ 16.703125 27.09375 16.703125 20.515625 \nQ 16.703125 13.921875 20.71875 10.15625 \nQ 24.75 6.390625 31.78125 6.390625 \nQ 38.8125 6.390625 42.859375 10.171875 \nQ 46.921875 13.96875 46.921875 20.515625 \nQ 46.921875 27.09375 42.890625 30.859375 \nQ 38.875 34.625 31.78125 34.625 \nz\nM 21.921875 38.8125 \nQ 15.578125 40.375 12.03125 44.71875 \nQ 8.5 49.078125 8.5 55.328125 \nQ 8.5 64.0625 14.71875 69.140625 \nQ 20.953125 74.21875 31.78125 74.21875 \nQ 42.671875 74.21875 48.875 69.140625 \nQ 55.078125 64.0625 55.078125 55.328125 \nQ 55.078125 49.078125 51.53125 44.71875 \nQ 48 40.375 41.703125 38.8125 \nQ 48.828125 37.15625 52.796875 32.3125 \nQ 56.78125 27.484375 56.78125 20.515625 \nQ 56.78125 9.90625 50.3125 4.234375 \nQ 43.84375 -1.421875 31.78125 -1.421875 \nQ 19.734375 -1.421875 13.25 4.234375 \nQ 6.78125 9.90625 6.78125 20.515625 \nQ 6.78125 27.484375 10.78125 32.3125 \nQ 14.796875 37.15625 21.921875 38.8125 \nz\nM 18.3125 54.390625 \nQ 18.3125 48.734375 21.84375 45.5625 \nQ 25.390625 42.390625 31.78125 42.390625 \nQ 38.140625 42.390625 41.71875 45.5625 \nQ 45.3125 48.734375 45.3125 54.390625 \nQ 45.3125 60.0625 41.71875 63.234375 \nQ 38.140625 66.40625 31.78125 66.40625 \nQ 25.390625 66.40625 21.84375 63.234375 \nQ 18.3125 60.0625 18.3125 54.390625 \nz\n\" id=\"DejaVuSans-56\"/>\n       </defs>\n       <use xlink:href=\"#DejaVuSans-48\"/>\n       <use x=\"63.623047\" xlink:href=\"#DejaVuSans-46\"/>\n       <use x=\"95.410156\" xlink:href=\"#DejaVuSans-56\"/>\n      </g>\n     </g>\n    </g>\n    <g id=\"xtick_6\">\n     <g id=\"line2d_6\">\n      <g>\n       <use style=\"stroke:#000000;stroke-width:0.8;\" x=\"363.363068\" xlink:href=\"#m0008ee5b5c\" y=\"224.64\"/>\n      </g>\n     </g>\n     <g id=\"text_6\">\n      <!-- 1.0 -->\n      <g transform=\"translate(355.411506 239.238437)scale(0.1 -0.1)\">\n       <defs>\n        <path d=\"M 12.40625 8.296875 \nL 28.515625 8.296875 \nL 28.515625 63.921875 \nL 10.984375 60.40625 \nL 10.984375 69.390625 \nL 28.421875 72.90625 \nL 38.28125 72.90625 \nL 38.28125 8.296875 \nL 54.390625 8.296875 \nL 54.390625 0 \nL 12.40625 0 \nz\n\" id=\"DejaVuSans-49\"/>\n       </defs>\n       <use xlink:href=\"#DejaVuSans-49\"/>\n       <use x=\"63.623047\" xlink:href=\"#DejaVuSans-46\"/>\n       <use x=\"95.410156\" xlink:href=\"#DejaVuSans-48\"/>\n      </g>\n     </g>\n    </g>\n    <g id=\"text_7\">\n     <!-- False Positive Rate (Positive label: pos) -->\n     <g transform=\"translate(114.158594 252.916562)scale(0.1 -0.1)\">\n      <defs>\n       <path d=\"M 9.8125 72.90625 \nL 51.703125 72.90625 \nL 51.703125 64.59375 \nL 19.671875 64.59375 \nL 19.671875 43.109375 \nL 48.578125 43.109375 \nL 48.578125 34.8125 \nL 19.671875 34.8125 \nL 19.671875 0 \nL 9.8125 0 \nz\n\" id=\"DejaVuSans-70\"/>\n       <path d=\"M 34.28125 27.484375 \nQ 23.390625 27.484375 19.1875 25 \nQ 14.984375 22.515625 14.984375 16.5 \nQ 14.984375 11.71875 18.140625 8.90625 \nQ 21.296875 6.109375 26.703125 6.109375 \nQ 34.1875 6.109375 38.703125 11.40625 \nQ 43.21875 16.703125 43.21875 25.484375 \nL 43.21875 27.484375 \nz\nM 52.203125 31.203125 \nL 52.203125 0 \nL 43.21875 0 \nL 43.21875 8.296875 \nQ 40.140625 3.328125 35.546875 0.953125 \nQ 30.953125 -1.421875 24.3125 -1.421875 \nQ 15.921875 -1.421875 10.953125 3.296875 \nQ 6 8.015625 6 15.921875 \nQ 6 25.140625 12.171875 29.828125 \nQ 18.359375 34.515625 30.609375 34.515625 \nL 43.21875 34.515625 \nL 43.21875 35.40625 \nQ 43.21875 41.609375 39.140625 45 \nQ 35.0625 48.390625 27.6875 48.390625 \nQ 23 48.390625 18.546875 47.265625 \nQ 14.109375 46.140625 10.015625 43.890625 \nL 10.015625 52.203125 \nQ 14.9375 54.109375 19.578125 55.046875 \nQ 24.21875 56 28.609375 56 \nQ 40.484375 56 46.34375 49.84375 \nQ 52.203125 43.703125 52.203125 31.203125 \nz\n\" id=\"DejaVuSans-97\"/>\n       <path d=\"M 9.421875 75.984375 \nL 18.40625 75.984375 \nL 18.40625 0 \nL 9.421875 0 \nz\n\" id=\"DejaVuSans-108\"/>\n       <path d=\"M 44.28125 53.078125 \nL 44.28125 44.578125 \nQ 40.484375 46.53125 36.375 47.5 \nQ 32.28125 48.484375 27.875 48.484375 \nQ 21.1875 48.484375 17.84375 46.4375 \nQ 14.5 44.390625 14.5 40.28125 \nQ 14.5 37.15625 16.890625 35.375 \nQ 19.28125 33.59375 26.515625 31.984375 \nL 29.59375 31.296875 \nQ 39.15625 29.25 43.1875 25.515625 \nQ 47.21875 21.78125 47.21875 15.09375 \nQ 47.21875 7.46875 41.1875 3.015625 \nQ 35.15625 -1.421875 24.609375 -1.421875 \nQ 20.21875 -1.421875 15.453125 -0.5625 \nQ 10.6875 0.296875 5.421875 2 \nL 5.421875 11.28125 \nQ 10.40625 8.6875 15.234375 7.390625 \nQ 20.0625 6.109375 24.8125 6.109375 \nQ 31.15625 6.109375 34.5625 8.28125 \nQ 37.984375 10.453125 37.984375 14.40625 \nQ 37.984375 18.0625 35.515625 20.015625 \nQ 33.0625 21.96875 24.703125 23.78125 \nL 21.578125 24.515625 \nQ 13.234375 26.265625 9.515625 29.90625 \nQ 5.8125 33.546875 5.8125 39.890625 \nQ 5.8125 47.609375 11.28125 51.796875 \nQ 16.75 56 26.8125 56 \nQ 31.78125 56 36.171875 55.265625 \nQ 40.578125 54.546875 44.28125 53.078125 \nz\n\" id=\"DejaVuSans-115\"/>\n       <path d=\"M 56.203125 29.59375 \nL 56.203125 25.203125 \nL 14.890625 25.203125 \nQ 15.484375 15.921875 20.484375 11.0625 \nQ 25.484375 6.203125 34.421875 6.203125 \nQ 39.59375 6.203125 44.453125 7.46875 \nQ 49.3125 8.734375 54.109375 11.28125 \nL 54.109375 2.78125 \nQ 49.265625 0.734375 44.1875 -0.34375 \nQ 39.109375 -1.421875 33.890625 -1.421875 \nQ 20.796875 -1.421875 13.15625 6.1875 \nQ 5.515625 13.8125 5.515625 26.8125 \nQ 5.515625 40.234375 12.765625 48.109375 \nQ 20.015625 56 32.328125 56 \nQ 43.359375 56 49.78125 48.890625 \nQ 56.203125 41.796875 56.203125 29.59375 \nz\nM 47.21875 32.234375 \nQ 47.125 39.59375 43.09375 43.984375 \nQ 39.0625 48.390625 32.421875 48.390625 \nQ 24.90625 48.390625 20.390625 44.140625 \nQ 15.875 39.890625 15.1875 32.171875 \nz\n\" id=\"DejaVuSans-101\"/>\n       <path id=\"DejaVuSans-32\"/>\n       <path d=\"M 19.671875 64.796875 \nL 19.671875 37.40625 \nL 32.078125 37.40625 \nQ 38.96875 37.40625 42.71875 40.96875 \nQ 46.484375 44.53125 46.484375 51.125 \nQ 46.484375 57.671875 42.71875 61.234375 \nQ 38.96875 64.796875 32.078125 64.796875 \nz\nM 9.8125 72.90625 \nL 32.078125 72.90625 \nQ 44.34375 72.90625 50.609375 67.359375 \nQ 56.890625 61.8125 56.890625 51.125 \nQ 56.890625 40.328125 50.609375 34.8125 \nQ 44.34375 29.296875 32.078125 29.296875 \nL 19.671875 29.296875 \nL 19.671875 0 \nL 9.8125 0 \nz\n\" id=\"DejaVuSans-80\"/>\n       <path d=\"M 30.609375 48.390625 \nQ 23.390625 48.390625 19.1875 42.75 \nQ 14.984375 37.109375 14.984375 27.296875 \nQ 14.984375 17.484375 19.15625 11.84375 \nQ 23.34375 6.203125 30.609375 6.203125 \nQ 37.796875 6.203125 41.984375 11.859375 \nQ 46.1875 17.53125 46.1875 27.296875 \nQ 46.1875 37.015625 41.984375 42.703125 \nQ 37.796875 48.390625 30.609375 48.390625 \nz\nM 30.609375 56 \nQ 42.328125 56 49.015625 48.375 \nQ 55.71875 40.765625 55.71875 27.296875 \nQ 55.71875 13.875 49.015625 6.21875 \nQ 42.328125 -1.421875 30.609375 -1.421875 \nQ 18.84375 -1.421875 12.171875 6.21875 \nQ 5.515625 13.875 5.515625 27.296875 \nQ 5.515625 40.765625 12.171875 48.375 \nQ 18.84375 56 30.609375 56 \nz\n\" id=\"DejaVuSans-111\"/>\n       <path d=\"M 9.421875 54.6875 \nL 18.40625 54.6875 \nL 18.40625 0 \nL 9.421875 0 \nz\nM 9.421875 75.984375 \nL 18.40625 75.984375 \nL 18.40625 64.59375 \nL 9.421875 64.59375 \nz\n\" id=\"DejaVuSans-105\"/>\n       <path d=\"M 18.3125 70.21875 \nL 18.3125 54.6875 \nL 36.8125 54.6875 \nL 36.8125 47.703125 \nL 18.3125 47.703125 \nL 18.3125 18.015625 \nQ 18.3125 11.328125 20.140625 9.421875 \nQ 21.96875 7.515625 27.59375 7.515625 \nL 36.8125 7.515625 \nL 36.8125 0 \nL 27.59375 0 \nQ 17.1875 0 13.234375 3.875 \nQ 9.28125 7.765625 9.28125 18.015625 \nL 9.28125 47.703125 \nL 2.6875 47.703125 \nL 2.6875 54.6875 \nL 9.28125 54.6875 \nL 9.28125 70.21875 \nz\n\" id=\"DejaVuSans-116\"/>\n       <path d=\"M 2.984375 54.6875 \nL 12.5 54.6875 \nL 29.59375 8.796875 \nL 46.6875 54.6875 \nL 56.203125 54.6875 \nL 35.6875 0 \nL 23.484375 0 \nz\n\" id=\"DejaVuSans-118\"/>\n       <path d=\"M 44.390625 34.1875 \nQ 47.5625 33.109375 50.5625 29.59375 \nQ 53.5625 26.078125 56.59375 19.921875 \nL 66.609375 0 \nL 56 0 \nL 46.6875 18.703125 \nQ 43.0625 26.03125 39.671875 28.421875 \nQ 36.28125 30.8125 30.421875 30.8125 \nL 19.671875 30.8125 \nL 19.671875 0 \nL 9.8125 0 \nL 9.8125 72.90625 \nL 32.078125 72.90625 \nQ 44.578125 72.90625 50.734375 67.671875 \nQ 56.890625 62.453125 56.890625 51.90625 \nQ 56.890625 45.015625 53.6875 40.46875 \nQ 50.484375 35.9375 44.390625 34.1875 \nz\nM 19.671875 64.796875 \nL 19.671875 38.921875 \nL 32.078125 38.921875 \nQ 39.203125 38.921875 42.84375 42.21875 \nQ 46.484375 45.515625 46.484375 51.90625 \nQ 46.484375 58.296875 42.84375 61.546875 \nQ 39.203125 64.796875 32.078125 64.796875 \nz\n\" id=\"DejaVuSans-82\"/>\n       <path d=\"M 31 75.875 \nQ 24.46875 64.65625 21.28125 53.65625 \nQ 18.109375 42.671875 18.109375 31.390625 \nQ 18.109375 20.125 21.3125 9.0625 \nQ 24.515625 -2 31 -13.1875 \nL 23.1875 -13.1875 \nQ 15.875 -1.703125 12.234375 9.375 \nQ 8.59375 20.453125 8.59375 31.390625 \nQ 8.59375 42.28125 12.203125 53.3125 \nQ 15.828125 64.359375 23.1875 75.875 \nz\n\" id=\"DejaVuSans-40\"/>\n       <path d=\"M 48.6875 27.296875 \nQ 48.6875 37.203125 44.609375 42.84375 \nQ 40.53125 48.484375 33.40625 48.484375 \nQ 26.265625 48.484375 22.1875 42.84375 \nQ 18.109375 37.203125 18.109375 27.296875 \nQ 18.109375 17.390625 22.1875 11.75 \nQ 26.265625 6.109375 33.40625 6.109375 \nQ 40.53125 6.109375 44.609375 11.75 \nQ 48.6875 17.390625 48.6875 27.296875 \nz\nM 18.109375 46.390625 \nQ 20.953125 51.265625 25.265625 53.625 \nQ 29.59375 56 35.59375 56 \nQ 45.5625 56 51.78125 48.09375 \nQ 58.015625 40.1875 58.015625 27.296875 \nQ 58.015625 14.40625 51.78125 6.484375 \nQ 45.5625 -1.421875 35.59375 -1.421875 \nQ 29.59375 -1.421875 25.265625 0.953125 \nQ 20.953125 3.328125 18.109375 8.203125 \nL 18.109375 0 \nL 9.078125 0 \nL 9.078125 75.984375 \nL 18.109375 75.984375 \nz\n\" id=\"DejaVuSans-98\"/>\n       <path d=\"M 11.71875 12.40625 \nL 22.015625 12.40625 \nL 22.015625 0 \nL 11.71875 0 \nz\nM 11.71875 51.703125 \nL 22.015625 51.703125 \nL 22.015625 39.3125 \nL 11.71875 39.3125 \nz\n\" id=\"DejaVuSans-58\"/>\n       <path d=\"M 18.109375 8.203125 \nL 18.109375 -20.796875 \nL 9.078125 -20.796875 \nL 9.078125 54.6875 \nL 18.109375 54.6875 \nL 18.109375 46.390625 \nQ 20.953125 51.265625 25.265625 53.625 \nQ 29.59375 56 35.59375 56 \nQ 45.5625 56 51.78125 48.09375 \nQ 58.015625 40.1875 58.015625 27.296875 \nQ 58.015625 14.40625 51.78125 6.484375 \nQ 45.5625 -1.421875 35.59375 -1.421875 \nQ 29.59375 -1.421875 25.265625 0.953125 \nQ 20.953125 3.328125 18.109375 8.203125 \nz\nM 48.6875 27.296875 \nQ 48.6875 37.203125 44.609375 42.84375 \nQ 40.53125 48.484375 33.40625 48.484375 \nQ 26.265625 48.484375 22.1875 42.84375 \nQ 18.109375 37.203125 18.109375 27.296875 \nQ 18.109375 17.390625 22.1875 11.75 \nQ 26.265625 6.109375 33.40625 6.109375 \nQ 40.53125 6.109375 44.609375 11.75 \nQ 48.6875 17.390625 48.6875 27.296875 \nz\n\" id=\"DejaVuSans-112\"/>\n       <path d=\"M 8.015625 75.875 \nL 15.828125 75.875 \nQ 23.140625 64.359375 26.78125 53.3125 \nQ 30.421875 42.28125 30.421875 31.390625 \nQ 30.421875 20.453125 26.78125 9.375 \nQ 23.140625 -1.703125 15.828125 -13.1875 \nL 8.015625 -13.1875 \nQ 14.5 -2 17.703125 9.0625 \nQ 20.90625 20.125 20.90625 31.390625 \nQ 20.90625 42.671875 17.703125 53.65625 \nQ 14.5 64.65625 8.015625 75.875 \nz\n\" id=\"DejaVuSans-41\"/>\n      </defs>\n      <use xlink:href=\"#DejaVuSans-70\"/>\n      <use x=\"48.394531\" xlink:href=\"#DejaVuSans-97\"/>\n      <use x=\"109.673828\" xlink:href=\"#DejaVuSans-108\"/>\n      <use x=\"137.457031\" xlink:href=\"#DejaVuSans-115\"/>\n      <use x=\"189.556641\" xlink:href=\"#DejaVuSans-101\"/>\n      <use x=\"251.080078\" xlink:href=\"#DejaVuSans-32\"/>\n      <use x=\"282.867188\" xlink:href=\"#DejaVuSans-80\"/>\n      <use x=\"339.544922\" xlink:href=\"#DejaVuSans-111\"/>\n      <use x=\"400.726562\" xlink:href=\"#DejaVuSans-115\"/>\n      <use x=\"452.826172\" xlink:href=\"#DejaVuSans-105\"/>\n      <use x=\"480.609375\" xlink:href=\"#DejaVuSans-116\"/>\n      <use x=\"519.818359\" xlink:href=\"#DejaVuSans-105\"/>\n      <use x=\"547.601562\" xlink:href=\"#DejaVuSans-118\"/>\n      <use x=\"606.78125\" xlink:href=\"#DejaVuSans-101\"/>\n      <use x=\"668.304688\" xlink:href=\"#DejaVuSans-32\"/>\n      <use x=\"700.091797\" xlink:href=\"#DejaVuSans-82\"/>\n      <use x=\"767.324219\" xlink:href=\"#DejaVuSans-97\"/>\n      <use x=\"828.603516\" xlink:href=\"#DejaVuSans-116\"/>\n      <use x=\"867.8125\" xlink:href=\"#DejaVuSans-101\"/>\n      <use x=\"929.335938\" xlink:href=\"#DejaVuSans-32\"/>\n      <use x=\"961.123047\" xlink:href=\"#DejaVuSans-40\"/>\n      <use x=\"1000.136719\" xlink:href=\"#DejaVuSans-80\"/>\n      <use x=\"1056.814453\" xlink:href=\"#DejaVuSans-111\"/>\n      <use x=\"1117.996094\" xlink:href=\"#DejaVuSans-115\"/>\n      <use x=\"1170.095703\" xlink:href=\"#DejaVuSans-105\"/>\n      <use x=\"1197.878906\" xlink:href=\"#DejaVuSans-116\"/>\n      <use x=\"1237.087891\" xlink:href=\"#DejaVuSans-105\"/>\n      <use x=\"1264.871094\" xlink:href=\"#DejaVuSans-118\"/>\n      <use x=\"1324.050781\" xlink:href=\"#DejaVuSans-101\"/>\n      <use x=\"1385.574219\" xlink:href=\"#DejaVuSans-32\"/>\n      <use x=\"1417.361328\" xlink:href=\"#DejaVuSans-108\"/>\n      <use x=\"1445.144531\" xlink:href=\"#DejaVuSans-97\"/>\n      <use x=\"1506.423828\" xlink:href=\"#DejaVuSans-98\"/>\n      <use x=\"1569.900391\" xlink:href=\"#DejaVuSans-101\"/>\n      <use x=\"1631.423828\" xlink:href=\"#DejaVuSans-108\"/>\n      <use x=\"1659.207031\" xlink:href=\"#DejaVuSans-58\"/>\n      <use x=\"1692.898438\" xlink:href=\"#DejaVuSans-32\"/>\n      <use x=\"1724.685547\" xlink:href=\"#DejaVuSans-112\"/>\n      <use x=\"1788.162109\" xlink:href=\"#DejaVuSans-111\"/>\n      <use x=\"1849.34375\" xlink:href=\"#DejaVuSans-115\"/>\n      <use x=\"1901.443359\" xlink:href=\"#DejaVuSans-41\"/>\n     </g>\n    </g>\n   </g>\n   <g id=\"matplotlib.axis_2\">\n    <g id=\"ytick_1\">\n     <g id=\"line2d_7\">\n      <defs>\n       <path d=\"M 0 0 \nL -3.5 0 \n\" id=\"m398bbece17\" style=\"stroke:#000000;stroke-width:0.8;\"/>\n      </defs>\n      <g>\n       <use style=\"stroke:#000000;stroke-width:0.8;\" x=\"43.78125\" xlink:href=\"#m398bbece17\" y=\"214.756364\"/>\n      </g>\n     </g>\n     <g id=\"text_8\">\n      <!-- 0.0 -->\n      <g transform=\"translate(20.878125 218.555582)scale(0.1 -0.1)\">\n       <use xlink:href=\"#DejaVuSans-48\"/>\n       <use x=\"63.623047\" xlink:href=\"#DejaVuSans-46\"/>\n       <use x=\"95.410156\" xlink:href=\"#DejaVuSans-48\"/>\n      </g>\n     </g>\n    </g>\n    <g id=\"ytick_2\">\n     <g id=\"line2d_8\">\n      <g>\n       <use style=\"stroke:#000000;stroke-width:0.8;\" x=\"43.78125\" xlink:href=\"#m398bbece17\" y=\"175.221818\"/>\n      </g>\n     </g>\n     <g id=\"text_9\">\n      <!-- 0.2 -->\n      <g transform=\"translate(20.878125 179.021037)scale(0.1 -0.1)\">\n       <use xlink:href=\"#DejaVuSans-48\"/>\n       <use x=\"63.623047\" xlink:href=\"#DejaVuSans-46\"/>\n       <use x=\"95.410156\" xlink:href=\"#DejaVuSans-50\"/>\n      </g>\n     </g>\n    </g>\n    <g id=\"ytick_3\">\n     <g id=\"line2d_9\">\n      <g>\n       <use style=\"stroke:#000000;stroke-width:0.8;\" x=\"43.78125\" xlink:href=\"#m398bbece17\" y=\"135.687273\"/>\n      </g>\n     </g>\n     <g id=\"text_10\">\n      <!-- 0.4 -->\n      <g transform=\"translate(20.878125 139.486491)scale(0.1 -0.1)\">\n       <use xlink:href=\"#DejaVuSans-48\"/>\n       <use x=\"63.623047\" xlink:href=\"#DejaVuSans-46\"/>\n       <use x=\"95.410156\" xlink:href=\"#DejaVuSans-52\"/>\n      </g>\n     </g>\n    </g>\n    <g id=\"ytick_4\">\n     <g id=\"line2d_10\">\n      <g>\n       <use style=\"stroke:#000000;stroke-width:0.8;\" x=\"43.78125\" xlink:href=\"#m398bbece17\" y=\"96.152727\"/>\n      </g>\n     </g>\n     <g id=\"text_11\">\n      <!-- 0.6 -->\n      <g transform=\"translate(20.878125 99.951946)scale(0.1 -0.1)\">\n       <use xlink:href=\"#DejaVuSans-48\"/>\n       <use x=\"63.623047\" xlink:href=\"#DejaVuSans-46\"/>\n       <use x=\"95.410156\" xlink:href=\"#DejaVuSans-54\"/>\n      </g>\n     </g>\n    </g>\n    <g id=\"ytick_5\">\n     <g id=\"line2d_11\">\n      <g>\n       <use style=\"stroke:#000000;stroke-width:0.8;\" x=\"43.78125\" xlink:href=\"#m398bbece17\" y=\"56.618182\"/>\n      </g>\n     </g>\n     <g id=\"text_12\">\n      <!-- 0.8 -->\n      <g transform=\"translate(20.878125 60.417401)scale(0.1 -0.1)\">\n       <use xlink:href=\"#DejaVuSans-48\"/>\n       <use x=\"63.623047\" xlink:href=\"#DejaVuSans-46\"/>\n       <use x=\"95.410156\" xlink:href=\"#DejaVuSans-56\"/>\n      </g>\n     </g>\n    </g>\n    <g id=\"ytick_6\">\n     <g id=\"line2d_12\">\n      <g>\n       <use style=\"stroke:#000000;stroke-width:0.8;\" x=\"43.78125\" xlink:href=\"#m398bbece17\" y=\"17.083636\"/>\n      </g>\n     </g>\n     <g id=\"text_13\">\n      <!-- 1.0 -->\n      <g transform=\"translate(20.878125 20.882855)scale(0.1 -0.1)\">\n       <use xlink:href=\"#DejaVuSans-49\"/>\n       <use x=\"63.623047\" xlink:href=\"#DejaVuSans-46\"/>\n       <use x=\"95.410156\" xlink:href=\"#DejaVuSans-48\"/>\n      </g>\n     </g>\n    </g>\n    <g id=\"text_14\">\n     <!-- True Positive Rate (Positive label: pos) -->\n     <g transform=\"translate(14.798438 211.005937)rotate(-90)scale(0.1 -0.1)\">\n      <defs>\n       <path d=\"M -0.296875 72.90625 \nL 61.375 72.90625 \nL 61.375 64.59375 \nL 35.5 64.59375 \nL 35.5 0 \nL 25.59375 0 \nL 25.59375 64.59375 \nL -0.296875 64.59375 \nz\n\" id=\"DejaVuSans-84\"/>\n       <path d=\"M 41.109375 46.296875 \nQ 39.59375 47.171875 37.8125 47.578125 \nQ 36.03125 48 33.890625 48 \nQ 26.265625 48 22.1875 43.046875 \nQ 18.109375 38.09375 18.109375 28.8125 \nL 18.109375 0 \nL 9.078125 0 \nL 9.078125 54.6875 \nL 18.109375 54.6875 \nL 18.109375 46.1875 \nQ 20.953125 51.171875 25.484375 53.578125 \nQ 30.03125 56 36.53125 56 \nQ 37.453125 56 38.578125 55.875 \nQ 39.703125 55.765625 41.0625 55.515625 \nz\n\" id=\"DejaVuSans-114\"/>\n       <path d=\"M 8.5 21.578125 \nL 8.5 54.6875 \nL 17.484375 54.6875 \nL 17.484375 21.921875 \nQ 17.484375 14.15625 20.5 10.265625 \nQ 23.53125 6.390625 29.59375 6.390625 \nQ 36.859375 6.390625 41.078125 11.03125 \nQ 45.3125 15.671875 45.3125 23.6875 \nL 45.3125 54.6875 \nL 54.296875 54.6875 \nL 54.296875 0 \nL 45.3125 0 \nL 45.3125 8.40625 \nQ 42.046875 3.421875 37.71875 1 \nQ 33.40625 -1.421875 27.6875 -1.421875 \nQ 18.265625 -1.421875 13.375 4.4375 \nQ 8.5 10.296875 8.5 21.578125 \nz\nM 31.109375 56 \nz\n\" id=\"DejaVuSans-117\"/>\n      </defs>\n      <use xlink:href=\"#DejaVuSans-84\"/>\n      <use x=\"46.333984\" xlink:href=\"#DejaVuSans-114\"/>\n      <use x=\"87.447266\" xlink:href=\"#DejaVuSans-117\"/>\n      <use x=\"150.826172\" xlink:href=\"#DejaVuSans-101\"/>\n      <use x=\"212.349609\" xlink:href=\"#DejaVuSans-32\"/>\n      <use x=\"244.136719\" xlink:href=\"#DejaVuSans-80\"/>\n      <use x=\"300.814453\" xlink:href=\"#DejaVuSans-111\"/>\n      <use x=\"361.996094\" xlink:href=\"#DejaVuSans-115\"/>\n      <use x=\"414.095703\" xlink:href=\"#DejaVuSans-105\"/>\n      <use x=\"441.878906\" xlink:href=\"#DejaVuSans-116\"/>\n      <use x=\"481.087891\" xlink:href=\"#DejaVuSans-105\"/>\n      <use x=\"508.871094\" xlink:href=\"#DejaVuSans-118\"/>\n      <use x=\"568.050781\" xlink:href=\"#DejaVuSans-101\"/>\n      <use x=\"629.574219\" xlink:href=\"#DejaVuSans-32\"/>\n      <use x=\"661.361328\" xlink:href=\"#DejaVuSans-82\"/>\n      <use x=\"728.59375\" xlink:href=\"#DejaVuSans-97\"/>\n      <use x=\"789.873047\" xlink:href=\"#DejaVuSans-116\"/>\n      <use x=\"829.082031\" xlink:href=\"#DejaVuSans-101\"/>\n      <use x=\"890.605469\" xlink:href=\"#DejaVuSans-32\"/>\n      <use x=\"922.392578\" xlink:href=\"#DejaVuSans-40\"/>\n      <use x=\"961.40625\" xlink:href=\"#DejaVuSans-80\"/>\n      <use x=\"1018.083984\" xlink:href=\"#DejaVuSans-111\"/>\n      <use x=\"1079.265625\" xlink:href=\"#DejaVuSans-115\"/>\n      <use x=\"1131.365234\" xlink:href=\"#DejaVuSans-105\"/>\n      <use x=\"1159.148438\" xlink:href=\"#DejaVuSans-116\"/>\n      <use x=\"1198.357422\" xlink:href=\"#DejaVuSans-105\"/>\n      <use x=\"1226.140625\" xlink:href=\"#DejaVuSans-118\"/>\n      <use x=\"1285.320312\" xlink:href=\"#DejaVuSans-101\"/>\n      <use x=\"1346.84375\" xlink:href=\"#DejaVuSans-32\"/>\n      <use x=\"1378.630859\" xlink:href=\"#DejaVuSans-108\"/>\n      <use x=\"1406.414062\" xlink:href=\"#DejaVuSans-97\"/>\n      <use x=\"1467.693359\" xlink:href=\"#DejaVuSans-98\"/>\n      <use x=\"1531.169922\" xlink:href=\"#DejaVuSans-101\"/>\n      <use x=\"1592.693359\" xlink:href=\"#DejaVuSans-108\"/>\n      <use x=\"1620.476562\" xlink:href=\"#DejaVuSans-58\"/>\n      <use x=\"1654.167969\" xlink:href=\"#DejaVuSans-32\"/>\n      <use x=\"1685.955078\" xlink:href=\"#DejaVuSans-112\"/>\n      <use x=\"1749.431641\" xlink:href=\"#DejaVuSans-111\"/>\n      <use x=\"1810.613281\" xlink:href=\"#DejaVuSans-115\"/>\n      <use x=\"1862.712891\" xlink:href=\"#DejaVuSans-41\"/>\n     </g>\n    </g>\n   </g>\n   <g id=\"line2d_13\">\n    <path clip-path=\"url(#pf9484e2ac1)\" d=\"M 58.999432 214.756364 \nL 58.999432 207.696623 \nL 58.999432 172.397922 \nL 63.004217 172.397922 \nL 63.004217 158.278442 \nL 67.009001 158.278442 \nL 67.009001 144.158961 \nL 71.013786 144.158961 \nL 71.013786 137.099221 \nL 75.018571 137.099221 \nL 75.018571 108.86026 \nL 79.023355 108.86026 \nL 79.023355 87.681039 \nL 83.02814 87.681039 \nL 83.02814 80.621299 \nL 87.032925 80.621299 \nL 87.032925 73.561558 \nL 95.042494 73.561558 \nL 103.052063 73.561558 \nL 103.052063 66.501818 \nL 115.066417 66.501818 \nL 115.066417 59.442078 \nL 143.09991 59.442078 \nL 143.09991 52.382338 \nL 155.114264 52.382338 \nL 163.123834 52.382338 \nL 163.123834 45.322597 \nL 187.152542 45.322597 \nL 187.152542 38.262857 \nL 203.171681 38.262857 \nL 203.171681 31.203117 \nL 207.176465 31.203117 \nL 207.176465 24.143377 \nL 223.195604 24.143377 \nL 223.195604 17.083636 \nL 239.214743 17.083636 \nL 247.224312 17.083636 \nL 283.267374 17.083636 \nL 291.276944 17.083636 \nL 311.300867 17.083636 \nL 319.310437 17.083636 \nL 331.324791 17.083636 \nL 339.33436 17.083636 \nL 363.363068 17.083636 \n\" style=\"fill:none;stroke:#1f77b4;stroke-linecap:square;stroke-width:1.5;\"/>\n   </g>\n   <g id=\"patch_3\">\n    <path d=\"M 43.78125 224.64 \nL 43.78125 7.2 \n\" style=\"fill:none;stroke:#000000;stroke-linecap:square;stroke-linejoin:miter;stroke-width:0.8;\"/>\n   </g>\n   <g id=\"patch_4\">\n    <path d=\"M 378.58125 224.64 \nL 378.58125 7.2 \n\" style=\"fill:none;stroke:#000000;stroke-linecap:square;stroke-linejoin:miter;stroke-width:0.8;\"/>\n   </g>\n   <g id=\"patch_5\">\n    <path d=\"M 43.78125 224.64 \nL 378.58125 224.64 \n\" style=\"fill:none;stroke:#000000;stroke-linecap:square;stroke-linejoin:miter;stroke-width:0.8;\"/>\n   </g>\n   <g id=\"patch_6\">\n    <path d=\"M 43.78125 7.2 \nL 378.58125 7.2 \n\" style=\"fill:none;stroke:#000000;stroke-linecap:square;stroke-linejoin:miter;stroke-width:0.8;\"/>\n   </g>\n   <g id=\"legend_1\">\n    <g id=\"patch_7\">\n     <path d=\"M 152.734375 219.64 \nL 371.58125 219.64 \nQ 373.58125 219.64 373.58125 217.64 \nL 373.58125 203.961875 \nQ 373.58125 201.961875 371.58125 201.961875 \nL 152.734375 201.961875 \nQ 150.734375 201.961875 150.734375 203.961875 \nL 150.734375 217.64 \nQ 150.734375 219.64 152.734375 219.64 \nz\n\" style=\"fill:#ffffff;opacity:0.8;stroke:#cccccc;stroke-linejoin:miter;\"/>\n    </g>\n    <g id=\"line2d_14\">\n     <path d=\"M 154.734375 210.060312 \nL 174.734375 210.060312 \n\" style=\"fill:none;stroke:#1f77b4;stroke-linecap:square;stroke-width:1.5;\"/>\n    </g>\n    <g id=\"line2d_15\"/>\n    <g id=\"text_15\">\n     <!-- RandomForestClassifier (AUC = 0.87) -->\n     <g transform=\"translate(182.734375 213.560312)scale(0.1 -0.1)\">\n      <defs>\n       <path d=\"M 54.890625 33.015625 \nL 54.890625 0 \nL 45.90625 0 \nL 45.90625 32.71875 \nQ 45.90625 40.484375 42.875 44.328125 \nQ 39.84375 48.1875 33.796875 48.1875 \nQ 26.515625 48.1875 22.3125 43.546875 \nQ 18.109375 38.921875 18.109375 30.90625 \nL 18.109375 0 \nL 9.078125 0 \nL 9.078125 54.6875 \nL 18.109375 54.6875 \nL 18.109375 46.1875 \nQ 21.34375 51.125 25.703125 53.5625 \nQ 30.078125 56 35.796875 56 \nQ 45.21875 56 50.046875 50.171875 \nQ 54.890625 44.34375 54.890625 33.015625 \nz\n\" id=\"DejaVuSans-110\"/>\n       <path d=\"M 45.40625 46.390625 \nL 45.40625 75.984375 \nL 54.390625 75.984375 \nL 54.390625 0 \nL 45.40625 0 \nL 45.40625 8.203125 \nQ 42.578125 3.328125 38.25 0.953125 \nQ 33.9375 -1.421875 27.875 -1.421875 \nQ 17.96875 -1.421875 11.734375 6.484375 \nQ 5.515625 14.40625 5.515625 27.296875 \nQ 5.515625 40.1875 11.734375 48.09375 \nQ 17.96875 56 27.875 56 \nQ 33.9375 56 38.25 53.625 \nQ 42.578125 51.265625 45.40625 46.390625 \nz\nM 14.796875 27.296875 \nQ 14.796875 17.390625 18.875 11.75 \nQ 22.953125 6.109375 30.078125 6.109375 \nQ 37.203125 6.109375 41.296875 11.75 \nQ 45.40625 17.390625 45.40625 27.296875 \nQ 45.40625 37.203125 41.296875 42.84375 \nQ 37.203125 48.484375 30.078125 48.484375 \nQ 22.953125 48.484375 18.875 42.84375 \nQ 14.796875 37.203125 14.796875 27.296875 \nz\n\" id=\"DejaVuSans-100\"/>\n       <path d=\"M 52 44.1875 \nQ 55.375 50.25 60.0625 53.125 \nQ 64.75 56 71.09375 56 \nQ 79.640625 56 84.28125 50.015625 \nQ 88.921875 44.046875 88.921875 33.015625 \nL 88.921875 0 \nL 79.890625 0 \nL 79.890625 32.71875 \nQ 79.890625 40.578125 77.09375 44.375 \nQ 74.3125 48.1875 68.609375 48.1875 \nQ 61.625 48.1875 57.5625 43.546875 \nQ 53.515625 38.921875 53.515625 30.90625 \nL 53.515625 0 \nL 44.484375 0 \nL 44.484375 32.71875 \nQ 44.484375 40.625 41.703125 44.40625 \nQ 38.921875 48.1875 33.109375 48.1875 \nQ 26.21875 48.1875 22.15625 43.53125 \nQ 18.109375 38.875 18.109375 30.90625 \nL 18.109375 0 \nL 9.078125 0 \nL 9.078125 54.6875 \nL 18.109375 54.6875 \nL 18.109375 46.1875 \nQ 21.1875 51.21875 25.484375 53.609375 \nQ 29.78125 56 35.6875 56 \nQ 41.65625 56 45.828125 52.96875 \nQ 50 49.953125 52 44.1875 \nz\n\" id=\"DejaVuSans-109\"/>\n       <path d=\"M 64.40625 67.28125 \nL 64.40625 56.890625 \nQ 59.421875 61.53125 53.78125 63.8125 \nQ 48.140625 66.109375 41.796875 66.109375 \nQ 29.296875 66.109375 22.65625 58.46875 \nQ 16.015625 50.828125 16.015625 36.375 \nQ 16.015625 21.96875 22.65625 14.328125 \nQ 29.296875 6.6875 41.796875 6.6875 \nQ 48.140625 6.6875 53.78125 8.984375 \nQ 59.421875 11.28125 64.40625 15.921875 \nL 64.40625 5.609375 \nQ 59.234375 2.09375 53.4375 0.328125 \nQ 47.65625 -1.421875 41.21875 -1.421875 \nQ 24.65625 -1.421875 15.125 8.703125 \nQ 5.609375 18.84375 5.609375 36.375 \nQ 5.609375 53.953125 15.125 64.078125 \nQ 24.65625 74.21875 41.21875 74.21875 \nQ 47.75 74.21875 53.53125 72.484375 \nQ 59.328125 70.75 64.40625 67.28125 \nz\n\" id=\"DejaVuSans-67\"/>\n       <path d=\"M 37.109375 75.984375 \nL 37.109375 68.5 \nL 28.515625 68.5 \nQ 23.6875 68.5 21.796875 66.546875 \nQ 19.921875 64.59375 19.921875 59.515625 \nL 19.921875 54.6875 \nL 34.71875 54.6875 \nL 34.71875 47.703125 \nL 19.921875 47.703125 \nL 19.921875 0 \nL 10.890625 0 \nL 10.890625 47.703125 \nL 2.296875 47.703125 \nL 2.296875 54.6875 \nL 10.890625 54.6875 \nL 10.890625 58.5 \nQ 10.890625 67.625 15.140625 71.796875 \nQ 19.390625 75.984375 28.609375 75.984375 \nz\n\" id=\"DejaVuSans-102\"/>\n       <path d=\"M 34.1875 63.1875 \nL 20.796875 26.90625 \nL 47.609375 26.90625 \nz\nM 28.609375 72.90625 \nL 39.796875 72.90625 \nL 67.578125 0 \nL 57.328125 0 \nL 50.6875 18.703125 \nL 17.828125 18.703125 \nL 11.1875 0 \nL 0.78125 0 \nz\n\" id=\"DejaVuSans-65\"/>\n       <path d=\"M 8.6875 72.90625 \nL 18.609375 72.90625 \nL 18.609375 28.609375 \nQ 18.609375 16.890625 22.84375 11.734375 \nQ 27.09375 6.59375 36.625 6.59375 \nQ 46.09375 6.59375 50.34375 11.734375 \nQ 54.59375 16.890625 54.59375 28.609375 \nL 54.59375 72.90625 \nL 64.5 72.90625 \nL 64.5 27.390625 \nQ 64.5 13.140625 57.4375 5.859375 \nQ 50.390625 -1.421875 36.625 -1.421875 \nQ 22.796875 -1.421875 15.734375 5.859375 \nQ 8.6875 13.140625 8.6875 27.390625 \nz\n\" id=\"DejaVuSans-85\"/>\n       <path d=\"M 10.59375 45.40625 \nL 73.1875 45.40625 \nL 73.1875 37.203125 \nL 10.59375 37.203125 \nz\nM 10.59375 25.484375 \nL 73.1875 25.484375 \nL 73.1875 17.1875 \nL 10.59375 17.1875 \nz\n\" id=\"DejaVuSans-61\"/>\n       <path d=\"M 8.203125 72.90625 \nL 55.078125 72.90625 \nL 55.078125 68.703125 \nL 28.609375 0 \nL 18.3125 0 \nL 43.21875 64.59375 \nL 8.203125 64.59375 \nz\n\" id=\"DejaVuSans-55\"/>\n      </defs>\n      <use xlink:href=\"#DejaVuSans-82\"/>\n      <use x=\"67.232422\" xlink:href=\"#DejaVuSans-97\"/>\n      <use x=\"128.511719\" xlink:href=\"#DejaVuSans-110\"/>\n      <use x=\"191.890625\" xlink:href=\"#DejaVuSans-100\"/>\n      <use x=\"255.367188\" xlink:href=\"#DejaVuSans-111\"/>\n      <use x=\"316.548828\" xlink:href=\"#DejaVuSans-109\"/>\n      <use x=\"413.960938\" xlink:href=\"#DejaVuSans-70\"/>\n      <use x=\"467.855469\" xlink:href=\"#DejaVuSans-111\"/>\n      <use x=\"529.037109\" xlink:href=\"#DejaVuSans-114\"/>\n      <use x=\"567.900391\" xlink:href=\"#DejaVuSans-101\"/>\n      <use x=\"629.423828\" xlink:href=\"#DejaVuSans-115\"/>\n      <use x=\"681.523438\" xlink:href=\"#DejaVuSans-116\"/>\n      <use x=\"720.732422\" xlink:href=\"#DejaVuSans-67\"/>\n      <use x=\"790.556641\" xlink:href=\"#DejaVuSans-108\"/>\n      <use x=\"818.339844\" xlink:href=\"#DejaVuSans-97\"/>\n      <use x=\"879.619141\" xlink:href=\"#DejaVuSans-115\"/>\n      <use x=\"931.71875\" xlink:href=\"#DejaVuSans-115\"/>\n      <use x=\"983.818359\" xlink:href=\"#DejaVuSans-105\"/>\n      <use x=\"1011.601562\" xlink:href=\"#DejaVuSans-102\"/>\n      <use x=\"1046.806641\" xlink:href=\"#DejaVuSans-105\"/>\n      <use x=\"1074.589844\" xlink:href=\"#DejaVuSans-101\"/>\n      <use x=\"1136.113281\" xlink:href=\"#DejaVuSans-114\"/>\n      <use x=\"1177.226562\" xlink:href=\"#DejaVuSans-32\"/>\n      <use x=\"1209.013672\" xlink:href=\"#DejaVuSans-40\"/>\n      <use x=\"1248.027344\" xlink:href=\"#DejaVuSans-65\"/>\n      <use x=\"1316.435547\" xlink:href=\"#DejaVuSans-85\"/>\n      <use x=\"1389.628906\" xlink:href=\"#DejaVuSans-67\"/>\n      <use x=\"1459.453125\" xlink:href=\"#DejaVuSans-32\"/>\n      <use x=\"1491.240234\" xlink:href=\"#DejaVuSans-61\"/>\n      <use x=\"1575.029297\" xlink:href=\"#DejaVuSans-32\"/>\n      <use x=\"1606.816406\" xlink:href=\"#DejaVuSans-48\"/>\n      <use x=\"1670.439453\" xlink:href=\"#DejaVuSans-46\"/>\n      <use x=\"1702.226562\" xlink:href=\"#DejaVuSans-56\"/>\n      <use x=\"1765.849609\" xlink:href=\"#DejaVuSans-55\"/>\n      <use x=\"1829.472656\" xlink:href=\"#DejaVuSans-41\"/>\n     </g>\n    </g>\n   </g>\n  </g>\n </g>\n <defs>\n  <clipPath id=\"pf9484e2ac1\">\n   <rect height=\"217.44\" width=\"334.8\" x=\"43.78125\" y=\"7.2\"/>\n  </clipPath>\n </defs>\n</svg>\n",
      "image/png": "[encoded data removed]"
     },
     "metadata": {
      "needs_background": "light"
     }
    }
   ],
   "source": [
    "plot_roc_curve(class12_rf, atchley_factors_validate, labels_validate)  \n",
    "plt.show()"
   ]
  },
  {
   "source": [
    "So that isn't entirely terrible! Let's see how it works on the test datasets\n",
    "\n"
   ],
   "cell_type": "markdown",
   "metadata": {}
  },
  {
   "cell_type": "code",
   "execution_count": 39,
   "metadata": {},
   "outputs": [],
   "source": [
    "test_positive_DF = fasta_to_pd(test_positive)\n",
    "test_negative_DF = fasta_to_pd(test_negative_classIII)\n",
    "\n",
    "test_positive_Nterm15 = getNterm15(test_positive_DF)\n",
    "test_negative_Nterm15 = getNterm15(test_negative_DF)\n",
    "\n",
    "test_positive_atchley = seqList2FactorDF(test_positive_Nterm15, Factors().Atchley)\n",
    "test_negative_atchley = seqList2FactorDF(test_negative_Nterm15, Factors().Atchley)\n"
   ]
  },
  {
   "cell_type": "code",
   "execution_count": 41,
   "metadata": {},
   "outputs": [
    {
     "output_type": "execute_result",
     "data": {
      "text/plain": [
       "array(['neg', 'neg', 'neg', 'neg', 'neg', 'neg', 'neg', 'neg', 'neg',\n",
       "       'neg', 'neg', 'neg', 'neg'], dtype=object)"
      ]
     },
     "metadata": {},
     "execution_count": 41
    }
   ],
   "source": [
    "class12_rf.predict(test_positive_atchley)"
   ]
  },
  {
   "cell_type": "code",
   "execution_count": 42,
   "metadata": {},
   "outputs": [
    {
     "output_type": "execute_result",
     "data": {
      "text/plain": [
       "array(['neg', 'neg', 'neg', 'neg', 'neg', 'neg', 'neg', 'neg', 'neg',\n",
       "       'neg', 'neg', 'neg', 'neg', 'neg', 'neg', 'neg', 'neg', 'neg',\n",
       "       'neg', 'neg', 'neg', 'neg', 'neg', 'neg', 'pos', 'neg', 'neg',\n",
       "       'neg', 'neg', 'neg', 'neg', 'neg', 'neg', 'neg', 'neg', 'neg',\n",
       "       'pos', 'neg', 'neg', 'neg', 'neg', 'pos', 'neg', 'neg', 'neg',\n",
       "       'neg'], dtype=object)"
      ]
     },
     "metadata": {},
     "execution_count": 42
    }
   ],
   "source": [
    "class12_rf.predict(test_negative_atchley)"
   ]
  },
  {
   "source": [
    "Well that didn't work. The good news is, that it has a very low false positive rate! At least in terms of microcins... The high \"eagerness\" to predict things as negative makes me think we should balance out the dataset. \n",
    "\n",
    "# Balanced dataset\n",
    "\n",
    "Now we will make a model using a balanced negative dataset, such that we have 141 random sampled from the negative dataset."
   ],
   "cell_type": "markdown",
   "metadata": {}
  },
  {
   "cell_type": "code",
   "execution_count": 45,
   "metadata": {},
   "outputs": [
    {
     "output_type": "execute_result",
     "data": {
      "text/plain": [
       "     aa0_factor0  aa0_factor1  aa0_factor2  aa0_factor3  aa0_factor4  \\\n",
       "0           1.83        -0.56         0.53        -0.28         1.65   \n",
       "1           0.95         0.83         1.30        -0.17         0.93   \n",
       "2           1.83        -0.56         0.53        -0.28         1.65   \n",
       "3           1.05         0.30        -3.66        -0.26        -3.24   \n",
       "4           1.05         0.30        -3.66        -0.26        -3.24   \n",
       "..           ...          ...          ...          ...          ...   \n",
       "93         -0.23         1.40        -4.76         0.67        -2.65   \n",
       "373         1.36        -1.45         1.48         0.11        -0.84   \n",
       "122        -0.38         1.65         1.33         1.05         2.06   \n",
       "248        -1.24        -0.55         2.13         0.39         0.82   \n",
       "87          1.83        -0.56         0.53        -0.28         1.65   \n",
       "\n",
       "     aa1_factor0  aa1_factor1  aa1_factor2  aa1_factor3  aa1_factor4  ...  \\\n",
       "0           0.93        -0.18        -3.01        -0.50        -1.85  ...   \n",
       "1           0.95         0.83         1.30        -0.17         0.93  ...   \n",
       "2          -0.03         0.33         2.21         0.91         1.31  ...   \n",
       "3           1.83        -0.56         0.53        -0.28         1.65  ...   \n",
       "4          -0.03         0.33         2.21         0.91         1.31  ...   \n",
       "..           ...          ...          ...          ...          ...  ...   \n",
       "93         -1.24        -0.55         2.13         0.39         0.82  ...   \n",
       "373         1.83        -0.56         0.53        -0.28         1.65  ...   \n",
       "122         0.95         0.83         1.30        -0.17         0.93  ...   \n",
       "248         1.83        -0.56         0.53        -0.28         1.65  ...   \n",
       "87         -0.03         0.33         2.21         0.91         1.31  ...   \n",
       "\n",
       "     aa13_factor1  aa13_factor2  aa13_factor3  aa13_factor4  aa14_factor0  \\\n",
       "0           -0.28         -0.54          1.24         -1.26         -1.34   \n",
       "1           -0.99         -1.51          1.27         -0.91         -0.23   \n",
       "2            0.33          2.21          0.91          1.31         -0.03   \n",
       "3           -0.55          2.13          0.39          0.82         -1.34   \n",
       "4           -1.30         -0.73          1.57         -0.15         -0.66   \n",
       "..            ...           ...           ...           ...           ...   \n",
       "93          -1.45          1.48          0.11         -0.84         -1.02   \n",
       "373          1.40         -4.76          0.67         -2.65         -1.02   \n",
       "122         -1.45          1.48          0.11         -0.84         -0.59   \n",
       "248         -0.56          0.53         -0.28          1.65          0.95   \n",
       "87           0.33          2.21          0.91          1.31          1.83   \n",
       "\n",
       "     aa14_factor1  aa14_factor2  aa14_factor3  aa14_factor4  label  \n",
       "0           -0.28         -0.54          1.24         -1.26    pos  \n",
       "1            1.40         -4.76          0.67         -2.65    pos  \n",
       "2            0.33          2.21          0.91          1.31    pos  \n",
       "3            0.47         -0.86         -1.02         -0.26    pos  \n",
       "4           -1.52          2.22         -1.01          1.21    pos  \n",
       "..            ...           ...           ...           ...    ...  \n",
       "93          -0.99         -1.51          1.27         -0.91    neg  \n",
       "373         -0.99         -1.51          1.27         -0.91    neg  \n",
       "122         -1.30         -0.73          1.57         -0.15    neg  \n",
       "248          0.83          1.30         -0.17          0.93    neg  \n",
       "87          -0.56          0.53         -0.28          1.65    neg  \n",
       "\n",
       "[282 rows x 76 columns]"
      ],
      "text/html": "<div>\n<style scoped>\n    .dataframe tbody tr th:only-of-type {\n        vertical-align: middle;\n    }\n\n    .dataframe tbody tr th {\n        vertical-align: top;\n    }\n\n    .dataframe thead th {\n        text-align: right;\n    }\n</style>\n<table border=\"1\" class=\"dataframe\">\n  <thead>\n    <tr style=\"text-align: right;\">\n      <th></th>\n      <th>aa0_factor0</th>\n      <th>aa0_factor1</th>\n      <th>aa0_factor2</th>\n      <th>aa0_factor3</th>\n      <th>aa0_factor4</th>\n      <th>aa1_factor0</th>\n      <th>aa1_factor1</th>\n      <th>aa1_factor2</th>\n      <th>aa1_factor3</th>\n      <th>aa1_factor4</th>\n      <th>...</th>\n      <th>aa13_factor1</th>\n      <th>aa13_factor2</th>\n      <th>aa13_factor3</th>\n      <th>aa13_factor4</th>\n      <th>aa14_factor0</th>\n      <th>aa14_factor1</th>\n      <th>aa14_factor2</th>\n      <th>aa14_factor3</th>\n      <th>aa14_factor4</th>\n      <th>label</th>\n    </tr>\n  </thead>\n  <tbody>\n    <tr>\n      <th>0</th>\n      <td>1.83</td>\n      <td>-0.56</td>\n      <td>0.53</td>\n      <td>-0.28</td>\n      <td>1.65</td>\n      <td>0.93</td>\n      <td>-0.18</td>\n      <td>-3.01</td>\n      <td>-0.50</td>\n      <td>-1.85</td>\n      <td>...</td>\n      <td>-0.28</td>\n      <td>-0.54</td>\n      <td>1.24</td>\n      <td>-1.26</td>\n      <td>-1.34</td>\n      <td>-0.28</td>\n      <td>-0.54</td>\n      <td>1.24</td>\n      <td>-1.26</td>\n      <td>pos</td>\n    </tr>\n    <tr>\n      <th>1</th>\n      <td>0.95</td>\n      <td>0.83</td>\n      <td>1.30</td>\n      <td>-0.17</td>\n      <td>0.93</td>\n      <td>0.95</td>\n      <td>0.83</td>\n      <td>1.30</td>\n      <td>-0.17</td>\n      <td>0.93</td>\n      <td>...</td>\n      <td>-0.99</td>\n      <td>-1.51</td>\n      <td>1.27</td>\n      <td>-0.91</td>\n      <td>-0.23</td>\n      <td>1.40</td>\n      <td>-4.76</td>\n      <td>0.67</td>\n      <td>-2.65</td>\n      <td>pos</td>\n    </tr>\n    <tr>\n      <th>2</th>\n      <td>1.83</td>\n      <td>-0.56</td>\n      <td>0.53</td>\n      <td>-0.28</td>\n      <td>1.65</td>\n      <td>-0.03</td>\n      <td>0.33</td>\n      <td>2.21</td>\n      <td>0.91</td>\n      <td>1.31</td>\n      <td>...</td>\n      <td>0.33</td>\n      <td>2.21</td>\n      <td>0.91</td>\n      <td>1.31</td>\n      <td>-0.03</td>\n      <td>0.33</td>\n      <td>2.21</td>\n      <td>0.91</td>\n      <td>1.31</td>\n      <td>pos</td>\n    </tr>\n    <tr>\n      <th>3</th>\n      <td>1.05</td>\n      <td>0.30</td>\n      <td>-3.66</td>\n      <td>-0.26</td>\n      <td>-3.24</td>\n      <td>1.83</td>\n      <td>-0.56</td>\n      <td>0.53</td>\n      <td>-0.28</td>\n      <td>1.65</td>\n      <td>...</td>\n      <td>-0.55</td>\n      <td>2.13</td>\n      <td>0.39</td>\n      <td>0.82</td>\n      <td>-1.34</td>\n      <td>0.47</td>\n      <td>-0.86</td>\n      <td>-1.02</td>\n      <td>-0.26</td>\n      <td>pos</td>\n    </tr>\n    <tr>\n      <th>4</th>\n      <td>1.05</td>\n      <td>0.30</td>\n      <td>-3.66</td>\n      <td>-0.26</td>\n      <td>-3.24</td>\n      <td>-0.03</td>\n      <td>0.33</td>\n      <td>2.21</td>\n      <td>0.91</td>\n      <td>1.31</td>\n      <td>...</td>\n      <td>-1.30</td>\n      <td>-0.73</td>\n      <td>1.57</td>\n      <td>-0.15</td>\n      <td>-0.66</td>\n      <td>-1.52</td>\n      <td>2.22</td>\n      <td>-1.01</td>\n      <td>1.21</td>\n      <td>pos</td>\n    </tr>\n    <tr>\n      <th>...</th>\n      <td>...</td>\n      <td>...</td>\n      <td>...</td>\n      <td>...</td>\n      <td>...</td>\n      <td>...</td>\n      <td>...</td>\n      <td>...</td>\n      <td>...</td>\n      <td>...</td>\n      <td>...</td>\n      <td>...</td>\n      <td>...</td>\n      <td>...</td>\n      <td>...</td>\n      <td>...</td>\n      <td>...</td>\n      <td>...</td>\n      <td>...</td>\n      <td>...</td>\n      <td>...</td>\n    </tr>\n    <tr>\n      <th>93</th>\n      <td>-0.23</td>\n      <td>1.40</td>\n      <td>-4.76</td>\n      <td>0.67</td>\n      <td>-2.65</td>\n      <td>-1.24</td>\n      <td>-0.55</td>\n      <td>2.13</td>\n      <td>0.39</td>\n      <td>0.82</td>\n      <td>...</td>\n      <td>-1.45</td>\n      <td>1.48</td>\n      <td>0.11</td>\n      <td>-0.84</td>\n      <td>-1.02</td>\n      <td>-0.99</td>\n      <td>-1.51</td>\n      <td>1.27</td>\n      <td>-0.91</td>\n      <td>neg</td>\n    </tr>\n    <tr>\n      <th>373</th>\n      <td>1.36</td>\n      <td>-1.45</td>\n      <td>1.48</td>\n      <td>0.11</td>\n      <td>-0.84</td>\n      <td>1.83</td>\n      <td>-0.56</td>\n      <td>0.53</td>\n      <td>-0.28</td>\n      <td>1.65</td>\n      <td>...</td>\n      <td>1.40</td>\n      <td>-4.76</td>\n      <td>0.67</td>\n      <td>-2.65</td>\n      <td>-1.02</td>\n      <td>-0.99</td>\n      <td>-1.51</td>\n      <td>1.27</td>\n      <td>-0.91</td>\n      <td>neg</td>\n    </tr>\n    <tr>\n      <th>122</th>\n      <td>-0.38</td>\n      <td>1.65</td>\n      <td>1.33</td>\n      <td>1.05</td>\n      <td>2.06</td>\n      <td>0.95</td>\n      <td>0.83</td>\n      <td>1.30</td>\n      <td>-0.17</td>\n      <td>0.93</td>\n      <td>...</td>\n      <td>-1.45</td>\n      <td>1.48</td>\n      <td>0.11</td>\n      <td>-0.84</td>\n      <td>-0.59</td>\n      <td>-1.30</td>\n      <td>-0.73</td>\n      <td>1.57</td>\n      <td>-0.15</td>\n      <td>neg</td>\n    </tr>\n    <tr>\n      <th>248</th>\n      <td>-1.24</td>\n      <td>-0.55</td>\n      <td>2.13</td>\n      <td>0.39</td>\n      <td>0.82</td>\n      <td>1.83</td>\n      <td>-0.56</td>\n      <td>0.53</td>\n      <td>-0.28</td>\n      <td>1.65</td>\n      <td>...</td>\n      <td>-0.56</td>\n      <td>0.53</td>\n      <td>-0.28</td>\n      <td>1.65</td>\n      <td>0.95</td>\n      <td>0.83</td>\n      <td>1.30</td>\n      <td>-0.17</td>\n      <td>0.93</td>\n      <td>neg</td>\n    </tr>\n    <tr>\n      <th>87</th>\n      <td>1.83</td>\n      <td>-0.56</td>\n      <td>0.53</td>\n      <td>-0.28</td>\n      <td>1.65</td>\n      <td>-0.03</td>\n      <td>0.33</td>\n      <td>2.21</td>\n      <td>0.91</td>\n      <td>1.31</td>\n      <td>...</td>\n      <td>0.33</td>\n      <td>2.21</td>\n      <td>0.91</td>\n      <td>1.31</td>\n      <td>1.83</td>\n      <td>-0.56</td>\n      <td>0.53</td>\n      <td>-0.28</td>\n      <td>1.65</td>\n      <td>neg</td>\n    </tr>\n  </tbody>\n</table>\n<p>282 rows × 76 columns</p>\n</div>"
     },
     "metadata": {},
     "execution_count": 45
    }
   ],
   "source": [
    "\n",
    "negative_Nterm15_atchley_balanced = negative_Nterm15_atchley.sample(len(positive_Nterm15_atchley))\n",
    "negative_Nterm15_atchley_balanced[\"label\"] = \"neg\"\n",
    "\n",
    "all_atchley_balanced = positive_Nterm15_atchley.append(negative_Nterm15_atchley_balanced)\n",
    "\n",
    "all_atchley_balanced"
   ]
  },
  {
   "cell_type": "code",
   "execution_count": 48,
   "metadata": {},
   "outputs": [
    {
     "output_type": "execute_result",
     "data": {
      "text/plain": [
       "     aa0_factor0  aa0_factor1  aa0_factor2  aa0_factor3  aa0_factor4  \\\n",
       "177        -0.66        -1.52         2.22        -1.01         1.21   \n",
       "306        -1.34        -0.28        -0.54         1.24        -1.26   \n",
       "176         1.83        -0.56         0.53        -0.28         1.65   \n",
       "139         1.05         0.30        -3.66        -0.26        -3.24   \n",
       "261         1.36        -1.45         1.48         0.11        -0.84   \n",
       "..           ...          ...          ...          ...          ...   \n",
       "30          1.83        -0.56         0.53        -0.28         1.65   \n",
       "324        -0.23         1.40        -4.76         0.67        -2.65   \n",
       "127         1.83        -0.56         0.53        -0.28         1.65   \n",
       "118         1.83        -0.56         0.53        -0.28         1.65   \n",
       "93          1.83        -0.56         0.53        -0.28         1.65   \n",
       "\n",
       "     aa1_factor0  aa1_factor1  aa1_factor2  aa1_factor3  aa1_factor4  ...  \\\n",
       "177         1.83        -0.56         0.53        -0.28         1.65  ...   \n",
       "306         0.95         0.83         1.30        -0.17         0.93  ...   \n",
       "176         1.83        -0.56         0.53        -0.28         1.65  ...   \n",
       "139         0.95         0.83         1.30        -0.17         0.93  ...   \n",
       "261         1.54        -0.06         1.50         0.44         2.90  ...   \n",
       "..           ...          ...          ...          ...          ...  ...   \n",
       "30          0.34        -0.42        -1.67        -1.47        -0.08  ...   \n",
       "324        -1.01        -0.59         1.89        -0.40         0.41  ...   \n",
       "127         1.83        -0.56         0.53        -0.28         1.65  ...   \n",
       "118        -0.03         0.33         2.21         0.91         1.31  ...   \n",
       "93         -1.24        -0.55         2.13         0.39         0.82  ...   \n",
       "\n",
       "     aa13_factor0  aa13_factor1  aa13_factor2  aa13_factor3  aa13_factor4  \\\n",
       "177         -0.59         -1.30         -0.73          1.57         -0.15   \n",
       "306         -0.59         -1.30         -0.73          1.57         -0.15   \n",
       "176         -1.34         -0.28         -0.54          1.24         -1.26   \n",
       "139         -1.02         -0.99         -1.51          1.27         -0.91   \n",
       "261         -1.34         -0.28         -0.54          1.24         -1.26   \n",
       "..            ...           ...           ...           ...           ...   \n",
       "30          -1.24         -0.55          2.13          0.39          0.82   \n",
       "324         -1.24         -0.55          2.13          0.39          0.82   \n",
       "127         -1.24         -0.55          2.13          0.39          0.82   \n",
       "118         -1.24         -0.55          2.13          0.39          0.82   \n",
       "93          -1.24         -0.55          2.13          0.39          0.82   \n",
       "\n",
       "     aa14_factor0  aa14_factor1  aa14_factor2  aa14_factor3  aa14_factor4  \n",
       "177         -0.38          1.65          1.33          1.05          2.06  \n",
       "306          0.93         -0.18         -3.01         -0.50         -1.85  \n",
       "176         -0.03          0.33          2.21          0.91          1.31  \n",
       "139          0.93         -0.18         -3.01         -0.50         -1.85  \n",
       "261          1.36         -1.45          1.48          0.11         -0.84  \n",
       "..            ...           ...           ...           ...           ...  \n",
       "30           0.26          0.83          3.10         -0.84          1.51  \n",
       "324          1.36         -1.45          1.48          0.11         -0.84  \n",
       "127         -0.38          1.65          1.33          1.05          2.06  \n",
       "118          1.36         -1.45          1.48          0.11         -0.84  \n",
       "93          -1.01         -0.59          1.89         -0.40          0.41  \n",
       "\n",
       "[225 rows x 75 columns]"
      ],
      "text/html": "<div>\n<style scoped>\n    .dataframe tbody tr th:only-of-type {\n        vertical-align: middle;\n    }\n\n    .dataframe tbody tr th {\n        vertical-align: top;\n    }\n\n    .dataframe thead th {\n        text-align: right;\n    }\n</style>\n<table border=\"1\" class=\"dataframe\">\n  <thead>\n    <tr style=\"text-align: right;\">\n      <th></th>\n      <th>aa0_factor0</th>\n      <th>aa0_factor1</th>\n      <th>aa0_factor2</th>\n      <th>aa0_factor3</th>\n      <th>aa0_factor4</th>\n      <th>aa1_factor0</th>\n      <th>aa1_factor1</th>\n      <th>aa1_factor2</th>\n      <th>aa1_factor3</th>\n      <th>aa1_factor4</th>\n      <th>...</th>\n      <th>aa13_factor0</th>\n      <th>aa13_factor1</th>\n      <th>aa13_factor2</th>\n      <th>aa13_factor3</th>\n      <th>aa13_factor4</th>\n      <th>aa14_factor0</th>\n      <th>aa14_factor1</th>\n      <th>aa14_factor2</th>\n      <th>aa14_factor3</th>\n      <th>aa14_factor4</th>\n    </tr>\n  </thead>\n  <tbody>\n    <tr>\n      <th>177</th>\n      <td>-0.66</td>\n      <td>-1.52</td>\n      <td>2.22</td>\n      <td>-1.01</td>\n      <td>1.21</td>\n      <td>1.83</td>\n      <td>-0.56</td>\n      <td>0.53</td>\n      <td>-0.28</td>\n      <td>1.65</td>\n      <td>...</td>\n      <td>-0.59</td>\n      <td>-1.30</td>\n      <td>-0.73</td>\n      <td>1.57</td>\n      <td>-0.15</td>\n      <td>-0.38</td>\n      <td>1.65</td>\n      <td>1.33</td>\n      <td>1.05</td>\n      <td>2.06</td>\n    </tr>\n    <tr>\n      <th>306</th>\n      <td>-1.34</td>\n      <td>-0.28</td>\n      <td>-0.54</td>\n      <td>1.24</td>\n      <td>-1.26</td>\n      <td>0.95</td>\n      <td>0.83</td>\n      <td>1.30</td>\n      <td>-0.17</td>\n      <td>0.93</td>\n      <td>...</td>\n      <td>-0.59</td>\n      <td>-1.30</td>\n      <td>-0.73</td>\n      <td>1.57</td>\n      <td>-0.15</td>\n      <td>0.93</td>\n      <td>-0.18</td>\n      <td>-3.01</td>\n      <td>-0.50</td>\n      <td>-1.85</td>\n    </tr>\n    <tr>\n      <th>176</th>\n      <td>1.83</td>\n      <td>-0.56</td>\n      <td>0.53</td>\n      <td>-0.28</td>\n      <td>1.65</td>\n      <td>1.83</td>\n      <td>-0.56</td>\n      <td>0.53</td>\n      <td>-0.28</td>\n      <td>1.65</td>\n      <td>...</td>\n      <td>-1.34</td>\n      <td>-0.28</td>\n      <td>-0.54</td>\n      <td>1.24</td>\n      <td>-1.26</td>\n      <td>-0.03</td>\n      <td>0.33</td>\n      <td>2.21</td>\n      <td>0.91</td>\n      <td>1.31</td>\n    </tr>\n    <tr>\n      <th>139</th>\n      <td>1.05</td>\n      <td>0.30</td>\n      <td>-3.66</td>\n      <td>-0.26</td>\n      <td>-3.24</td>\n      <td>0.95</td>\n      <td>0.83</td>\n      <td>1.30</td>\n      <td>-0.17</td>\n      <td>0.93</td>\n      <td>...</td>\n      <td>-1.02</td>\n      <td>-0.99</td>\n      <td>-1.51</td>\n      <td>1.27</td>\n      <td>-0.91</td>\n      <td>0.93</td>\n      <td>-0.18</td>\n      <td>-3.01</td>\n      <td>-0.50</td>\n      <td>-1.85</td>\n    </tr>\n    <tr>\n      <th>261</th>\n      <td>1.36</td>\n      <td>-1.45</td>\n      <td>1.48</td>\n      <td>0.11</td>\n      <td>-0.84</td>\n      <td>1.54</td>\n      <td>-0.06</td>\n      <td>1.50</td>\n      <td>0.44</td>\n      <td>2.90</td>\n      <td>...</td>\n      <td>-1.34</td>\n      <td>-0.28</td>\n      <td>-0.54</td>\n      <td>1.24</td>\n      <td>-1.26</td>\n      <td>1.36</td>\n      <td>-1.45</td>\n      <td>1.48</td>\n      <td>0.11</td>\n      <td>-0.84</td>\n    </tr>\n    <tr>\n      <th>...</th>\n      <td>...</td>\n      <td>...</td>\n      <td>...</td>\n      <td>...</td>\n      <td>...</td>\n      <td>...</td>\n      <td>...</td>\n      <td>...</td>\n      <td>...</td>\n      <td>...</td>\n      <td>...</td>\n      <td>...</td>\n      <td>...</td>\n      <td>...</td>\n      <td>...</td>\n      <td>...</td>\n      <td>...</td>\n      <td>...</td>\n      <td>...</td>\n      <td>...</td>\n      <td>...</td>\n    </tr>\n    <tr>\n      <th>30</th>\n      <td>1.83</td>\n      <td>-0.56</td>\n      <td>0.53</td>\n      <td>-0.28</td>\n      <td>1.65</td>\n      <td>0.34</td>\n      <td>-0.42</td>\n      <td>-1.67</td>\n      <td>-1.47</td>\n      <td>-0.08</td>\n      <td>...</td>\n      <td>-1.24</td>\n      <td>-0.55</td>\n      <td>2.13</td>\n      <td>0.39</td>\n      <td>0.82</td>\n      <td>0.26</td>\n      <td>0.83</td>\n      <td>3.10</td>\n      <td>-0.84</td>\n      <td>1.51</td>\n    </tr>\n    <tr>\n      <th>324</th>\n      <td>-0.23</td>\n      <td>1.40</td>\n      <td>-4.76</td>\n      <td>0.67</td>\n      <td>-2.65</td>\n      <td>-1.01</td>\n      <td>-0.59</td>\n      <td>1.89</td>\n      <td>-0.40</td>\n      <td>0.41</td>\n      <td>...</td>\n      <td>-1.24</td>\n      <td>-0.55</td>\n      <td>2.13</td>\n      <td>0.39</td>\n      <td>0.82</td>\n      <td>1.36</td>\n      <td>-1.45</td>\n      <td>1.48</td>\n      <td>0.11</td>\n      <td>-0.84</td>\n    </tr>\n    <tr>\n      <th>127</th>\n      <td>1.83</td>\n      <td>-0.56</td>\n      <td>0.53</td>\n      <td>-0.28</td>\n      <td>1.65</td>\n      <td>1.83</td>\n      <td>-0.56</td>\n      <td>0.53</td>\n      <td>-0.28</td>\n      <td>1.65</td>\n      <td>...</td>\n      <td>-1.24</td>\n      <td>-0.55</td>\n      <td>2.13</td>\n      <td>0.39</td>\n      <td>0.82</td>\n      <td>-0.38</td>\n      <td>1.65</td>\n      <td>1.33</td>\n      <td>1.05</td>\n      <td>2.06</td>\n    </tr>\n    <tr>\n      <th>118</th>\n      <td>1.83</td>\n      <td>-0.56</td>\n      <td>0.53</td>\n      <td>-0.28</td>\n      <td>1.65</td>\n      <td>-0.03</td>\n      <td>0.33</td>\n      <td>2.21</td>\n      <td>0.91</td>\n      <td>1.31</td>\n      <td>...</td>\n      <td>-1.24</td>\n      <td>-0.55</td>\n      <td>2.13</td>\n      <td>0.39</td>\n      <td>0.82</td>\n      <td>1.36</td>\n      <td>-1.45</td>\n      <td>1.48</td>\n      <td>0.11</td>\n      <td>-0.84</td>\n    </tr>\n    <tr>\n      <th>93</th>\n      <td>1.83</td>\n      <td>-0.56</td>\n      <td>0.53</td>\n      <td>-0.28</td>\n      <td>1.65</td>\n      <td>-1.24</td>\n      <td>-0.55</td>\n      <td>2.13</td>\n      <td>0.39</td>\n      <td>0.82</td>\n      <td>...</td>\n      <td>-1.24</td>\n      <td>-0.55</td>\n      <td>2.13</td>\n      <td>0.39</td>\n      <td>0.82</td>\n      <td>-1.01</td>\n      <td>-0.59</td>\n      <td>1.89</td>\n      <td>-0.40</td>\n      <td>0.41</td>\n    </tr>\n  </tbody>\n</table>\n<p>225 rows × 75 columns</p>\n</div>"
     },
     "metadata": {},
     "execution_count": 48
    }
   ],
   "source": [
    "atchley_factors_balanced = all_atchley_balanced.drop('label', axis=1)\n",
    "labels_balanced = all_atchley_balanced['label'].copy()\n",
    "\n",
    "atchley_factors_train_balanced, atchley_factors_validate_balanced, labels_train_balanced, labels_validate_balanced = train_test_split(atchley_factors_balanced, labels_balanced, test_size=0.2, random_state =42, stratify=labels_balanced)\n",
    "atchley_factors_train_balanced"
   ]
  },
  {
   "cell_type": "code",
   "execution_count": 47,
   "metadata": {},
   "outputs": [
    {
     "output_type": "execute_result",
     "data": {
      "text/plain": [
       "     aa0_factor0  aa0_factor1  aa0_factor2  aa0_factor3  aa0_factor4  \\\n",
       "0           1.83        -0.56         0.53        -0.28         1.65   \n",
       "1           0.95         0.83         1.30        -0.17         0.93   \n",
       "2           1.83        -0.56         0.53        -0.28         1.65   \n",
       "3           1.05         0.30        -3.66        -0.26        -3.24   \n",
       "4           1.05         0.30        -3.66        -0.26        -3.24   \n",
       "..           ...          ...          ...          ...          ...   \n",
       "93         -0.23         1.40        -4.76         0.67        -2.65   \n",
       "373         1.36        -1.45         1.48         0.11        -0.84   \n",
       "122        -0.38         1.65         1.33         1.05         2.06   \n",
       "248        -1.24        -0.55         2.13         0.39         0.82   \n",
       "87          1.83        -0.56         0.53        -0.28         1.65   \n",
       "\n",
       "     aa1_factor0  aa1_factor1  aa1_factor2  aa1_factor3  aa1_factor4  ...  \\\n",
       "0           0.93        -0.18        -3.01        -0.50        -1.85  ...   \n",
       "1           0.95         0.83         1.30        -0.17         0.93  ...   \n",
       "2          -0.03         0.33         2.21         0.91         1.31  ...   \n",
       "3           1.83        -0.56         0.53        -0.28         1.65  ...   \n",
       "4          -0.03         0.33         2.21         0.91         1.31  ...   \n",
       "..           ...          ...          ...          ...          ...  ...   \n",
       "93         -1.24        -0.55         2.13         0.39         0.82  ...   \n",
       "373         1.83        -0.56         0.53        -0.28         1.65  ...   \n",
       "122         0.95         0.83         1.30        -0.17         0.93  ...   \n",
       "248         1.83        -0.56         0.53        -0.28         1.65  ...   \n",
       "87         -0.03         0.33         2.21         0.91         1.31  ...   \n",
       "\n",
       "     aa13_factor0  aa13_factor1  aa13_factor2  aa13_factor3  aa13_factor4  \\\n",
       "0           -1.34         -0.28         -0.54          1.24         -1.26   \n",
       "1           -1.02         -0.99         -1.51          1.27         -0.91   \n",
       "2           -0.03          0.33          2.21          0.91          1.31   \n",
       "3           -1.24         -0.55          2.13          0.39          0.82   \n",
       "4           -0.59         -1.30         -0.73          1.57         -0.15   \n",
       "..            ...           ...           ...           ...           ...   \n",
       "93           1.36         -1.45          1.48          0.11         -0.84   \n",
       "373         -0.23          1.40         -4.76          0.67         -2.65   \n",
       "122          1.36         -1.45          1.48          0.11         -0.84   \n",
       "248          1.83         -0.56          0.53         -0.28          1.65   \n",
       "87          -0.03          0.33          2.21          0.91          1.31   \n",
       "\n",
       "     aa14_factor0  aa14_factor1  aa14_factor2  aa14_factor3  aa14_factor4  \n",
       "0           -1.34         -0.28         -0.54          1.24         -1.26  \n",
       "1           -0.23          1.40         -4.76          0.67         -2.65  \n",
       "2           -0.03          0.33          2.21          0.91          1.31  \n",
       "3           -1.34          0.47         -0.86         -1.02         -0.26  \n",
       "4           -0.66         -1.52          2.22         -1.01          1.21  \n",
       "..            ...           ...           ...           ...           ...  \n",
       "93          -1.02         -0.99         -1.51          1.27         -0.91  \n",
       "373         -1.02         -0.99         -1.51          1.27         -0.91  \n",
       "122         -0.59         -1.30         -0.73          1.57         -0.15  \n",
       "248          0.95          0.83          1.30         -0.17          0.93  \n",
       "87           1.83         -0.56          0.53         -0.28          1.65  \n",
       "\n",
       "[282 rows x 75 columns]"
      ],
      "text/html": "<div>\n<style scoped>\n    .dataframe tbody tr th:only-of-type {\n        vertical-align: middle;\n    }\n\n    .dataframe tbody tr th {\n        vertical-align: top;\n    }\n\n    .dataframe thead th {\n        text-align: right;\n    }\n</style>\n<table border=\"1\" class=\"dataframe\">\n  <thead>\n    <tr style=\"text-align: right;\">\n      <th></th>\n      <th>aa0_factor0</th>\n      <th>aa0_factor1</th>\n      <th>aa0_factor2</th>\n      <th>aa0_factor3</th>\n      <th>aa0_factor4</th>\n      <th>aa1_factor0</th>\n      <th>aa1_factor1</th>\n      <th>aa1_factor2</th>\n      <th>aa1_factor3</th>\n      <th>aa1_factor4</th>\n      <th>...</th>\n      <th>aa13_factor0</th>\n      <th>aa13_factor1</th>\n      <th>aa13_factor2</th>\n      <th>aa13_factor3</th>\n      <th>aa13_factor4</th>\n      <th>aa14_factor0</th>\n      <th>aa14_factor1</th>\n      <th>aa14_factor2</th>\n      <th>aa14_factor3</th>\n      <th>aa14_factor4</th>\n    </tr>\n  </thead>\n  <tbody>\n    <tr>\n      <th>0</th>\n      <td>1.83</td>\n      <td>-0.56</td>\n      <td>0.53</td>\n      <td>-0.28</td>\n      <td>1.65</td>\n      <td>0.93</td>\n      <td>-0.18</td>\n      <td>-3.01</td>\n      <td>-0.50</td>\n      <td>-1.85</td>\n      <td>...</td>\n      <td>-1.34</td>\n      <td>-0.28</td>\n      <td>-0.54</td>\n      <td>1.24</td>\n      <td>-1.26</td>\n      <td>-1.34</td>\n      <td>-0.28</td>\n      <td>-0.54</td>\n      <td>1.24</td>\n      <td>-1.26</td>\n    </tr>\n    <tr>\n      <th>1</th>\n      <td>0.95</td>\n      <td>0.83</td>\n      <td>1.30</td>\n      <td>-0.17</td>\n      <td>0.93</td>\n      <td>0.95</td>\n      <td>0.83</td>\n      <td>1.30</td>\n      <td>-0.17</td>\n      <td>0.93</td>\n      <td>...</td>\n      <td>-1.02</td>\n      <td>-0.99</td>\n      <td>-1.51</td>\n      <td>1.27</td>\n      <td>-0.91</td>\n      <td>-0.23</td>\n      <td>1.40</td>\n      <td>-4.76</td>\n      <td>0.67</td>\n      <td>-2.65</td>\n    </tr>\n    <tr>\n      <th>2</th>\n      <td>1.83</td>\n      <td>-0.56</td>\n      <td>0.53</td>\n      <td>-0.28</td>\n      <td>1.65</td>\n      <td>-0.03</td>\n      <td>0.33</td>\n      <td>2.21</td>\n      <td>0.91</td>\n      <td>1.31</td>\n      <td>...</td>\n      <td>-0.03</td>\n      <td>0.33</td>\n      <td>2.21</td>\n      <td>0.91</td>\n      <td>1.31</td>\n      <td>-0.03</td>\n      <td>0.33</td>\n      <td>2.21</td>\n      <td>0.91</td>\n      <td>1.31</td>\n    </tr>\n    <tr>\n      <th>3</th>\n      <td>1.05</td>\n      <td>0.30</td>\n      <td>-3.66</td>\n      <td>-0.26</td>\n      <td>-3.24</td>\n      <td>1.83</td>\n      <td>-0.56</td>\n      <td>0.53</td>\n      <td>-0.28</td>\n      <td>1.65</td>\n      <td>...</td>\n      <td>-1.24</td>\n      <td>-0.55</td>\n      <td>2.13</td>\n      <td>0.39</td>\n      <td>0.82</td>\n      <td>-1.34</td>\n      <td>0.47</td>\n      <td>-0.86</td>\n      <td>-1.02</td>\n      <td>-0.26</td>\n    </tr>\n    <tr>\n      <th>4</th>\n      <td>1.05</td>\n      <td>0.30</td>\n      <td>-3.66</td>\n      <td>-0.26</td>\n      <td>-3.24</td>\n      <td>-0.03</td>\n      <td>0.33</td>\n      <td>2.21</td>\n      <td>0.91</td>\n      <td>1.31</td>\n      <td>...</td>\n      <td>-0.59</td>\n      <td>-1.30</td>\n      <td>-0.73</td>\n      <td>1.57</td>\n      <td>-0.15</td>\n      <td>-0.66</td>\n      <td>-1.52</td>\n      <td>2.22</td>\n      <td>-1.01</td>\n      <td>1.21</td>\n    </tr>\n    <tr>\n      <th>...</th>\n      <td>...</td>\n      <td>...</td>\n      <td>...</td>\n      <td>...</td>\n      <td>...</td>\n      <td>...</td>\n      <td>...</td>\n      <td>...</td>\n      <td>...</td>\n      <td>...</td>\n      <td>...</td>\n      <td>...</td>\n      <td>...</td>\n      <td>...</td>\n      <td>...</td>\n      <td>...</td>\n      <td>...</td>\n      <td>...</td>\n      <td>...</td>\n      <td>...</td>\n      <td>...</td>\n    </tr>\n    <tr>\n      <th>93</th>\n      <td>-0.23</td>\n      <td>1.40</td>\n      <td>-4.76</td>\n      <td>0.67</td>\n      <td>-2.65</td>\n      <td>-1.24</td>\n      <td>-0.55</td>\n      <td>2.13</td>\n      <td>0.39</td>\n      <td>0.82</td>\n      <td>...</td>\n      <td>1.36</td>\n      <td>-1.45</td>\n      <td>1.48</td>\n      <td>0.11</td>\n      <td>-0.84</td>\n      <td>-1.02</td>\n      <td>-0.99</td>\n      <td>-1.51</td>\n      <td>1.27</td>\n      <td>-0.91</td>\n    </tr>\n    <tr>\n      <th>373</th>\n      <td>1.36</td>\n      <td>-1.45</td>\n      <td>1.48</td>\n      <td>0.11</td>\n      <td>-0.84</td>\n      <td>1.83</td>\n      <td>-0.56</td>\n      <td>0.53</td>\n      <td>-0.28</td>\n      <td>1.65</td>\n      <td>...</td>\n      <td>-0.23</td>\n      <td>1.40</td>\n      <td>-4.76</td>\n      <td>0.67</td>\n      <td>-2.65</td>\n      <td>-1.02</td>\n      <td>-0.99</td>\n      <td>-1.51</td>\n      <td>1.27</td>\n      <td>-0.91</td>\n    </tr>\n    <tr>\n      <th>122</th>\n      <td>-0.38</td>\n      <td>1.65</td>\n      <td>1.33</td>\n      <td>1.05</td>\n      <td>2.06</td>\n      <td>0.95</td>\n      <td>0.83</td>\n      <td>1.30</td>\n      <td>-0.17</td>\n      <td>0.93</td>\n      <td>...</td>\n      <td>1.36</td>\n      <td>-1.45</td>\n      <td>1.48</td>\n      <td>0.11</td>\n      <td>-0.84</td>\n      <td>-0.59</td>\n      <td>-1.30</td>\n      <td>-0.73</td>\n      <td>1.57</td>\n      <td>-0.15</td>\n    </tr>\n    <tr>\n      <th>248</th>\n      <td>-1.24</td>\n      <td>-0.55</td>\n      <td>2.13</td>\n      <td>0.39</td>\n      <td>0.82</td>\n      <td>1.83</td>\n      <td>-0.56</td>\n      <td>0.53</td>\n      <td>-0.28</td>\n      <td>1.65</td>\n      <td>...</td>\n      <td>1.83</td>\n      <td>-0.56</td>\n      <td>0.53</td>\n      <td>-0.28</td>\n      <td>1.65</td>\n      <td>0.95</td>\n      <td>0.83</td>\n      <td>1.30</td>\n      <td>-0.17</td>\n      <td>0.93</td>\n    </tr>\n    <tr>\n      <th>87</th>\n      <td>1.83</td>\n      <td>-0.56</td>\n      <td>0.53</td>\n      <td>-0.28</td>\n      <td>1.65</td>\n      <td>-0.03</td>\n      <td>0.33</td>\n      <td>2.21</td>\n      <td>0.91</td>\n      <td>1.31</td>\n      <td>...</td>\n      <td>-0.03</td>\n      <td>0.33</td>\n      <td>2.21</td>\n      <td>0.91</td>\n      <td>1.31</td>\n      <td>1.83</td>\n      <td>-0.56</td>\n      <td>0.53</td>\n      <td>-0.28</td>\n      <td>1.65</td>\n    </tr>\n  </tbody>\n</table>\n<p>282 rows × 75 columns</p>\n</div>"
     },
     "metadata": {},
     "execution_count": 47
    }
   ],
   "source": [
    "class12_balanced_rf = "
   ]
  },
  {
   "cell_type": "code",
   "execution_count": 49,
   "metadata": {},
   "outputs": [
    {
     "output_type": "execute_result",
     "data": {
      "text/plain": [
       "RandomForestClassifier(n_estimators=500)"
      ]
     },
     "metadata": {},
     "execution_count": 49
    }
   ],
   "source": [
    "class12_rf_balanced = RandomForestClassifier(n_estimators=500)\n",
    "\n",
    "class12_rf_balanced.fit(atchley_factors_train_balanced, labels_train_balanced)"
   ]
  },
  {
   "cell_type": "code",
   "execution_count": 50,
   "metadata": {},
   "outputs": [
    {
     "output_type": "display_data",
     "data": {
      "text/plain": "<Figure size 432x288 with 1 Axes>",
      "image/svg+xml": "<?xml version=\"1.0\" encoding=\"utf-8\" standalone=\"no\"?>\n<!DOCTYPE svg PUBLIC \"-//W3C//DTD SVG 1.1//EN\"\n  \"http://www.w3.org/Graphics/SVG/1.1/DTD/svg11.dtd\">\n<!-- Created with matplotlib (https://matplotlib.org/) -->\n<svg height=\"262.19625pt\" version=\"1.1\" viewBox=\"0 0 385.78125 262.19625\" width=\"385.78125pt\" xmlns=\"http://www.w3.org/2000/svg\" xmlns:xlink=\"http://www.w3.org/1999/xlink\">\n <metadata>\n  <rdf:RDF xmlns:cc=\"http://creativecommons.org/ns#\" xmlns:dc=\"http://purl.org/dc/elements/1.1/\" xmlns:rdf=\"http://www.w3.org/1999/02/22-rdf-syntax-ns#\">\n   <cc:Work>\n    <dc:type rdf:resource=\"http://purl.org/dc/dcmitype/StillImage\"/>\n    <dc:date>2021-03-10T13:36:11.806211</dc:date>\n    <dc:format>image/svg+xml</dc:format>\n    <dc:creator>\n     <cc:Agent>\n      <dc:title>Matplotlib v3.3.4, https://matplotlib.org/</dc:title>\n     </cc:Agent>\n    </dc:creator>\n   </cc:Work>\n  </rdf:RDF>\n </metadata>\n <defs>\n  <style type=\"text/css\">*{stroke-linecap:butt;stroke-linejoin:round;}</style>\n </defs>\n <g id=\"figure_1\">\n  <g id=\"patch_1\">\n   <path d=\"M 0 262.19625 \nL 385.78125 262.19625 \nL 385.78125 0 \nL 0 0 \nz\n\" style=\"fill:none;\"/>\n  </g>\n  <g id=\"axes_1\">\n   <g id=\"patch_2\">\n    <path d=\"M 43.78125 224.64 \nL 378.58125 224.64 \nL 378.58125 7.2 \nL 43.78125 7.2 \nz\n\" style=\"fill:#ffffff;\"/>\n   </g>\n   <g id=\"matplotlib.axis_1\">\n    <g id=\"xtick_1\">\n     <g id=\"line2d_1\">\n      <defs>\n       <path d=\"M 0 0 \nL 0 3.5 \n\" id=\"m621b246855\" style=\"stroke:#000000;stroke-width:0.8;\"/>\n      </defs>\n      <g>\n       <use style=\"stroke:#000000;stroke-width:0.8;\" x=\"58.999432\" xlink:href=\"#m621b246855\" y=\"224.64\"/>\n      </g>\n     </g>\n     <g id=\"text_1\">\n      <!-- 0.0 -->\n      <g transform=\"translate(51.047869 239.238437)scale(0.1 -0.1)\">\n       <defs>\n        <path d=\"M 31.78125 66.40625 \nQ 24.171875 66.40625 20.328125 58.90625 \nQ 16.5 51.421875 16.5 36.375 \nQ 16.5 21.390625 20.328125 13.890625 \nQ 24.171875 6.390625 31.78125 6.390625 \nQ 39.453125 6.390625 43.28125 13.890625 \nQ 47.125 21.390625 47.125 36.375 \nQ 47.125 51.421875 43.28125 58.90625 \nQ 39.453125 66.40625 31.78125 66.40625 \nz\nM 31.78125 74.21875 \nQ 44.046875 74.21875 50.515625 64.515625 \nQ 56.984375 54.828125 56.984375 36.375 \nQ 56.984375 17.96875 50.515625 8.265625 \nQ 44.046875 -1.421875 31.78125 -1.421875 \nQ 19.53125 -1.421875 13.0625 8.265625 \nQ 6.59375 17.96875 6.59375 36.375 \nQ 6.59375 54.828125 13.0625 64.515625 \nQ 19.53125 74.21875 31.78125 74.21875 \nz\n\" id=\"DejaVuSans-48\"/>\n        <path d=\"M 10.6875 12.40625 \nL 21 12.40625 \nL 21 0 \nL 10.6875 0 \nz\n\" id=\"DejaVuSans-46\"/>\n       </defs>\n       <use xlink:href=\"#DejaVuSans-48\"/>\n       <use x=\"63.623047\" xlink:href=\"#DejaVuSans-46\"/>\n       <use x=\"95.410156\" xlink:href=\"#DejaVuSans-48\"/>\n      </g>\n     </g>\n    </g>\n    <g id=\"xtick_2\">\n     <g id=\"line2d_2\">\n      <g>\n       <use style=\"stroke:#000000;stroke-width:0.8;\" x=\"119.872159\" xlink:href=\"#m621b246855\" y=\"224.64\"/>\n      </g>\n     </g>\n     <g id=\"text_2\">\n      <!-- 0.2 -->\n      <g transform=\"translate(111.920597 239.238437)scale(0.1 -0.1)\">\n       <defs>\n        <path d=\"M 19.1875 8.296875 \nL 53.609375 8.296875 \nL 53.609375 0 \nL 7.328125 0 \nL 7.328125 8.296875 \nQ 12.9375 14.109375 22.625 23.890625 \nQ 32.328125 33.6875 34.8125 36.53125 \nQ 39.546875 41.84375 41.421875 45.53125 \nQ 43.3125 49.21875 43.3125 52.78125 \nQ 43.3125 58.59375 39.234375 62.25 \nQ 35.15625 65.921875 28.609375 65.921875 \nQ 23.96875 65.921875 18.8125 64.3125 \nQ 13.671875 62.703125 7.8125 59.421875 \nL 7.8125 69.390625 \nQ 13.765625 71.78125 18.9375 73 \nQ 24.125 74.21875 28.421875 74.21875 \nQ 39.75 74.21875 46.484375 68.546875 \nQ 53.21875 62.890625 53.21875 53.421875 \nQ 53.21875 48.921875 51.53125 44.890625 \nQ 49.859375 40.875 45.40625 35.40625 \nQ 44.1875 33.984375 37.640625 27.21875 \nQ 31.109375 20.453125 19.1875 8.296875 \nz\n\" id=\"DejaVuSans-50\"/>\n       </defs>\n       <use xlink:href=\"#DejaVuSans-48\"/>\n       <use x=\"63.623047\" xlink:href=\"#DejaVuSans-46\"/>\n       <use x=\"95.410156\" xlink:href=\"#DejaVuSans-50\"/>\n      </g>\n     </g>\n    </g>\n    <g id=\"xtick_3\">\n     <g id=\"line2d_3\">\n      <g>\n       <use style=\"stroke:#000000;stroke-width:0.8;\" x=\"180.744886\" xlink:href=\"#m621b246855\" y=\"224.64\"/>\n      </g>\n     </g>\n     <g id=\"text_3\">\n      <!-- 0.4 -->\n      <g transform=\"translate(172.793324 239.238437)scale(0.1 -0.1)\">\n       <defs>\n        <path d=\"M 37.796875 64.3125 \nL 12.890625 25.390625 \nL 37.796875 25.390625 \nz\nM 35.203125 72.90625 \nL 47.609375 72.90625 \nL 47.609375 25.390625 \nL 58.015625 25.390625 \nL 58.015625 17.1875 \nL 47.609375 17.1875 \nL 47.609375 0 \nL 37.796875 0 \nL 37.796875 17.1875 \nL 4.890625 17.1875 \nL 4.890625 26.703125 \nz\n\" id=\"DejaVuSans-52\"/>\n       </defs>\n       <use xlink:href=\"#DejaVuSans-48\"/>\n       <use x=\"63.623047\" xlink:href=\"#DejaVuSans-46\"/>\n       <use x=\"95.410156\" xlink:href=\"#DejaVuSans-52\"/>\n      </g>\n     </g>\n    </g>\n    <g id=\"xtick_4\">\n     <g id=\"line2d_4\">\n      <g>\n       <use style=\"stroke:#000000;stroke-width:0.8;\" x=\"241.617614\" xlink:href=\"#m621b246855\" y=\"224.64\"/>\n      </g>\n     </g>\n     <g id=\"text_4\">\n      <!-- 0.6 -->\n      <g transform=\"translate(233.666051 239.238437)scale(0.1 -0.1)\">\n       <defs>\n        <path d=\"M 33.015625 40.375 \nQ 26.375 40.375 22.484375 35.828125 \nQ 18.609375 31.296875 18.609375 23.390625 \nQ 18.609375 15.53125 22.484375 10.953125 \nQ 26.375 6.390625 33.015625 6.390625 \nQ 39.65625 6.390625 43.53125 10.953125 \nQ 47.40625 15.53125 47.40625 23.390625 \nQ 47.40625 31.296875 43.53125 35.828125 \nQ 39.65625 40.375 33.015625 40.375 \nz\nM 52.59375 71.296875 \nL 52.59375 62.3125 \nQ 48.875 64.0625 45.09375 64.984375 \nQ 41.3125 65.921875 37.59375 65.921875 \nQ 27.828125 65.921875 22.671875 59.328125 \nQ 17.53125 52.734375 16.796875 39.40625 \nQ 19.671875 43.65625 24.015625 45.921875 \nQ 28.375 48.1875 33.59375 48.1875 \nQ 44.578125 48.1875 50.953125 41.515625 \nQ 57.328125 34.859375 57.328125 23.390625 \nQ 57.328125 12.15625 50.6875 5.359375 \nQ 44.046875 -1.421875 33.015625 -1.421875 \nQ 20.359375 -1.421875 13.671875 8.265625 \nQ 6.984375 17.96875 6.984375 36.375 \nQ 6.984375 53.65625 15.1875 63.9375 \nQ 23.390625 74.21875 37.203125 74.21875 \nQ 40.921875 74.21875 44.703125 73.484375 \nQ 48.484375 72.75 52.59375 71.296875 \nz\n\" id=\"DejaVuSans-54\"/>\n       </defs>\n       <use xlink:href=\"#DejaVuSans-48\"/>\n       <use x=\"63.623047\" xlink:href=\"#DejaVuSans-46\"/>\n       <use x=\"95.410156\" xlink:href=\"#DejaVuSans-54\"/>\n      </g>\n     </g>\n    </g>\n    <g id=\"xtick_5\">\n     <g id=\"line2d_5\">\n      <g>\n       <use style=\"stroke:#000000;stroke-width:0.8;\" x=\"302.490341\" xlink:href=\"#m621b246855\" y=\"224.64\"/>\n      </g>\n     </g>\n     <g id=\"text_5\">\n      <!-- 0.8 -->\n      <g transform=\"translate(294.538778 239.238437)scale(0.1 -0.1)\">\n       <defs>\n        <path d=\"M 31.78125 34.625 \nQ 24.75 34.625 20.71875 30.859375 \nQ 16.703125 27.09375 16.703125 20.515625 \nQ 16.703125 13.921875 20.71875 10.15625 \nQ 24.75 6.390625 31.78125 6.390625 \nQ 38.8125 6.390625 42.859375 10.171875 \nQ 46.921875 13.96875 46.921875 20.515625 \nQ 46.921875 27.09375 42.890625 30.859375 \nQ 38.875 34.625 31.78125 34.625 \nz\nM 21.921875 38.8125 \nQ 15.578125 40.375 12.03125 44.71875 \nQ 8.5 49.078125 8.5 55.328125 \nQ 8.5 64.0625 14.71875 69.140625 \nQ 20.953125 74.21875 31.78125 74.21875 \nQ 42.671875 74.21875 48.875 69.140625 \nQ 55.078125 64.0625 55.078125 55.328125 \nQ 55.078125 49.078125 51.53125 44.71875 \nQ 48 40.375 41.703125 38.8125 \nQ 48.828125 37.15625 52.796875 32.3125 \nQ 56.78125 27.484375 56.78125 20.515625 \nQ 56.78125 9.90625 50.3125 4.234375 \nQ 43.84375 -1.421875 31.78125 -1.421875 \nQ 19.734375 -1.421875 13.25 4.234375 \nQ 6.78125 9.90625 6.78125 20.515625 \nQ 6.78125 27.484375 10.78125 32.3125 \nQ 14.796875 37.15625 21.921875 38.8125 \nz\nM 18.3125 54.390625 \nQ 18.3125 48.734375 21.84375 45.5625 \nQ 25.390625 42.390625 31.78125 42.390625 \nQ 38.140625 42.390625 41.71875 45.5625 \nQ 45.3125 48.734375 45.3125 54.390625 \nQ 45.3125 60.0625 41.71875 63.234375 \nQ 38.140625 66.40625 31.78125 66.40625 \nQ 25.390625 66.40625 21.84375 63.234375 \nQ 18.3125 60.0625 18.3125 54.390625 \nz\n\" id=\"DejaVuSans-56\"/>\n       </defs>\n       <use xlink:href=\"#DejaVuSans-48\"/>\n       <use x=\"63.623047\" xlink:href=\"#DejaVuSans-46\"/>\n       <use x=\"95.410156\" xlink:href=\"#DejaVuSans-56\"/>\n      </g>\n     </g>\n    </g>\n    <g id=\"xtick_6\">\n     <g id=\"line2d_6\">\n      <g>\n       <use style=\"stroke:#000000;stroke-width:0.8;\" x=\"363.363068\" xlink:href=\"#m621b246855\" y=\"224.64\"/>\n      </g>\n     </g>\n     <g id=\"text_6\">\n      <!-- 1.0 -->\n      <g transform=\"translate(355.411506 239.238437)scale(0.1 -0.1)\">\n       <defs>\n        <path d=\"M 12.40625 8.296875 \nL 28.515625 8.296875 \nL 28.515625 63.921875 \nL 10.984375 60.40625 \nL 10.984375 69.390625 \nL 28.421875 72.90625 \nL 38.28125 72.90625 \nL 38.28125 8.296875 \nL 54.390625 8.296875 \nL 54.390625 0 \nL 12.40625 0 \nz\n\" id=\"DejaVuSans-49\"/>\n       </defs>\n       <use xlink:href=\"#DejaVuSans-49\"/>\n       <use x=\"63.623047\" xlink:href=\"#DejaVuSans-46\"/>\n       <use x=\"95.410156\" xlink:href=\"#DejaVuSans-48\"/>\n      </g>\n     </g>\n    </g>\n    <g id=\"text_7\">\n     <!-- False Positive Rate (Positive label: pos) -->\n     <g transform=\"translate(114.158594 252.916562)scale(0.1 -0.1)\">\n      <defs>\n       <path d=\"M 9.8125 72.90625 \nL 51.703125 72.90625 \nL 51.703125 64.59375 \nL 19.671875 64.59375 \nL 19.671875 43.109375 \nL 48.578125 43.109375 \nL 48.578125 34.8125 \nL 19.671875 34.8125 \nL 19.671875 0 \nL 9.8125 0 \nz\n\" id=\"DejaVuSans-70\"/>\n       <path d=\"M 34.28125 27.484375 \nQ 23.390625 27.484375 19.1875 25 \nQ 14.984375 22.515625 14.984375 16.5 \nQ 14.984375 11.71875 18.140625 8.90625 \nQ 21.296875 6.109375 26.703125 6.109375 \nQ 34.1875 6.109375 38.703125 11.40625 \nQ 43.21875 16.703125 43.21875 25.484375 \nL 43.21875 27.484375 \nz\nM 52.203125 31.203125 \nL 52.203125 0 \nL 43.21875 0 \nL 43.21875 8.296875 \nQ 40.140625 3.328125 35.546875 0.953125 \nQ 30.953125 -1.421875 24.3125 -1.421875 \nQ 15.921875 -1.421875 10.953125 3.296875 \nQ 6 8.015625 6 15.921875 \nQ 6 25.140625 12.171875 29.828125 \nQ 18.359375 34.515625 30.609375 34.515625 \nL 43.21875 34.515625 \nL 43.21875 35.40625 \nQ 43.21875 41.609375 39.140625 45 \nQ 35.0625 48.390625 27.6875 48.390625 \nQ 23 48.390625 18.546875 47.265625 \nQ 14.109375 46.140625 10.015625 43.890625 \nL 10.015625 52.203125 \nQ 14.9375 54.109375 19.578125 55.046875 \nQ 24.21875 56 28.609375 56 \nQ 40.484375 56 46.34375 49.84375 \nQ 52.203125 43.703125 52.203125 31.203125 \nz\n\" id=\"DejaVuSans-97\"/>\n       <path d=\"M 9.421875 75.984375 \nL 18.40625 75.984375 \nL 18.40625 0 \nL 9.421875 0 \nz\n\" id=\"DejaVuSans-108\"/>\n       <path d=\"M 44.28125 53.078125 \nL 44.28125 44.578125 \nQ 40.484375 46.53125 36.375 47.5 \nQ 32.28125 48.484375 27.875 48.484375 \nQ 21.1875 48.484375 17.84375 46.4375 \nQ 14.5 44.390625 14.5 40.28125 \nQ 14.5 37.15625 16.890625 35.375 \nQ 19.28125 33.59375 26.515625 31.984375 \nL 29.59375 31.296875 \nQ 39.15625 29.25 43.1875 25.515625 \nQ 47.21875 21.78125 47.21875 15.09375 \nQ 47.21875 7.46875 41.1875 3.015625 \nQ 35.15625 -1.421875 24.609375 -1.421875 \nQ 20.21875 -1.421875 15.453125 -0.5625 \nQ 10.6875 0.296875 5.421875 2 \nL 5.421875 11.28125 \nQ 10.40625 8.6875 15.234375 7.390625 \nQ 20.0625 6.109375 24.8125 6.109375 \nQ 31.15625 6.109375 34.5625 8.28125 \nQ 37.984375 10.453125 37.984375 14.40625 \nQ 37.984375 18.0625 35.515625 20.015625 \nQ 33.0625 21.96875 24.703125 23.78125 \nL 21.578125 24.515625 \nQ 13.234375 26.265625 9.515625 29.90625 \nQ 5.8125 33.546875 5.8125 39.890625 \nQ 5.8125 47.609375 11.28125 51.796875 \nQ 16.75 56 26.8125 56 \nQ 31.78125 56 36.171875 55.265625 \nQ 40.578125 54.546875 44.28125 53.078125 \nz\n\" id=\"DejaVuSans-115\"/>\n       <path d=\"M 56.203125 29.59375 \nL 56.203125 25.203125 \nL 14.890625 25.203125 \nQ 15.484375 15.921875 20.484375 11.0625 \nQ 25.484375 6.203125 34.421875 6.203125 \nQ 39.59375 6.203125 44.453125 7.46875 \nQ 49.3125 8.734375 54.109375 11.28125 \nL 54.109375 2.78125 \nQ 49.265625 0.734375 44.1875 -0.34375 \nQ 39.109375 -1.421875 33.890625 -1.421875 \nQ 20.796875 -1.421875 13.15625 6.1875 \nQ 5.515625 13.8125 5.515625 26.8125 \nQ 5.515625 40.234375 12.765625 48.109375 \nQ 20.015625 56 32.328125 56 \nQ 43.359375 56 49.78125 48.890625 \nQ 56.203125 41.796875 56.203125 29.59375 \nz\nM 47.21875 32.234375 \nQ 47.125 39.59375 43.09375 43.984375 \nQ 39.0625 48.390625 32.421875 48.390625 \nQ 24.90625 48.390625 20.390625 44.140625 \nQ 15.875 39.890625 15.1875 32.171875 \nz\n\" id=\"DejaVuSans-101\"/>\n       <path id=\"DejaVuSans-32\"/>\n       <path d=\"M 19.671875 64.796875 \nL 19.671875 37.40625 \nL 32.078125 37.40625 \nQ 38.96875 37.40625 42.71875 40.96875 \nQ 46.484375 44.53125 46.484375 51.125 \nQ 46.484375 57.671875 42.71875 61.234375 \nQ 38.96875 64.796875 32.078125 64.796875 \nz\nM 9.8125 72.90625 \nL 32.078125 72.90625 \nQ 44.34375 72.90625 50.609375 67.359375 \nQ 56.890625 61.8125 56.890625 51.125 \nQ 56.890625 40.328125 50.609375 34.8125 \nQ 44.34375 29.296875 32.078125 29.296875 \nL 19.671875 29.296875 \nL 19.671875 0 \nL 9.8125 0 \nz\n\" id=\"DejaVuSans-80\"/>\n       <path d=\"M 30.609375 48.390625 \nQ 23.390625 48.390625 19.1875 42.75 \nQ 14.984375 37.109375 14.984375 27.296875 \nQ 14.984375 17.484375 19.15625 11.84375 \nQ 23.34375 6.203125 30.609375 6.203125 \nQ 37.796875 6.203125 41.984375 11.859375 \nQ 46.1875 17.53125 46.1875 27.296875 \nQ 46.1875 37.015625 41.984375 42.703125 \nQ 37.796875 48.390625 30.609375 48.390625 \nz\nM 30.609375 56 \nQ 42.328125 56 49.015625 48.375 \nQ 55.71875 40.765625 55.71875 27.296875 \nQ 55.71875 13.875 49.015625 6.21875 \nQ 42.328125 -1.421875 30.609375 -1.421875 \nQ 18.84375 -1.421875 12.171875 6.21875 \nQ 5.515625 13.875 5.515625 27.296875 \nQ 5.515625 40.765625 12.171875 48.375 \nQ 18.84375 56 30.609375 56 \nz\n\" id=\"DejaVuSans-111\"/>\n       <path d=\"M 9.421875 54.6875 \nL 18.40625 54.6875 \nL 18.40625 0 \nL 9.421875 0 \nz\nM 9.421875 75.984375 \nL 18.40625 75.984375 \nL 18.40625 64.59375 \nL 9.421875 64.59375 \nz\n\" id=\"DejaVuSans-105\"/>\n       <path d=\"M 18.3125 70.21875 \nL 18.3125 54.6875 \nL 36.8125 54.6875 \nL 36.8125 47.703125 \nL 18.3125 47.703125 \nL 18.3125 18.015625 \nQ 18.3125 11.328125 20.140625 9.421875 \nQ 21.96875 7.515625 27.59375 7.515625 \nL 36.8125 7.515625 \nL 36.8125 0 \nL 27.59375 0 \nQ 17.1875 0 13.234375 3.875 \nQ 9.28125 7.765625 9.28125 18.015625 \nL 9.28125 47.703125 \nL 2.6875 47.703125 \nL 2.6875 54.6875 \nL 9.28125 54.6875 \nL 9.28125 70.21875 \nz\n\" id=\"DejaVuSans-116\"/>\n       <path d=\"M 2.984375 54.6875 \nL 12.5 54.6875 \nL 29.59375 8.796875 \nL 46.6875 54.6875 \nL 56.203125 54.6875 \nL 35.6875 0 \nL 23.484375 0 \nz\n\" id=\"DejaVuSans-118\"/>\n       <path d=\"M 44.390625 34.1875 \nQ 47.5625 33.109375 50.5625 29.59375 \nQ 53.5625 26.078125 56.59375 19.921875 \nL 66.609375 0 \nL 56 0 \nL 46.6875 18.703125 \nQ 43.0625 26.03125 39.671875 28.421875 \nQ 36.28125 30.8125 30.421875 30.8125 \nL 19.671875 30.8125 \nL 19.671875 0 \nL 9.8125 0 \nL 9.8125 72.90625 \nL 32.078125 72.90625 \nQ 44.578125 72.90625 50.734375 67.671875 \nQ 56.890625 62.453125 56.890625 51.90625 \nQ 56.890625 45.015625 53.6875 40.46875 \nQ 50.484375 35.9375 44.390625 34.1875 \nz\nM 19.671875 64.796875 \nL 19.671875 38.921875 \nL 32.078125 38.921875 \nQ 39.203125 38.921875 42.84375 42.21875 \nQ 46.484375 45.515625 46.484375 51.90625 \nQ 46.484375 58.296875 42.84375 61.546875 \nQ 39.203125 64.796875 32.078125 64.796875 \nz\n\" id=\"DejaVuSans-82\"/>\n       <path d=\"M 31 75.875 \nQ 24.46875 64.65625 21.28125 53.65625 \nQ 18.109375 42.671875 18.109375 31.390625 \nQ 18.109375 20.125 21.3125 9.0625 \nQ 24.515625 -2 31 -13.1875 \nL 23.1875 -13.1875 \nQ 15.875 -1.703125 12.234375 9.375 \nQ 8.59375 20.453125 8.59375 31.390625 \nQ 8.59375 42.28125 12.203125 53.3125 \nQ 15.828125 64.359375 23.1875 75.875 \nz\n\" id=\"DejaVuSans-40\"/>\n       <path d=\"M 48.6875 27.296875 \nQ 48.6875 37.203125 44.609375 42.84375 \nQ 40.53125 48.484375 33.40625 48.484375 \nQ 26.265625 48.484375 22.1875 42.84375 \nQ 18.109375 37.203125 18.109375 27.296875 \nQ 18.109375 17.390625 22.1875 11.75 \nQ 26.265625 6.109375 33.40625 6.109375 \nQ 40.53125 6.109375 44.609375 11.75 \nQ 48.6875 17.390625 48.6875 27.296875 \nz\nM 18.109375 46.390625 \nQ 20.953125 51.265625 25.265625 53.625 \nQ 29.59375 56 35.59375 56 \nQ 45.5625 56 51.78125 48.09375 \nQ 58.015625 40.1875 58.015625 27.296875 \nQ 58.015625 14.40625 51.78125 6.484375 \nQ 45.5625 -1.421875 35.59375 -1.421875 \nQ 29.59375 -1.421875 25.265625 0.953125 \nQ 20.953125 3.328125 18.109375 8.203125 \nL 18.109375 0 \nL 9.078125 0 \nL 9.078125 75.984375 \nL 18.109375 75.984375 \nz\n\" id=\"DejaVuSans-98\"/>\n       <path d=\"M 11.71875 12.40625 \nL 22.015625 12.40625 \nL 22.015625 0 \nL 11.71875 0 \nz\nM 11.71875 51.703125 \nL 22.015625 51.703125 \nL 22.015625 39.3125 \nL 11.71875 39.3125 \nz\n\" id=\"DejaVuSans-58\"/>\n       <path d=\"M 18.109375 8.203125 \nL 18.109375 -20.796875 \nL 9.078125 -20.796875 \nL 9.078125 54.6875 \nL 18.109375 54.6875 \nL 18.109375 46.390625 \nQ 20.953125 51.265625 25.265625 53.625 \nQ 29.59375 56 35.59375 56 \nQ 45.5625 56 51.78125 48.09375 \nQ 58.015625 40.1875 58.015625 27.296875 \nQ 58.015625 14.40625 51.78125 6.484375 \nQ 45.5625 -1.421875 35.59375 -1.421875 \nQ 29.59375 -1.421875 25.265625 0.953125 \nQ 20.953125 3.328125 18.109375 8.203125 \nz\nM 48.6875 27.296875 \nQ 48.6875 37.203125 44.609375 42.84375 \nQ 40.53125 48.484375 33.40625 48.484375 \nQ 26.265625 48.484375 22.1875 42.84375 \nQ 18.109375 37.203125 18.109375 27.296875 \nQ 18.109375 17.390625 22.1875 11.75 \nQ 26.265625 6.109375 33.40625 6.109375 \nQ 40.53125 6.109375 44.609375 11.75 \nQ 48.6875 17.390625 48.6875 27.296875 \nz\n\" id=\"DejaVuSans-112\"/>\n       <path d=\"M 8.015625 75.875 \nL 15.828125 75.875 \nQ 23.140625 64.359375 26.78125 53.3125 \nQ 30.421875 42.28125 30.421875 31.390625 \nQ 30.421875 20.453125 26.78125 9.375 \nQ 23.140625 -1.703125 15.828125 -13.1875 \nL 8.015625 -13.1875 \nQ 14.5 -2 17.703125 9.0625 \nQ 20.90625 20.125 20.90625 31.390625 \nQ 20.90625 42.671875 17.703125 53.65625 \nQ 14.5 64.65625 8.015625 75.875 \nz\n\" id=\"DejaVuSans-41\"/>\n      </defs>\n      <use xlink:href=\"#DejaVuSans-70\"/>\n      <use x=\"48.394531\" xlink:href=\"#DejaVuSans-97\"/>\n      <use x=\"109.673828\" xlink:href=\"#DejaVuSans-108\"/>\n      <use x=\"137.457031\" xlink:href=\"#DejaVuSans-115\"/>\n      <use x=\"189.556641\" xlink:href=\"#DejaVuSans-101\"/>\n      <use x=\"251.080078\" xlink:href=\"#DejaVuSans-32\"/>\n      <use x=\"282.867188\" xlink:href=\"#DejaVuSans-80\"/>\n      <use x=\"339.544922\" xlink:href=\"#DejaVuSans-111\"/>\n      <use x=\"400.726562\" xlink:href=\"#DejaVuSans-115\"/>\n      <use x=\"452.826172\" xlink:href=\"#DejaVuSans-105\"/>\n      <use x=\"480.609375\" xlink:href=\"#DejaVuSans-116\"/>\n      <use x=\"519.818359\" xlink:href=\"#DejaVuSans-105\"/>\n      <use x=\"547.601562\" xlink:href=\"#DejaVuSans-118\"/>\n      <use x=\"606.78125\" xlink:href=\"#DejaVuSans-101\"/>\n      <use x=\"668.304688\" xlink:href=\"#DejaVuSans-32\"/>\n      <use x=\"700.091797\" xlink:href=\"#DejaVuSans-82\"/>\n      <use x=\"767.324219\" xlink:href=\"#DejaVuSans-97\"/>\n      <use x=\"828.603516\" xlink:href=\"#DejaVuSans-116\"/>\n      <use x=\"867.8125\" xlink:href=\"#DejaVuSans-101\"/>\n      <use x=\"929.335938\" xlink:href=\"#DejaVuSans-32\"/>\n      <use x=\"961.123047\" xlink:href=\"#DejaVuSans-40\"/>\n      <use x=\"1000.136719\" xlink:href=\"#DejaVuSans-80\"/>\n      <use x=\"1056.814453\" xlink:href=\"#DejaVuSans-111\"/>\n      <use x=\"1117.996094\" xlink:href=\"#DejaVuSans-115\"/>\n      <use x=\"1170.095703\" xlink:href=\"#DejaVuSans-105\"/>\n      <use x=\"1197.878906\" xlink:href=\"#DejaVuSans-116\"/>\n      <use x=\"1237.087891\" xlink:href=\"#DejaVuSans-105\"/>\n      <use x=\"1264.871094\" xlink:href=\"#DejaVuSans-118\"/>\n      <use x=\"1324.050781\" xlink:href=\"#DejaVuSans-101\"/>\n      <use x=\"1385.574219\" xlink:href=\"#DejaVuSans-32\"/>\n      <use x=\"1417.361328\" xlink:href=\"#DejaVuSans-108\"/>\n      <use x=\"1445.144531\" xlink:href=\"#DejaVuSans-97\"/>\n      <use x=\"1506.423828\" xlink:href=\"#DejaVuSans-98\"/>\n      <use x=\"1569.900391\" xlink:href=\"#DejaVuSans-101\"/>\n      <use x=\"1631.423828\" xlink:href=\"#DejaVuSans-108\"/>\n      <use x=\"1659.207031\" xlink:href=\"#DejaVuSans-58\"/>\n      <use x=\"1692.898438\" xlink:href=\"#DejaVuSans-32\"/>\n      <use x=\"1724.685547\" xlink:href=\"#DejaVuSans-112\"/>\n      <use x=\"1788.162109\" xlink:href=\"#DejaVuSans-111\"/>\n      <use x=\"1849.34375\" xlink:href=\"#DejaVuSans-115\"/>\n      <use x=\"1901.443359\" xlink:href=\"#DejaVuSans-41\"/>\n     </g>\n    </g>\n   </g>\n   <g id=\"matplotlib.axis_2\">\n    <g id=\"ytick_1\">\n     <g id=\"line2d_7\">\n      <defs>\n       <path d=\"M 0 0 \nL -3.5 0 \n\" id=\"m270e65915a\" style=\"stroke:#000000;stroke-width:0.8;\"/>\n      </defs>\n      <g>\n       <use style=\"stroke:#000000;stroke-width:0.8;\" x=\"43.78125\" xlink:href=\"#m270e65915a\" y=\"214.756364\"/>\n      </g>\n     </g>\n     <g id=\"text_8\">\n      <!-- 0.0 -->\n      <g transform=\"translate(20.878125 218.555582)scale(0.1 -0.1)\">\n       <use xlink:href=\"#DejaVuSans-48\"/>\n       <use x=\"63.623047\" xlink:href=\"#DejaVuSans-46\"/>\n       <use x=\"95.410156\" xlink:href=\"#DejaVuSans-48\"/>\n      </g>\n     </g>\n    </g>\n    <g id=\"ytick_2\">\n     <g id=\"line2d_8\">\n      <g>\n       <use style=\"stroke:#000000;stroke-width:0.8;\" x=\"43.78125\" xlink:href=\"#m270e65915a\" y=\"175.221818\"/>\n      </g>\n     </g>\n     <g id=\"text_9\">\n      <!-- 0.2 -->\n      <g transform=\"translate(20.878125 179.021037)scale(0.1 -0.1)\">\n       <use xlink:href=\"#DejaVuSans-48\"/>\n       <use x=\"63.623047\" xlink:href=\"#DejaVuSans-46\"/>\n       <use x=\"95.410156\" xlink:href=\"#DejaVuSans-50\"/>\n      </g>\n     </g>\n    </g>\n    <g id=\"ytick_3\">\n     <g id=\"line2d_9\">\n      <g>\n       <use style=\"stroke:#000000;stroke-width:0.8;\" x=\"43.78125\" xlink:href=\"#m270e65915a\" y=\"135.687273\"/>\n      </g>\n     </g>\n     <g id=\"text_10\">\n      <!-- 0.4 -->\n      <g transform=\"translate(20.878125 139.486491)scale(0.1 -0.1)\">\n       <use xlink:href=\"#DejaVuSans-48\"/>\n       <use x=\"63.623047\" xlink:href=\"#DejaVuSans-46\"/>\n       <use x=\"95.410156\" xlink:href=\"#DejaVuSans-52\"/>\n      </g>\n     </g>\n    </g>\n    <g id=\"ytick_4\">\n     <g id=\"line2d_10\">\n      <g>\n       <use style=\"stroke:#000000;stroke-width:0.8;\" x=\"43.78125\" xlink:href=\"#m270e65915a\" y=\"96.152727\"/>\n      </g>\n     </g>\n     <g id=\"text_11\">\n      <!-- 0.6 -->\n      <g transform=\"translate(20.878125 99.951946)scale(0.1 -0.1)\">\n       <use xlink:href=\"#DejaVuSans-48\"/>\n       <use x=\"63.623047\" xlink:href=\"#DejaVuSans-46\"/>\n       <use x=\"95.410156\" xlink:href=\"#DejaVuSans-54\"/>\n      </g>\n     </g>\n    </g>\n    <g id=\"ytick_5\">\n     <g id=\"line2d_11\">\n      <g>\n       <use style=\"stroke:#000000;stroke-width:0.8;\" x=\"43.78125\" xlink:href=\"#m270e65915a\" y=\"56.618182\"/>\n      </g>\n     </g>\n     <g id=\"text_12\">\n      <!-- 0.8 -->\n      <g transform=\"translate(20.878125 60.417401)scale(0.1 -0.1)\">\n       <use xlink:href=\"#DejaVuSans-48\"/>\n       <use x=\"63.623047\" xlink:href=\"#DejaVuSans-46\"/>\n       <use x=\"95.410156\" xlink:href=\"#DejaVuSans-56\"/>\n      </g>\n     </g>\n    </g>\n    <g id=\"ytick_6\">\n     <g id=\"line2d_12\">\n      <g>\n       <use style=\"stroke:#000000;stroke-width:0.8;\" x=\"43.78125\" xlink:href=\"#m270e65915a\" y=\"17.083636\"/>\n      </g>\n     </g>\n     <g id=\"text_13\">\n      <!-- 1.0 -->\n      <g transform=\"translate(20.878125 20.882855)scale(0.1 -0.1)\">\n       <use xlink:href=\"#DejaVuSans-49\"/>\n       <use x=\"63.623047\" xlink:href=\"#DejaVuSans-46\"/>\n       <use x=\"95.410156\" xlink:href=\"#DejaVuSans-48\"/>\n      </g>\n     </g>\n    </g>\n    <g id=\"text_14\">\n     <!-- True Positive Rate (Positive label: pos) -->\n     <g transform=\"translate(14.798438 211.005937)rotate(-90)scale(0.1 -0.1)\">\n      <defs>\n       <path d=\"M -0.296875 72.90625 \nL 61.375 72.90625 \nL 61.375 64.59375 \nL 35.5 64.59375 \nL 35.5 0 \nL 25.59375 0 \nL 25.59375 64.59375 \nL -0.296875 64.59375 \nz\n\" id=\"DejaVuSans-84\"/>\n       <path d=\"M 41.109375 46.296875 \nQ 39.59375 47.171875 37.8125 47.578125 \nQ 36.03125 48 33.890625 48 \nQ 26.265625 48 22.1875 43.046875 \nQ 18.109375 38.09375 18.109375 28.8125 \nL 18.109375 0 \nL 9.078125 0 \nL 9.078125 54.6875 \nL 18.109375 54.6875 \nL 18.109375 46.1875 \nQ 20.953125 51.171875 25.484375 53.578125 \nQ 30.03125 56 36.53125 56 \nQ 37.453125 56 38.578125 55.875 \nQ 39.703125 55.765625 41.0625 55.515625 \nz\n\" id=\"DejaVuSans-114\"/>\n       <path d=\"M 8.5 21.578125 \nL 8.5 54.6875 \nL 17.484375 54.6875 \nL 17.484375 21.921875 \nQ 17.484375 14.15625 20.5 10.265625 \nQ 23.53125 6.390625 29.59375 6.390625 \nQ 36.859375 6.390625 41.078125 11.03125 \nQ 45.3125 15.671875 45.3125 23.6875 \nL 45.3125 54.6875 \nL 54.296875 54.6875 \nL 54.296875 0 \nL 45.3125 0 \nL 45.3125 8.40625 \nQ 42.046875 3.421875 37.71875 1 \nQ 33.40625 -1.421875 27.6875 -1.421875 \nQ 18.265625 -1.421875 13.375 4.4375 \nQ 8.5 10.296875 8.5 21.578125 \nz\nM 31.109375 56 \nz\n\" id=\"DejaVuSans-117\"/>\n      </defs>\n      <use xlink:href=\"#DejaVuSans-84\"/>\n      <use x=\"46.333984\" xlink:href=\"#DejaVuSans-114\"/>\n      <use x=\"87.447266\" xlink:href=\"#DejaVuSans-117\"/>\n      <use x=\"150.826172\" xlink:href=\"#DejaVuSans-101\"/>\n      <use x=\"212.349609\" xlink:href=\"#DejaVuSans-32\"/>\n      <use x=\"244.136719\" xlink:href=\"#DejaVuSans-80\"/>\n      <use x=\"300.814453\" xlink:href=\"#DejaVuSans-111\"/>\n      <use x=\"361.996094\" xlink:href=\"#DejaVuSans-115\"/>\n      <use x=\"414.095703\" xlink:href=\"#DejaVuSans-105\"/>\n      <use x=\"441.878906\" xlink:href=\"#DejaVuSans-116\"/>\n      <use x=\"481.087891\" xlink:href=\"#DejaVuSans-105\"/>\n      <use x=\"508.871094\" xlink:href=\"#DejaVuSans-118\"/>\n      <use x=\"568.050781\" xlink:href=\"#DejaVuSans-101\"/>\n      <use x=\"629.574219\" xlink:href=\"#DejaVuSans-32\"/>\n      <use x=\"661.361328\" xlink:href=\"#DejaVuSans-82\"/>\n      <use x=\"728.59375\" xlink:href=\"#DejaVuSans-97\"/>\n      <use x=\"789.873047\" xlink:href=\"#DejaVuSans-116\"/>\n      <use x=\"829.082031\" xlink:href=\"#DejaVuSans-101\"/>\n      <use x=\"890.605469\" xlink:href=\"#DejaVuSans-32\"/>\n      <use x=\"922.392578\" xlink:href=\"#DejaVuSans-40\"/>\n      <use x=\"961.40625\" xlink:href=\"#DejaVuSans-80\"/>\n      <use x=\"1018.083984\" xlink:href=\"#DejaVuSans-111\"/>\n      <use x=\"1079.265625\" xlink:href=\"#DejaVuSans-115\"/>\n      <use x=\"1131.365234\" xlink:href=\"#DejaVuSans-105\"/>\n      <use x=\"1159.148438\" xlink:href=\"#DejaVuSans-116\"/>\n      <use x=\"1198.357422\" xlink:href=\"#DejaVuSans-105\"/>\n      <use x=\"1226.140625\" xlink:href=\"#DejaVuSans-118\"/>\n      <use x=\"1285.320312\" xlink:href=\"#DejaVuSans-101\"/>\n      <use x=\"1346.84375\" xlink:href=\"#DejaVuSans-32\"/>\n      <use x=\"1378.630859\" xlink:href=\"#DejaVuSans-108\"/>\n      <use x=\"1406.414062\" xlink:href=\"#DejaVuSans-97\"/>\n      <use x=\"1467.693359\" xlink:href=\"#DejaVuSans-98\"/>\n      <use x=\"1531.169922\" xlink:href=\"#DejaVuSans-101\"/>\n      <use x=\"1592.693359\" xlink:href=\"#DejaVuSans-108\"/>\n      <use x=\"1620.476562\" xlink:href=\"#DejaVuSans-58\"/>\n      <use x=\"1654.167969\" xlink:href=\"#DejaVuSans-32\"/>\n      <use x=\"1685.955078\" xlink:href=\"#DejaVuSans-112\"/>\n      <use x=\"1749.431641\" xlink:href=\"#DejaVuSans-111\"/>\n      <use x=\"1810.613281\" xlink:href=\"#DejaVuSans-115\"/>\n      <use x=\"1862.712891\" xlink:href=\"#DejaVuSans-41\"/>\n     </g>\n    </g>\n   </g>\n   <g id=\"line2d_13\">\n    <path clip-path=\"url(#p207e690630)\" d=\"M 58.999432 214.756364 \nL 58.999432 207.696623 \nL 58.999432 165.338182 \nL 69.49473 165.338182 \nL 69.49473 151.218701 \nL 79.990027 151.218701 \nL 79.990027 115.92 \nL 100.980623 115.92 \nL 100.980623 108.86026 \nL 111.475921 108.86026 \nL 111.475921 101.800519 \nL 121.971219 101.800519 \nL 121.971219 94.740779 \nL 132.466516 94.740779 \nL 132.466516 59.442078 \nL 142.961814 59.442078 \nL 142.961814 52.382338 \nL 174.447708 52.382338 \nL 174.447708 45.322597 \nL 195.438303 45.322597 \nL 195.438303 38.262857 \nL 258.41009 38.262857 \nL 258.41009 24.143377 \nL 331.877175 24.143377 \nL 331.877175 17.083636 \nL 363.363068 17.083636 \n\" style=\"fill:none;stroke:#1f77b4;stroke-linecap:square;stroke-width:1.5;\"/>\n   </g>\n   <g id=\"patch_3\">\n    <path d=\"M 43.78125 224.64 \nL 43.78125 7.2 \n\" style=\"fill:none;stroke:#000000;stroke-linecap:square;stroke-linejoin:miter;stroke-width:0.8;\"/>\n   </g>\n   <g id=\"patch_4\">\n    <path d=\"M 378.58125 224.64 \nL 378.58125 7.2 \n\" style=\"fill:none;stroke:#000000;stroke-linecap:square;stroke-linejoin:miter;stroke-width:0.8;\"/>\n   </g>\n   <g id=\"patch_5\">\n    <path d=\"M 43.78125 224.64 \nL 378.58125 224.64 \n\" style=\"fill:none;stroke:#000000;stroke-linecap:square;stroke-linejoin:miter;stroke-width:0.8;\"/>\n   </g>\n   <g id=\"patch_6\">\n    <path d=\"M 43.78125 7.2 \nL 378.58125 7.2 \n\" style=\"fill:none;stroke:#000000;stroke-linecap:square;stroke-linejoin:miter;stroke-width:0.8;\"/>\n   </g>\n   <g id=\"legend_1\">\n    <g id=\"patch_7\">\n     <path d=\"M 152.734375 219.64 \nL 371.58125 219.64 \nQ 373.58125 219.64 373.58125 217.64 \nL 373.58125 203.961875 \nQ 373.58125 201.961875 371.58125 201.961875 \nL 152.734375 201.961875 \nQ 150.734375 201.961875 150.734375 203.961875 \nL 150.734375 217.64 \nQ 150.734375 219.64 152.734375 219.64 \nz\n\" style=\"fill:#ffffff;opacity:0.8;stroke:#cccccc;stroke-linejoin:miter;\"/>\n    </g>\n    <g id=\"line2d_14\">\n     <path d=\"M 154.734375 210.060312 \nL 174.734375 210.060312 \n\" style=\"fill:none;stroke:#1f77b4;stroke-linecap:square;stroke-width:1.5;\"/>\n    </g>\n    <g id=\"line2d_15\"/>\n    <g id=\"text_15\">\n     <!-- RandomForestClassifier (AUC = 0.81) -->\n     <g transform=\"translate(182.734375 213.560312)scale(0.1 -0.1)\">\n      <defs>\n       <path d=\"M 54.890625 33.015625 \nL 54.890625 0 \nL 45.90625 0 \nL 45.90625 32.71875 \nQ 45.90625 40.484375 42.875 44.328125 \nQ 39.84375 48.1875 33.796875 48.1875 \nQ 26.515625 48.1875 22.3125 43.546875 \nQ 18.109375 38.921875 18.109375 30.90625 \nL 18.109375 0 \nL 9.078125 0 \nL 9.078125 54.6875 \nL 18.109375 54.6875 \nL 18.109375 46.1875 \nQ 21.34375 51.125 25.703125 53.5625 \nQ 30.078125 56 35.796875 56 \nQ 45.21875 56 50.046875 50.171875 \nQ 54.890625 44.34375 54.890625 33.015625 \nz\n\" id=\"DejaVuSans-110\"/>\n       <path d=\"M 45.40625 46.390625 \nL 45.40625 75.984375 \nL 54.390625 75.984375 \nL 54.390625 0 \nL 45.40625 0 \nL 45.40625 8.203125 \nQ 42.578125 3.328125 38.25 0.953125 \nQ 33.9375 -1.421875 27.875 -1.421875 \nQ 17.96875 -1.421875 11.734375 6.484375 \nQ 5.515625 14.40625 5.515625 27.296875 \nQ 5.515625 40.1875 11.734375 48.09375 \nQ 17.96875 56 27.875 56 \nQ 33.9375 56 38.25 53.625 \nQ 42.578125 51.265625 45.40625 46.390625 \nz\nM 14.796875 27.296875 \nQ 14.796875 17.390625 18.875 11.75 \nQ 22.953125 6.109375 30.078125 6.109375 \nQ 37.203125 6.109375 41.296875 11.75 \nQ 45.40625 17.390625 45.40625 27.296875 \nQ 45.40625 37.203125 41.296875 42.84375 \nQ 37.203125 48.484375 30.078125 48.484375 \nQ 22.953125 48.484375 18.875 42.84375 \nQ 14.796875 37.203125 14.796875 27.296875 \nz\n\" id=\"DejaVuSans-100\"/>\n       <path d=\"M 52 44.1875 \nQ 55.375 50.25 60.0625 53.125 \nQ 64.75 56 71.09375 56 \nQ 79.640625 56 84.28125 50.015625 \nQ 88.921875 44.046875 88.921875 33.015625 \nL 88.921875 0 \nL 79.890625 0 \nL 79.890625 32.71875 \nQ 79.890625 40.578125 77.09375 44.375 \nQ 74.3125 48.1875 68.609375 48.1875 \nQ 61.625 48.1875 57.5625 43.546875 \nQ 53.515625 38.921875 53.515625 30.90625 \nL 53.515625 0 \nL 44.484375 0 \nL 44.484375 32.71875 \nQ 44.484375 40.625 41.703125 44.40625 \nQ 38.921875 48.1875 33.109375 48.1875 \nQ 26.21875 48.1875 22.15625 43.53125 \nQ 18.109375 38.875 18.109375 30.90625 \nL 18.109375 0 \nL 9.078125 0 \nL 9.078125 54.6875 \nL 18.109375 54.6875 \nL 18.109375 46.1875 \nQ 21.1875 51.21875 25.484375 53.609375 \nQ 29.78125 56 35.6875 56 \nQ 41.65625 56 45.828125 52.96875 \nQ 50 49.953125 52 44.1875 \nz\n\" id=\"DejaVuSans-109\"/>\n       <path d=\"M 64.40625 67.28125 \nL 64.40625 56.890625 \nQ 59.421875 61.53125 53.78125 63.8125 \nQ 48.140625 66.109375 41.796875 66.109375 \nQ 29.296875 66.109375 22.65625 58.46875 \nQ 16.015625 50.828125 16.015625 36.375 \nQ 16.015625 21.96875 22.65625 14.328125 \nQ 29.296875 6.6875 41.796875 6.6875 \nQ 48.140625 6.6875 53.78125 8.984375 \nQ 59.421875 11.28125 64.40625 15.921875 \nL 64.40625 5.609375 \nQ 59.234375 2.09375 53.4375 0.328125 \nQ 47.65625 -1.421875 41.21875 -1.421875 \nQ 24.65625 -1.421875 15.125 8.703125 \nQ 5.609375 18.84375 5.609375 36.375 \nQ 5.609375 53.953125 15.125 64.078125 \nQ 24.65625 74.21875 41.21875 74.21875 \nQ 47.75 74.21875 53.53125 72.484375 \nQ 59.328125 70.75 64.40625 67.28125 \nz\n\" id=\"DejaVuSans-67\"/>\n       <path d=\"M 37.109375 75.984375 \nL 37.109375 68.5 \nL 28.515625 68.5 \nQ 23.6875 68.5 21.796875 66.546875 \nQ 19.921875 64.59375 19.921875 59.515625 \nL 19.921875 54.6875 \nL 34.71875 54.6875 \nL 34.71875 47.703125 \nL 19.921875 47.703125 \nL 19.921875 0 \nL 10.890625 0 \nL 10.890625 47.703125 \nL 2.296875 47.703125 \nL 2.296875 54.6875 \nL 10.890625 54.6875 \nL 10.890625 58.5 \nQ 10.890625 67.625 15.140625 71.796875 \nQ 19.390625 75.984375 28.609375 75.984375 \nz\n\" id=\"DejaVuSans-102\"/>\n       <path d=\"M 34.1875 63.1875 \nL 20.796875 26.90625 \nL 47.609375 26.90625 \nz\nM 28.609375 72.90625 \nL 39.796875 72.90625 \nL 67.578125 0 \nL 57.328125 0 \nL 50.6875 18.703125 \nL 17.828125 18.703125 \nL 11.1875 0 \nL 0.78125 0 \nz\n\" id=\"DejaVuSans-65\"/>\n       <path d=\"M 8.6875 72.90625 \nL 18.609375 72.90625 \nL 18.609375 28.609375 \nQ 18.609375 16.890625 22.84375 11.734375 \nQ 27.09375 6.59375 36.625 6.59375 \nQ 46.09375 6.59375 50.34375 11.734375 \nQ 54.59375 16.890625 54.59375 28.609375 \nL 54.59375 72.90625 \nL 64.5 72.90625 \nL 64.5 27.390625 \nQ 64.5 13.140625 57.4375 5.859375 \nQ 50.390625 -1.421875 36.625 -1.421875 \nQ 22.796875 -1.421875 15.734375 5.859375 \nQ 8.6875 13.140625 8.6875 27.390625 \nz\n\" id=\"DejaVuSans-85\"/>\n       <path d=\"M 10.59375 45.40625 \nL 73.1875 45.40625 \nL 73.1875 37.203125 \nL 10.59375 37.203125 \nz\nM 10.59375 25.484375 \nL 73.1875 25.484375 \nL 73.1875 17.1875 \nL 10.59375 17.1875 \nz\n\" id=\"DejaVuSans-61\"/>\n      </defs>\n      <use xlink:href=\"#DejaVuSans-82\"/>\n      <use x=\"67.232422\" xlink:href=\"#DejaVuSans-97\"/>\n      <use x=\"128.511719\" xlink:href=\"#DejaVuSans-110\"/>\n      <use x=\"191.890625\" xlink:href=\"#DejaVuSans-100\"/>\n      <use x=\"255.367188\" xlink:href=\"#DejaVuSans-111\"/>\n      <use x=\"316.548828\" xlink:href=\"#DejaVuSans-109\"/>\n      <use x=\"413.960938\" xlink:href=\"#DejaVuSans-70\"/>\n      <use x=\"467.855469\" xlink:href=\"#DejaVuSans-111\"/>\n      <use x=\"529.037109\" xlink:href=\"#DejaVuSans-114\"/>\n      <use x=\"567.900391\" xlink:href=\"#DejaVuSans-101\"/>\n      <use x=\"629.423828\" xlink:href=\"#DejaVuSans-115\"/>\n      <use x=\"681.523438\" xlink:href=\"#DejaVuSans-116\"/>\n      <use x=\"720.732422\" xlink:href=\"#DejaVuSans-67\"/>\n      <use x=\"790.556641\" xlink:href=\"#DejaVuSans-108\"/>\n      <use x=\"818.339844\" xlink:href=\"#DejaVuSans-97\"/>\n      <use x=\"879.619141\" xlink:href=\"#DejaVuSans-115\"/>\n      <use x=\"931.71875\" xlink:href=\"#DejaVuSans-115\"/>\n      <use x=\"983.818359\" xlink:href=\"#DejaVuSans-105\"/>\n      <use x=\"1011.601562\" xlink:href=\"#DejaVuSans-102\"/>\n      <use x=\"1046.806641\" xlink:href=\"#DejaVuSans-105\"/>\n      <use x=\"1074.589844\" xlink:href=\"#DejaVuSans-101\"/>\n      <use x=\"1136.113281\" xlink:href=\"#DejaVuSans-114\"/>\n      <use x=\"1177.226562\" xlink:href=\"#DejaVuSans-32\"/>\n      <use x=\"1209.013672\" xlink:href=\"#DejaVuSans-40\"/>\n      <use x=\"1248.027344\" xlink:href=\"#DejaVuSans-65\"/>\n      <use x=\"1316.435547\" xlink:href=\"#DejaVuSans-85\"/>\n      <use x=\"1389.628906\" xlink:href=\"#DejaVuSans-67\"/>\n      <use x=\"1459.453125\" xlink:href=\"#DejaVuSans-32\"/>\n      <use x=\"1491.240234\" xlink:href=\"#DejaVuSans-61\"/>\n      <use x=\"1575.029297\" xlink:href=\"#DejaVuSans-32\"/>\n      <use x=\"1606.816406\" xlink:href=\"#DejaVuSans-48\"/>\n      <use x=\"1670.439453\" xlink:href=\"#DejaVuSans-46\"/>\n      <use x=\"1702.226562\" xlink:href=\"#DejaVuSans-56\"/>\n      <use x=\"1765.849609\" xlink:href=\"#DejaVuSans-49\"/>\n      <use x=\"1829.472656\" xlink:href=\"#DejaVuSans-41\"/>\n     </g>\n    </g>\n   </g>\n  </g>\n </g>\n <defs>\n  <clipPath id=\"p207e690630\">\n   <rect height=\"217.44\" width=\"334.8\" x=\"43.78125\" y=\"7.2\"/>\n  </clipPath>\n </defs>\n</svg>\n",
      "image/png": "[encoded data removed]"
     },
     "metadata": {
      "needs_background": "light"
     }
    }
   ],
   "source": [
    "plot_roc_curve(class12_rf_balanced, atchley_factors_validate_balanced, labels_validate_balanced)  \n",
    "plt.show()"
   ]
  },
  {
   "source": [
    "Alright, it's a little more jagged, and less good, maybe it is better on the test dataset??"
   ],
   "cell_type": "markdown",
   "metadata": {}
  },
  {
   "cell_type": "code",
   "execution_count": 55,
   "metadata": {},
   "outputs": [
    {
     "output_type": "execute_result",
     "data": {
      "text/plain": [
       "array(['pos', 'pos', 'pos', 'pos', 'pos', 'pos', 'pos', 'pos', 'neg',\n",
       "       'pos', 'pos', 'neg', 'pos'], dtype=object)"
      ]
     },
     "metadata": {},
     "execution_count": 55
    }
   ],
   "source": [
    "test_positive_pred = class12_rf_balanced.predict(test_positive_atchley)\n",
    "test_positive_pred"
   ]
  },
  {
   "cell_type": "code",
   "execution_count": 56,
   "metadata": {},
   "outputs": [
    {
     "output_type": "execute_result",
     "data": {
      "text/plain": [
       "array(['neg', 'neg', 'neg', 'pos', 'neg', 'neg', 'pos', 'neg', 'pos',\n",
       "       'pos', 'neg', 'neg', 'neg', 'neg', 'neg', 'neg', 'neg', 'pos',\n",
       "       'pos', 'pos', 'pos', 'pos', 'pos', 'neg', 'pos', 'neg', 'pos',\n",
       "       'neg', 'neg', 'pos', 'neg', 'pos', 'neg', 'pos', 'pos', 'neg',\n",
       "       'pos', 'neg', 'neg', 'pos', 'pos', 'pos', 'pos', 'pos', 'neg',\n",
       "       'pos'], dtype=object)"
      ]
     },
     "metadata": {},
     "execution_count": 56
    }
   ],
   "source": [
    "test_negative_pred = class12_rf_balanced.predict(test_negative_atchley)\n",
    "test_negative_pred"
   ]
  },
  {
   "cell_type": "code",
   "execution_count": 58,
   "metadata": {},
   "outputs": [
    {
     "output_type": "execute_result",
     "data": {
      "text/plain": [
       "0.15384615384615385"
      ]
     },
     "metadata": {},
     "execution_count": 58
    }
   ],
   "source": [
    "false_negatives = list(test_positive_pred).count(\"neg\") / len(test_positive_pred)\n",
    "false_negatives"
   ]
  },
  {
   "cell_type": "code",
   "execution_count": 59,
   "metadata": {},
   "outputs": [
    {
     "output_type": "execute_result",
     "data": {
      "text/plain": [
       "0.5"
      ]
     },
     "metadata": {},
     "execution_count": 59
    }
   ],
   "source": [
    "false_positives = list(test_negative_pred).count(\"pos\") / len(test_negative_pred)\n",
    "false_positives"
   ]
  }
 ]
}